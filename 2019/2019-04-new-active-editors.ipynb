{
 "cells": [
  {
   "cell_type": "code",
   "execution_count": 1,
   "metadata": {},
   "outputs": [],
   "source": [
    "import matplotlib as mpl\n",
    "import matplotlib.pyplot as plt\n",
    "import pyspark.sql.functions as funcs\n",
    "from pyspark.sql.window import Window"
   ]
  },
  {
   "cell_type": "code",
   "execution_count": 2,
   "metadata": {},
   "outputs": [],
   "source": [
    "%matplotlib inline\n",
    "mpl.style.use({\n",
    "    \"font.size\": 16,\n",
    "    \"figure.figsize\": (14, 7),\n",
    "    \"axes.grid\": True,\n",
    "    \"axes.autolimit_mode\": \"data\",\n",
    "    \"axes.xmargin\": 0,\n",
    "    \"axes.ymargin\": 0\n",
    "})"
   ]
  },
  {
   "cell_type": "code",
   "execution_count": 9,
   "metadata": {},
   "outputs": [],
   "source": [
    "mwh = spark.read.parquet(\"/wmf/data/wmf/mediawiki/history/snapshot=2019-04\")\n",
    "ns_map_schema = \"\"\"\n",
    "    `hostname` string COMMENT 'Canonical URL for the project, for example ja.wikipedia.org', \n",
    "    `dbname` string COMMENT 'Database name for the project, for example jawiki', \n",
    "    `namespace` int COMMENT 'for example 0, 100, etc.', \n",
    "    `namespace_canonical_name` string COMMENT 'the english prefix if exists, otherwise the localized prefix', \n",
    "    `namespace_localized_name` string COMMENT 'the localized prefix', \n",
    "    `namespace_is_content` int COMMENT 'Whether this namespace is a content namespace'\n",
    "\"\"\"\n",
    "ns_map = spark.read.csv(\n",
    "    \"/wmf/data/raw/mediawiki/project_namespace_map/snapshot=2019-04\", \n",
    "    schema=ns_map_schema\n",
    ")"
   ]
  },
  {
   "cell_type": "code",
   "execution_count": 19,
   "metadata": {},
   "outputs": [],
   "source": [
    "join_conds = [\n",
    "    mwh.wiki_db == ns_map.dbname,\n",
    "    mwh.page_namespace == ns_map.namespace,\n",
    "    ns_map.namespace_is_content == 1\n",
    "]\n",
    "\n",
    "# new editor content edits (nece)\n",
    "nece = mwh.where(\"\"\"\n",
    "    event_entity = \"revision\" and\n",
    "    event_type = \"create\" and\n",
    "    event_timestamp between \"2018-04\" and \"2019-04\" and\n",
    "    event_user_registration_timestamp between \"2018-04\" and \"2018-10\" and\n",
    "    datediff(event_timestamp, event_user_registration_timestamp) <= 180\n",
    "\"\"\").join(ns_map, join_conds, how=\"inner\")"
   ]
  },
  {
   "cell_type": "code",
   "execution_count": 21,
   "metadata": {},
   "outputs": [],
   "source": [
    "w = Window.partitionBy([nece.wiki_db, nece.event_user_text]).orderBy(nece.event_timestamp)\n",
    "\n",
    "fcel = (\n",
    "    nece\n",
    "    .select(\n",
    "        \"wiki_db\",\n",
    "        \"event_user_text\",\n",
    "        \"event_timestamp\",\n",
    "        \"event_user_registration_timestamp\",\n",
    "        funcs.row_number().over(w).alias(\"content_edit_number\")\n",
    "    )\n",
    "    .where(\"content_edit_number = 5\")\n",
    "    .selectExpr(\n",
    "        \"wiki_db\",\n",
    "        \"event_user_text\",\n",
    "        \"datediff(event_timestamp, event_user_registration_timestamp) as days_to_fifth_content_edit\"\n",
    "    )\n",
    ").toPandas()"
   ]
  },
  {
   "cell_type": "code",
   "execution_count": 27,
   "metadata": {},
   "outputs": [
    {
     "data": {
      "text/html": [
       "<div>\n",
       "<table border=\"1\" class=\"dataframe\">\n",
       "  <thead>\n",
       "    <tr style=\"text-align: right;\">\n",
       "      <th></th>\n",
       "      <th>wiki_db</th>\n",
       "      <th>event_user_text</th>\n",
       "      <th>days_to_fifth_content_edit</th>\n",
       "    </tr>\n",
       "  </thead>\n",
       "  <tbody>\n",
       "    <tr>\n",
       "      <th>104160</th>\n",
       "      <td>enwiki</td>\n",
       "      <td>IPittman</td>\n",
       "      <td>1</td>\n",
       "    </tr>\n",
       "    <tr>\n",
       "      <th>93556</th>\n",
       "      <td>enwiki</td>\n",
       "      <td>Mosesaaron2000</td>\n",
       "      <td>13</td>\n",
       "    </tr>\n",
       "    <tr>\n",
       "      <th>40202</th>\n",
       "      <td>enwiki</td>\n",
       "      <td>Shamgar Mangida</td>\n",
       "      <td>0</td>\n",
       "    </tr>\n",
       "    <tr>\n",
       "      <th>38127</th>\n",
       "      <td>enwiki</td>\n",
       "      <td>Thereapers7</td>\n",
       "      <td>0</td>\n",
       "    </tr>\n",
       "    <tr>\n",
       "      <th>74591</th>\n",
       "      <td>enwiki</td>\n",
       "      <td>Ladyannu</td>\n",
       "      <td>0</td>\n",
       "    </tr>\n",
       "    <tr>\n",
       "      <th>44488</th>\n",
       "      <td>enwiki</td>\n",
       "      <td>Swimmingpiglet</td>\n",
       "      <td>0</td>\n",
       "    </tr>\n",
       "    <tr>\n",
       "      <th>16336</th>\n",
       "      <td>enwiki</td>\n",
       "      <td>Kale 4the masses</td>\n",
       "      <td>22</td>\n",
       "    </tr>\n",
       "    <tr>\n",
       "      <th>68088</th>\n",
       "      <td>enwiki</td>\n",
       "      <td>Jfuller44</td>\n",
       "      <td>19</td>\n",
       "    </tr>\n",
       "    <tr>\n",
       "      <th>126812</th>\n",
       "      <td>enwiki</td>\n",
       "      <td>Jmaxfield18</td>\n",
       "      <td>0</td>\n",
       "    </tr>\n",
       "    <tr>\n",
       "      <th>90656</th>\n",
       "      <td>enwiki</td>\n",
       "      <td>Charliehas23</td>\n",
       "      <td>3</td>\n",
       "    </tr>\n",
       "  </tbody>\n",
       "</table>\n",
       "</div>"
      ],
      "text/plain": [
       "       wiki_db   event_user_text  days_to_fifth_content_edit\n",
       "104160  enwiki          IPittman                           1\n",
       "93556   enwiki    Mosesaaron2000                          13\n",
       "40202   enwiki   Shamgar Mangida                           0\n",
       "38127   enwiki       Thereapers7                           0\n",
       "74591   enwiki          Ladyannu                           0\n",
       "44488   enwiki    Swimmingpiglet                           0\n",
       "16336   enwiki  Kale 4the masses                          22\n",
       "68088   enwiki         Jfuller44                          19\n",
       "126812  enwiki       Jmaxfield18                           0\n",
       "90656   enwiki      Charliehas23                           3"
      ]
     },
     "execution_count": 27,
     "metadata": {},
     "output_type": "execute_result"
    }
   ],
   "source": [
    "fcel.query(\"wiki_db == 'enwiki'\").sample(10)"
   ]
  },
  {
   "cell_type": "code",
   "execution_count": 43,
   "metadata": {},
   "outputs": [
    {
     "data": {
      "text/plain": [
       "count    140629.00000\n",
       "mean         18.71742\n",
       "std          36.87711\n",
       "min        -139.00000\n",
       "25%           0.00000\n",
       "50%           1.00000\n",
       "75%          16.00000\n",
       "max         180.00000\n",
       "Name: days_to_fifth_content_edit, dtype: float64"
      ]
     },
     "execution_count": 43,
     "metadata": {},
     "output_type": "execute_result"
    }
   ],
   "source": [
    "fcel[\"days_to_fifth_content_edit\"].describe()"
   ]
  },
  {
   "cell_type": "code",
   "execution_count": 42,
   "metadata": {},
   "outputs": [
    {
     "data": {
      "image/png": "[encoded data removed]",
      "text/plain": [
       "<matplotlib.figure.Figure at 0x7f23371efe48>"
      ]
     },
     "metadata": {},
     "output_type": "display_data"
    }
   ],
   "source": [
    "plt.hist(\n",
    "    fcel[\"days_to_fifth_content_edit\"],\n",
    "    bins=30,\n",
    "    range=(0, 30)\n",
    ");\n"
   ]
  },
  {
   "cell_type": "code",
   "execution_count": null,
   "metadata": {},
   "outputs": [],
   "source": []
  }
 ],
 "metadata": {
  "kernelspec": {
   "display_name": "PySpark - YARN",
   "language": "python",
   "name": "spark_yarn_pyspark"
  },
  "language_info": {
   "codemirror_mode": {
    "name": "ipython",
    "version": 3
   },
   "file_extension": ".py",
   "mimetype": "text/x-python",
   "name": "python",
   "nbconvert_exporter": "python",
   "pygments_lexer": "ipython3",
   "version": "3.5.3"
  }
 },
 "nbformat": 4,
 "nbformat_minor": 2
}
