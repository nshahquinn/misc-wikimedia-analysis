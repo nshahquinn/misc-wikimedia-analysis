{
 "cells": [
  {
   "cell_type": "code",
   "execution_count": 1,
   "metadata": {},
   "outputs": [
    {
     "name": "stderr",
     "output_type": "stream",
     "text": [
      "You can find the source for `wmfdata` at https://github.com/neilpquinn/wmfdata\n"
     ]
    }
   ],
   "source": [
    "import pandas as pd\n",
    "from wmfdata import hive, mariadb"
   ]
  },
  {
   "cell_type": "markdown",
   "metadata": {},
   "source": [
    "This query apparently overcounts monthly active administrators by several times."
   ]
  },
  {
   "cell_type": "code",
   "execution_count": 2,
   "metadata": {},
   "outputs": [],
   "source": [
    "maa_cur = hive.run(\"\"\"\n",
    "select \n",
    "    wiki as database_code,\n",
    "    round(sum(monthly_active_administrators) / 12, 0) as monthly_active_administrators\n",
    "from (\n",
    "    select\n",
    "        wiki_db as wiki,\n",
    "        substr(log_timestamp, 1, 6) as month,\n",
    "        count(distinct log_actor) as monthly_active_administrators\n",
    "    from wmf_raw.mediawiki_logging\n",
    "    where\n",
    "        log_type in (\"block\", \"protect\", \"delete\", \"rights\") and\n",
    "        log_timestamp >= \"{start}\" and\n",
    "        log_timestamp < \"{end}\" and\n",
    "        snapshot = \"{snapshot}\" and\n",
    "        wiki_db in (\"enwiki\", \"dewiki\", \"eswiki\", \"commonswiki\")\n",
    "    group by wiki_db, substr(log_timestamp, 1, 6)\n",
    ") mae\n",
    "group by wiki\n",
    "\"\"\".format(start=\"201808\", end=\"201908\", snapshot=\"2019-07\"))"
   ]
  },
  {
   "cell_type": "code",
   "execution_count": 44,
   "metadata": {},
   "outputs": [
    {
     "data": {
      "text/html": [
       "<style  type=\"text/css\" >\n",
       "</style><table id=\"T_90ba5dfa_ca60_11e9_807c_d094661b49a6\" ><thead>    <tr>        <th class=\"blank level0\" ></th>        <th class=\"col_heading level0 col0\" >monthly_active_administrators</th>    </tr>    <tr>        <th class=\"index_name level0\" >database_code</th>        <th class=\"blank\" ></th>    </tr></thead><tbody>\n",
       "                <tr>\n",
       "                        <th id=\"T_90ba5dfa_ca60_11e9_807c_d094661b49a6level0_row0\" class=\"row_heading level0 row0\" >commonswiki</th>\n",
       "                        <td id=\"T_90ba5dfa_ca60_11e9_807c_d094661b49a6row0_col0\" class=\"data row0 col0\" >182</td>\n",
       "            </tr>\n",
       "            <tr>\n",
       "                        <th id=\"T_90ba5dfa_ca60_11e9_807c_d094661b49a6level0_row1\" class=\"row_heading level0 row1\" >dewiki</th>\n",
       "                        <td id=\"T_90ba5dfa_ca60_11e9_807c_d094661b49a6row1_col0\" class=\"data row1 col0\" >448</td>\n",
       "            </tr>\n",
       "            <tr>\n",
       "                        <th id=\"T_90ba5dfa_ca60_11e9_807c_d094661b49a6level0_row2\" class=\"row_heading level0 row2\" >eswiki</th>\n",
       "                        <td id=\"T_90ba5dfa_ca60_11e9_807c_d094661b49a6row2_col0\" class=\"data row2 col0\" >189</td>\n",
       "            </tr>\n",
       "            <tr>\n",
       "                        <th id=\"T_90ba5dfa_ca60_11e9_807c_d094661b49a6level0_row3\" class=\"row_heading level0 row3\" >enwiki</th>\n",
       "                        <td id=\"T_90ba5dfa_ca60_11e9_807c_d094661b49a6row3_col0\" class=\"data row3 col0\" >1562</td>\n",
       "            </tr>\n",
       "    </tbody></table>"
      ],
      "text/plain": [
       "<pandas.io.formats.style.Styler at 0x7fbb63191b70>"
      ]
     },
     "execution_count": 44,
     "metadata": {},
     "output_type": "execute_result"
    }
   ],
   "source": [
    "maa_cur = maa_cur.set_index(\"database_code\")\n",
    "maa_cur.style.format(\"{:.0f}\")"
   ]
  },
  {
   "cell_type": "markdown",
   "metadata": {},
   "source": [
    "These issue seems to be that within the \"delete\", \"move\", and \"rights\" log types there are several actions that are widely done by non-admins, namely:\n",
    "* `delete`, `delete_redir`: a user deleted a redirect by moving the page that it redirected to on top of it\n",
    "* `move`, `move_prot`: a user moved a protected page (which regular users can do for semi-protected pages)\n",
    "* `rights`, `autopromote`: a user was automatically promoted into a group after reaching an edit or time threshold\n",
    "\n",
    "Explanation of some other non-obvious events:\n",
    "* `delete`, `event`: delete (that is, hide) a log entry\n",
    "* `delete`, `revision`: delete (that is, hide) a specific revision. The difference between this and suppression is that suppression hides it even from administrators."
   ]
  },
  {
   "cell_type": "code",
   "execution_count": 4,
   "metadata": {},
   "outputs": [
    {
     "data": {
      "text/html": [
       "<div>\n",
       "<style scoped>\n",
       "    .dataframe tbody tr th:only-of-type {\n",
       "        vertical-align: middle;\n",
       "    }\n",
       "\n",
       "    .dataframe tbody tr th {\n",
       "        vertical-align: top;\n",
       "    }\n",
       "\n",
       "    .dataframe thead th {\n",
       "        text-align: right;\n",
       "    }\n",
       "</style>\n",
       "<table border=\"1\" class=\"dataframe\">\n",
       "  <thead>\n",
       "    <tr style=\"text-align: right;\">\n",
       "      <th></th>\n",
       "      <th>log_type</th>\n",
       "      <th>log_action</th>\n",
       "    </tr>\n",
       "  </thead>\n",
       "  <tbody>\n",
       "    <tr>\n",
       "      <th>0</th>\n",
       "      <td>block</td>\n",
       "      <td>block</td>\n",
       "    </tr>\n",
       "    <tr>\n",
       "      <th>1</th>\n",
       "      <td>block</td>\n",
       "      <td>reblock</td>\n",
       "    </tr>\n",
       "    <tr>\n",
       "      <th>2</th>\n",
       "      <td>block</td>\n",
       "      <td>unblock</td>\n",
       "    </tr>\n",
       "    <tr>\n",
       "      <th>3</th>\n",
       "      <td>delete</td>\n",
       "      <td>delete</td>\n",
       "    </tr>\n",
       "    <tr>\n",
       "      <th>4</th>\n",
       "      <td>delete</td>\n",
       "      <td>delete_redir</td>\n",
       "    </tr>\n",
       "    <tr>\n",
       "      <th>5</th>\n",
       "      <td>delete</td>\n",
       "      <td>event</td>\n",
       "    </tr>\n",
       "    <tr>\n",
       "      <th>6</th>\n",
       "      <td>delete</td>\n",
       "      <td>flow-delete-post</td>\n",
       "    </tr>\n",
       "    <tr>\n",
       "      <th>7</th>\n",
       "      <td>delete</td>\n",
       "      <td>flow-delete-topic</td>\n",
       "    </tr>\n",
       "    <tr>\n",
       "      <th>8</th>\n",
       "      <td>delete</td>\n",
       "      <td>flow-restore-post</td>\n",
       "    </tr>\n",
       "    <tr>\n",
       "      <th>9</th>\n",
       "      <td>delete</td>\n",
       "      <td>flow-restore-topic</td>\n",
       "    </tr>\n",
       "    <tr>\n",
       "      <th>10</th>\n",
       "      <td>delete</td>\n",
       "      <td>restore</td>\n",
       "    </tr>\n",
       "    <tr>\n",
       "      <th>11</th>\n",
       "      <td>delete</td>\n",
       "      <td>revision</td>\n",
       "    </tr>\n",
       "    <tr>\n",
       "      <th>12</th>\n",
       "      <td>protect</td>\n",
       "      <td>modify</td>\n",
       "    </tr>\n",
       "    <tr>\n",
       "      <th>13</th>\n",
       "      <td>protect</td>\n",
       "      <td>move_prot</td>\n",
       "    </tr>\n",
       "    <tr>\n",
       "      <th>14</th>\n",
       "      <td>protect</td>\n",
       "      <td>protect</td>\n",
       "    </tr>\n",
       "    <tr>\n",
       "      <th>15</th>\n",
       "      <td>protect</td>\n",
       "      <td>unprotect</td>\n",
       "    </tr>\n",
       "    <tr>\n",
       "      <th>16</th>\n",
       "      <td>rights</td>\n",
       "      <td>autopromote</td>\n",
       "    </tr>\n",
       "    <tr>\n",
       "      <th>17</th>\n",
       "      <td>rights</td>\n",
       "      <td>rights</td>\n",
       "    </tr>\n",
       "  </tbody>\n",
       "</table>\n",
       "</div>"
      ],
      "text/plain": [
       "   log_type          log_action\n",
       "0     block               block\n",
       "1     block             reblock\n",
       "2     block             unblock\n",
       "3    delete              delete\n",
       "4    delete        delete_redir\n",
       "5    delete               event\n",
       "6    delete    flow-delete-post\n",
       "7    delete   flow-delete-topic\n",
       "8    delete   flow-restore-post\n",
       "9    delete  flow-restore-topic\n",
       "10   delete             restore\n",
       "11   delete            revision\n",
       "12  protect              modify\n",
       "13  protect           move_prot\n",
       "14  protect             protect\n",
       "15  protect           unprotect\n",
       "16   rights         autopromote\n",
       "17   rights              rights"
      ]
     },
     "execution_count": 4,
     "metadata": {},
     "output_type": "execute_result"
    }
   ],
   "source": [
    "mariadb.run(\"\"\"\n",
    "select distinct log_type, log_action\n",
    "from logging\n",
    "where log_type in ('block', 'protect', 'delete', 'rights')\n",
    "\"\"\", \"enwiki\")"
   ]
  },
  {
   "cell_type": "code",
   "execution_count": 5,
   "metadata": {},
   "outputs": [],
   "source": [
    "maa_new = hive.run(\"\"\"\n",
    "select \n",
    "    wiki as database_code,\n",
    "    sum(monthly_active_administrators) / 12 as monthly_active_administrators\n",
    "from (\n",
    "    select\n",
    "        wiki_db as wiki,\n",
    "        substr(log_timestamp, 1, 6) as month,\n",
    "        count(distinct log_actor) as monthly_active_administrators\n",
    "    from wmf_raw.mediawiki_logging\n",
    "    where\n",
    "        log_type in (\"block\", \"delete\", \"protect\", \"rights\") and\n",
    "        -- Omit the \"delete_redir\", \"move_prot\", and \"autopromote\" actions, which can be done by regular users\n",
    "        log_action not in (\"autopromote\", \"delete_redir\", \"move_prot\")\n",
    "        log_timestamp >= \"{start}\" and\n",
    "        log_timestamp < \"{end}\" and\n",
    "        snapshot = \"{snapshot}\" and\n",
    "    -- TEST\n",
    "        wiki_db in (\"enwiki\", \"dewiki\", \"eswiki\", \"commonswiki\")\n",
    "    group by wiki_db, substr(log_timestamp, 1, 6)\n",
    ") mae\n",
    "group by wiki\n",
    "\"\"\".format(start=\"201808\", end=\"201908\", snapshot=\"2019-07\"))"
   ]
  },
  {
   "cell_type": "markdown",
   "metadata": {},
   "source": [
    "Excluding those actions, the numbers are much lower:"
   ]
  },
  {
   "cell_type": "code",
   "execution_count": 45,
   "metadata": {},
   "outputs": [
    {
     "data": {
      "text/html": [
       "<style  type=\"text/css\" >\n",
       "</style><table id=\"T_f71e2dce_ca60_11e9_807c_d094661b49a6\" ><thead>    <tr>        <th class=\"blank level0\" ></th>        <th class=\"col_heading level0 col0\" >monthly_active_administrators_old</th>        <th class=\"col_heading level0 col1\" >monthly_active_administrators_new</th>    </tr>    <tr>        <th class=\"index_name level0\" >database_code</th>        <th class=\"blank\" ></th>        <th class=\"blank\" ></th>    </tr></thead><tbody>\n",
       "                <tr>\n",
       "                        <th id=\"T_f71e2dce_ca60_11e9_807c_d094661b49a6level0_row0\" class=\"row_heading level0 row0\" >commonswiki</th>\n",
       "                        <td id=\"T_f71e2dce_ca60_11e9_807c_d094661b49a6row0_col0\" class=\"data row0 col0\" >182</td>\n",
       "                        <td id=\"T_f71e2dce_ca60_11e9_807c_d094661b49a6row0_col1\" class=\"data row0 col1\" >164</td>\n",
       "            </tr>\n",
       "            <tr>\n",
       "                        <th id=\"T_f71e2dce_ca60_11e9_807c_d094661b49a6level0_row1\" class=\"row_heading level0 row1\" >dewiki</th>\n",
       "                        <td id=\"T_f71e2dce_ca60_11e9_807c_d094661b49a6row1_col0\" class=\"data row1 col0\" >448</td>\n",
       "                        <td id=\"T_f71e2dce_ca60_11e9_807c_d094661b49a6row1_col1\" class=\"data row1 col1\" >132</td>\n",
       "            </tr>\n",
       "            <tr>\n",
       "                        <th id=\"T_f71e2dce_ca60_11e9_807c_d094661b49a6level0_row2\" class=\"row_heading level0 row2\" >eswiki</th>\n",
       "                        <td id=\"T_f71e2dce_ca60_11e9_807c_d094661b49a6row2_col0\" class=\"data row2 col0\" >189</td>\n",
       "                        <td id=\"T_f71e2dce_ca60_11e9_807c_d094661b49a6row2_col1\" class=\"data row2 col1\" >55</td>\n",
       "            </tr>\n",
       "            <tr>\n",
       "                        <th id=\"T_f71e2dce_ca60_11e9_807c_d094661b49a6level0_row3\" class=\"row_heading level0 row3\" >enwiki</th>\n",
       "                        <td id=\"T_f71e2dce_ca60_11e9_807c_d094661b49a6row3_col0\" class=\"data row3 col0\" >1562</td>\n",
       "                        <td id=\"T_f71e2dce_ca60_11e9_807c_d094661b49a6row3_col1\" class=\"data row3 col1\" >426</td>\n",
       "            </tr>\n",
       "    </tbody></table>"
      ],
      "text/plain": [
       "<pandas.io.formats.style.Styler at 0x7fbb6319d208>"
      ]
     },
     "execution_count": 45,
     "metadata": {},
     "output_type": "execute_result"
    }
   ],
   "source": [
    "maa_new = maa_new.set_index(\"database_code\")\n",
    "maa_cur.merge(maa_new, on=\"database_code\", suffixes=(\"_old\", \"_new\")).style.format(\"{:.0f}\")"
   ]
  },
  {
   "cell_type": "code",
   "execution_count": 46,
   "metadata": {},
   "outputs": [],
   "source": [
    "maa_sample = hive.run(\"\"\"\n",
    "select\n",
    "    actor_name as user_name,\n",
    "    coalesce(ug_group = \"sysop\", false) as is_admin,\n",
    "    count(*) as admin_actions,\n",
    "    wiki_db as wiki\n",
    "from wmf_raw.mediawiki_logging log\n",
    "inner join wmf_raw.mediawiki_private_actor actor\n",
    "on\n",
    "    log_actor = actor_id and\n",
    "    log.wiki_db = actor.wiki_db and\n",
    "    log.wiki_db in (\"commonswiki\", \"dewiki\", \"enwiki\", \"eswiki\") and\n",
    "    log_type in (\"block\", \"protect\", \"delete\", \"rights\") and\n",
    "    -- Regular users can move pages over redirects, move semi-protected pages, or be autopromoted\n",
    "    log_action not in (\"autopromote\", \"delete_redir\", \"move_prot\") and\n",
    "    log_timestamp between \"201901\" and \"201902\" and\n",
    "    log.snapshot = \"2019-07\" and\n",
    "    actor.snapshot = \"2019-07\"\n",
    "left join wmf_raw.mediawiki_user_groups groups\n",
    "on\n",
    "    actor_user = ug_user and\n",
    "    actor.wiki_db = groups.wiki_db and\n",
    "    ug_group = \"sysop\" and\n",
    "    groups.snapshot = \"2019-07\"\n",
    "group by actor_name, log.wiki_db, ug_group\n",
    "\"\"\")"
   ]
  },
  {
   "cell_type": "markdown",
   "metadata": {},
   "source": [
    "Looking at the users captured by this definition in January 2019, the vast majority (93% at the English Wikipedia, 96%+ elsewhere) are currently administrators."
   ]
  },
  {
   "cell_type": "code",
   "execution_count": 47,
   "metadata": {},
   "outputs": [
    {
     "data": {
      "text/html": [
       "<div>\n",
       "<style scoped>\n",
       "    .dataframe tbody tr th:only-of-type {\n",
       "        vertical-align: middle;\n",
       "    }\n",
       "\n",
       "    .dataframe tbody tr th {\n",
       "        vertical-align: top;\n",
       "    }\n",
       "\n",
       "    .dataframe thead th {\n",
       "        text-align: right;\n",
       "    }\n",
       "</style>\n",
       "<table border=\"1\" class=\"dataframe\">\n",
       "  <thead>\n",
       "    <tr style=\"text-align: right;\">\n",
       "      <th></th>\n",
       "      <th>active apparent admins</th>\n",
       "      <th>true admin proportion</th>\n",
       "    </tr>\n",
       "    <tr>\n",
       "      <th>wiki</th>\n",
       "      <th></th>\n",
       "      <th></th>\n",
       "    </tr>\n",
       "  </thead>\n",
       "  <tbody>\n",
       "    <tr>\n",
       "      <th>commonswiki</th>\n",
       "      <td>168.0</td>\n",
       "      <td>0.988095</td>\n",
       "    </tr>\n",
       "    <tr>\n",
       "      <th>dewiki</th>\n",
       "      <td>141.0</td>\n",
       "      <td>0.957447</td>\n",
       "    </tr>\n",
       "    <tr>\n",
       "      <th>enwiki</th>\n",
       "      <td>439.0</td>\n",
       "      <td>0.931663</td>\n",
       "    </tr>\n",
       "    <tr>\n",
       "      <th>eswiki</th>\n",
       "      <td>58.0</td>\n",
       "      <td>0.965517</td>\n",
       "    </tr>\n",
       "  </tbody>\n",
       "</table>\n",
       "</div>"
      ],
      "text/plain": [
       "             active apparent admins  true admin proportion\n",
       "wiki                                                      \n",
       "commonswiki                   168.0               0.988095\n",
       "dewiki                        141.0               0.957447\n",
       "enwiki                        439.0               0.931663\n",
       "eswiki                         58.0               0.965517"
      ]
     },
     "execution_count": 47,
     "metadata": {},
     "output_type": "execute_result"
    }
   ],
   "source": [
    "def admins_agg(group):\n",
    "    aggs = {\n",
    "        \"active apparent admins\": len(group),\n",
    "        \"true admin proportion\": len(group.query(\"is_admin\")) / len(group)\n",
    "    }\n",
    "    \n",
    "    return pd.Series(aggs, index=aggs.keys())\n",
    "\n",
    "maa_sample.groupby(\"wiki\").apply(admins_agg)"
   ]
  },
  {
   "cell_type": "markdown",
   "metadata": {},
   "source": [
    "The non-admins counted by our query fall into three groups\n",
    "* **Former administrators**: 28bytes, Alex Shih, Ansh666, Ariel Cetrone (WMDC), Beetstra, Boing! said Zebedee, DaB., Deor, DoRD,  Enigmaman, Euryalus, Floquenbeam, Fram, GB fan, Gruznov, Kenny McFly, Kusma, Magiers, MSGJ, Nakon, Neozoon, Od Mishehu, Regiomontanus, Renamed user mou89p43twvqcvm8ut9w3, Spartaz, Voice of Clam, WJBscribe\n",
    "* **Users with a limited right to change others' rights**: \n",
    " * **Event coordinators on English Wikipedia**: Andrew Davidson, Another Believer, Delphine Dallison, Lirazelf, Wugapodes\n",
    " * **Image reviewer on Commons**: Nemo bis\n",
    "* **Global maintainers**: \n",
    " * **Stewards**: -revi, Ajraddatz, HakanIST\n",
    " * **Global deleter**: Pathoschild\n",
    " * **Global interface editing script**: MediaWiki default"
   ]
  },
  {
   "cell_type": "code",
   "execution_count": 73,
   "metadata": {},
   "outputs": [
    {
     "data": {
      "text/html": [
       "<div>\n",
       "<style scoped>\n",
       "    .dataframe tbody tr th:only-of-type {\n",
       "        vertical-align: middle;\n",
       "    }\n",
       "\n",
       "    .dataframe tbody tr th {\n",
       "        vertical-align: top;\n",
       "    }\n",
       "\n",
       "    .dataframe thead th {\n",
       "        text-align: right;\n",
       "    }\n",
       "</style>\n",
       "<table border=\"1\" class=\"dataframe\">\n",
       "  <thead>\n",
       "    <tr style=\"text-align: right;\">\n",
       "      <th></th>\n",
       "      <th>user_name</th>\n",
       "      <th>is_admin</th>\n",
       "      <th>admin_actions</th>\n",
       "      <th>wiki</th>\n",
       "    </tr>\n",
       "  </thead>\n",
       "  <tbody>\n",
       "    <tr>\n",
       "      <th>0</th>\n",
       "      <td>-revi</td>\n",
       "      <td>False</td>\n",
       "      <td>3</td>\n",
       "      <td>enwiki</td>\n",
       "    </tr>\n",
       "    <tr>\n",
       "      <th>1</th>\n",
       "      <td>28bytes</td>\n",
       "      <td>False</td>\n",
       "      <td>3</td>\n",
       "      <td>enwiki</td>\n",
       "    </tr>\n",
       "    <tr>\n",
       "      <th>2</th>\n",
       "      <td>Ajraddatz</td>\n",
       "      <td>False</td>\n",
       "      <td>2</td>\n",
       "      <td>enwiki</td>\n",
       "    </tr>\n",
       "    <tr>\n",
       "      <th>3</th>\n",
       "      <td>Alex Shih</td>\n",
       "      <td>False</td>\n",
       "      <td>1</td>\n",
       "      <td>enwiki</td>\n",
       "    </tr>\n",
       "    <tr>\n",
       "      <th>4</th>\n",
       "      <td>Andrew Davidson</td>\n",
       "      <td>False</td>\n",
       "      <td>7</td>\n",
       "      <td>enwiki</td>\n",
       "    </tr>\n",
       "  </tbody>\n",
       "</table>\n",
       "</div>"
      ],
      "text/plain": [
       "         user_name  is_admin  admin_actions    wiki\n",
       "0            -revi     False              3  enwiki\n",
       "1          28bytes     False              3  enwiki\n",
       "2        Ajraddatz     False              2  enwiki\n",
       "3        Alex Shih     False              1  enwiki\n",
       "4  Andrew Davidson     False              7  enwiki"
      ]
     },
     "execution_count": 73,
     "metadata": {},
     "output_type": "execute_result"
    }
   ],
   "source": [
    "non_admins = maa_sample.query(\"~is_admin\").reset_index(drop=True)\n",
    "non_admins.head()"
   ]
  }
 ],
 "metadata": {
  "kernelspec": {
   "display_name": "Python 3",
   "language": "python",
   "name": "python3"
  },
  "language_info": {
   "codemirror_mode": {
    "name": "ipython",
    "version": 3
   },
   "file_extension": ".py",
   "mimetype": "text/x-python",
   "name": "python",
   "nbconvert_exporter": "python",
   "pygments_lexer": "ipython3",
   "version": "3.5.3"
  }
 },
 "nbformat": 4,
 "nbformat_minor": 4
}
