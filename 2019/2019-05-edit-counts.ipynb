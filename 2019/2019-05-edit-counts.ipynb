{
 "cells": [
  {
   "cell_type": "code",
   "execution_count": null,
   "metadata": {},
   "outputs": [],
   "source": [
    "import matplotlib as mpl\n",
    "import matplotlib.pyplot as plt\n",
    "import pyspark.sql.functions as funcs\n",
    "from pyspark.sql.window import Window"
   ]
  },
  {
   "cell_type": "code",
   "execution_count": null,
   "metadata": {},
   "outputs": [],
   "source": [
    "%matplotlib inline\n",
    "mpl.style.use({\n",
    "    \"font.size\": 16,\n",
    "    \"figure.figsize\": (14, 7),\n",
    "    \"axes.grid\": True,\n",
    "    \"axes.autolimit_mode\": \"data\",\n",
    "    \"axes.xmargin\": 0,\n",
    "    \"axes.ymargin\": 0\n",
    "})"
   ]
  },
  {
   "cell_type": "code",
   "execution_count": 3,
   "metadata": {},
   "outputs": [],
   "source": [
    "mwh = spark.read.parquet(\"/wmf/data/wmf/mediawiki/history/snapshot=2019-04\")\n",
    "\n",
    "ns_map_schema = \"\"\"\n",
    "    `hostname` string COMMENT 'Canonical URL for the project, for example ja.wikipedia.org', \n",
    "    `dbname` string COMMENT 'Database name for the project, for example jawiki', \n",
    "    `namespace` int COMMENT 'for example 0, 100, etc.', \n",
    "    `namespace_canonical_name` string COMMENT 'the english prefix if exists, otherwise the localized prefix', \n",
    "    `namespace_localized_name` string COMMENT 'the localized prefix', \n",
    "    `namespace_is_content` int COMMENT 'Whether this namespace is a content namespace'\n",
    "\"\"\"\n",
    "ns_map = spark.read.csv(\n",
    "    \"/wmf/data/raw/mediawiki/project_namespace_map/snapshot=2019-04\", \n",
    "    schema=ns_map_schema\n",
    ")"
   ]
  },
  {
   "cell_type": "code",
   "execution_count": null,
   "metadata": {},
   "outputs": [],
   "source": [
    "join_conds = [\n",
    "    mwh.wiki_db == ns_map.dbname,\n",
    "    mwh.page_namespace == ns_map.namespace\n",
    "]\n",
    "\n",
    "apr_content_edits = (\n",
    "    mwh.\n",
    "    filter(\"\"\"\n",
    "        event_entity = \"revision\" and\n",
    "        event_type = \"create\" and\n",
    "        event_timestamp between \"2019-04\" and \"2019-05\" and\n",
    "        event_user_id != 0\n",
    "    \"\"\").\n",
    "    join(ns_map, join_conds, how=\"inner\").\n",
    "    filter(\"namespace_is_content = 1\")\n",
    ")\n",
    "\n",
    "apr_active_eds = (\n",
    "    apr_content_edits.\n",
    "    groupBy(\"event_user_text\").\n",
    "    count().\n",
    "    withColumnRenamed(\"count\", \"content_edits\").\n",
    "    filter(\"content_edits >= 5\").\n",
    "    selectExpr(\"event_user_text as user_name\")\n",
    ")"
   ]
  },
  {
   "cell_type": "code",
   "execution_count": null,
   "metadata": {},
   "outputs": [],
   "source": [
    "edits = mwh.filter(\"\"\"\n",
    "    event_entity = \"revision\" and \n",
    "    event_type = \"create\"\n",
    "\"\"\")\n",
    "\n",
    "# This part dies even with a large kernel!\n",
    "edit_counts = (\n",
    "    apr_active_eds.\n",
    "    join(\n",
    "        edits,\n",
    "        [apr_active_eds.user_name == edits.event_user_text],\n",
    "        how=\"left\"\n",
    "    ).\n",
    "    groupBy(\"event_user_text\").\n",
    "    count().\n",
    "    withColumnRenamed(\"count\", \"edits\")\n",
    ")\n",
    "\n",
    "edit_counts()"
   ]
  },
  {
   "cell_type": "code",
   "execution_count": null,
   "metadata": {},
   "outputs": [],
   "source": [
    "edit_counts.count()"
   ]
  },
  {
   "cell_type": "code",
   "execution_count": null,
   "metadata": {},
   "outputs": [],
   "source": [
    "edit_counts[\"edits\"].plot.box()"
   ]
  },
  {
   "cell_type": "markdown",
   "metadata": {},
   "source": []
  }
 ],
 "metadata": {
  "kernelspec": {
   "display_name": "Python 3",
   "language": "python",
   "name": "python3"
  },
  "language_info": {
   "codemirror_mode": {
    "name": "ipython",
    "version": 3
   },
   "file_extension": ".py",
   "mimetype": "text/x-python",
   "name": "python",
   "nbconvert_exporter": "python",
   "pygments_lexer": "ipython3",
   "version": "3.7.10"
  }
 },
 "nbformat": 4,
 "nbformat_minor": 4
}
