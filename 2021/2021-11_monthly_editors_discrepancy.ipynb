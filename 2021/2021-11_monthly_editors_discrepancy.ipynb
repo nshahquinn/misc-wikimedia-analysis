{
 "cells": [
  {
   "cell_type": "code",
   "execution_count": 13,
   "id": "78ecda27",
   "metadata": {},
   "outputs": [],
   "source": [
    "import pandas as pd\n",
    "import wmfdata as wmf"
   ]
  },
  {
   "cell_type": "markdown",
   "id": "5406b699",
   "metadata": {},
   "source": [
    "We've found a discrepancy by the monthly editor counts reported by Wikistats and the wiki comparison tool. More information in [T293660](https://phabricator.wikimedia.org/T293660)."
   ]
  },
  {
   "cell_type": "markdown",
   "id": "12b4358b",
   "metadata": {},
   "source": [
    "## Wikistats values"
   ]
  },
  {
   "cell_type": "markdown",
   "id": "6c029eb5",
   "metadata": {},
   "source": [
    "For this investigation, I'll look at the average monthly editor count during 2020 at various wikis. Here are the Wikistats and wiki comparison values, showing the discrepancy."
   ]
  },
  {
   "cell_type": "code",
   "execution_count": 14,
   "id": "b37a3319",
   "metadata": {},
   "outputs": [],
   "source": [
    "monthly_editors = pd.DataFrame({\n",
    "    \"wiki\": [\"enwiki\", \"eswiki\", \"commonswiki\", \"kowiki\"],\n",
    "    \"wikistats\": [131860, 17157, 34702, 2436],\n",
    "    \"wiki_comparison\": [139341, 19042, 41917, 2516]\n",
    "})"
   ]
  },
  {
   "cell_type": "code",
   "execution_count": 15,
   "id": "80bb2870",
   "metadata": {},
   "outputs": [
    {
     "data": {
      "text/html": [
       "<div>\n",
       "<style scoped>\n",
       "    .dataframe tbody tr th:only-of-type {\n",
       "        vertical-align: middle;\n",
       "    }\n",
       "\n",
       "    .dataframe tbody tr th {\n",
       "        vertical-align: top;\n",
       "    }\n",
       "\n",
       "    .dataframe thead th {\n",
       "        text-align: right;\n",
       "    }\n",
       "</style>\n",
       "<table border=\"1\" class=\"dataframe\">\n",
       "  <thead>\n",
       "    <tr style=\"text-align: right;\">\n",
       "      <th></th>\n",
       "      <th>wiki</th>\n",
       "      <th>wikistats</th>\n",
       "      <th>wiki_comparison</th>\n",
       "    </tr>\n",
       "  </thead>\n",
       "  <tbody>\n",
       "    <tr>\n",
       "      <th>0</th>\n",
       "      <td>enwiki</td>\n",
       "      <td>131860</td>\n",
       "      <td>139341</td>\n",
       "    </tr>\n",
       "    <tr>\n",
       "      <th>1</th>\n",
       "      <td>eswiki</td>\n",
       "      <td>17157</td>\n",
       "      <td>19042</td>\n",
       "    </tr>\n",
       "    <tr>\n",
       "      <th>2</th>\n",
       "      <td>commonswiki</td>\n",
       "      <td>34702</td>\n",
       "      <td>41917</td>\n",
       "    </tr>\n",
       "    <tr>\n",
       "      <th>3</th>\n",
       "      <td>kowiki</td>\n",
       "      <td>2436</td>\n",
       "      <td>2516</td>\n",
       "    </tr>\n",
       "  </tbody>\n",
       "</table>\n",
       "</div>"
      ],
      "text/plain": [
       "          wiki  wikistats  wiki_comparison\n",
       "0       enwiki     131860           139341\n",
       "1       eswiki      17157            19042\n",
       "2  commonswiki      34702            41917\n",
       "3       kowiki       2436             2516"
      ]
     },
     "execution_count": 15,
     "metadata": {},
     "output_type": "execute_result"
    }
   ],
   "source": [
    "monthly_editors"
   ]
  },
  {
   "cell_type": "markdown",
   "id": "7f7d6f4a",
   "metadata": {},
   "source": [
    "## Wiki comparison query"
   ]
  },
  {
   "cell_type": "markdown",
   "id": "fedc8d83",
   "metadata": {},
   "source": [
    "If I re-run the query used to generate the wiki comparison dataset, I still get results that are very close to the ones shown in the wiki comparison tool."
   ]
  },
  {
   "cell_type": "code",
   "execution_count": 16,
   "id": "0dfcb09d",
   "metadata": {},
   "outputs": [
    {
     "name": "stderr",
     "output_type": "stream",
     "text": [
      "PySpark executors will use /usr/lib/anaconda-wmf/bin/python3.\n"
     ]
    }
   ],
   "source": [
    "wiki_comparison_recalculation = wmf.spark.run(\"\"\"\n",
    "SELECT\n",
    "    wiki,\n",
    "    COUNT(*) / 12 AS wiki_comparison_recalculation\n",
    "FROM cchen.editor_month\n",
    "WHERE\n",
    "    month >= \"2020-01\" \n",
    "    AND month < \"2021-01\" \n",
    "    AND user_id != 0 \n",
    "    AND bot_by_group = FALSE\n",
    "    AND (user_name not regexp \"bot\\\\b\" or user_name in (\"Paucabot\", \"Niabot\", \"Marbot\"))\n",
    "    AND wiki IN (\"enwiki\", \"eswiki\", \"commonswiki\", \"kowiki\")\n",
    "GROUP BY wiki\n",
    "\"\"\", session_type=\"yarn-large\")\n",
    "\n",
    "monthly_editors = monthly_editors.merge(wiki_comparison_recalculation, how=\"inner\", on=\"wiki\")\n",
    "monthly_editors[\"wiki_comparison_recalculation\"] = monthly_editors[\"wiki_comparison_recalculation\"].round().apply(int)"
   ]
  },
  {
   "cell_type": "code",
   "execution_count": 17,
   "id": "839f4aa2",
   "metadata": {},
   "outputs": [
    {
     "data": {
      "text/html": [
       "<div>\n",
       "<style scoped>\n",
       "    .dataframe tbody tr th:only-of-type {\n",
       "        vertical-align: middle;\n",
       "    }\n",
       "\n",
       "    .dataframe tbody tr th {\n",
       "        vertical-align: top;\n",
       "    }\n",
       "\n",
       "    .dataframe thead th {\n",
       "        text-align: right;\n",
       "    }\n",
       "</style>\n",
       "<table border=\"1\" class=\"dataframe\">\n",
       "  <thead>\n",
       "    <tr style=\"text-align: right;\">\n",
       "      <th></th>\n",
       "      <th>wiki</th>\n",
       "      <th>wikistats</th>\n",
       "      <th>wiki_comparison</th>\n",
       "      <th>wiki_comparison_recalculation</th>\n",
       "    </tr>\n",
       "  </thead>\n",
       "  <tbody>\n",
       "    <tr>\n",
       "      <th>0</th>\n",
       "      <td>enwiki</td>\n",
       "      <td>131860</td>\n",
       "      <td>139341</td>\n",
       "      <td>138415</td>\n",
       "    </tr>\n",
       "    <tr>\n",
       "      <th>1</th>\n",
       "      <td>eswiki</td>\n",
       "      <td>17157</td>\n",
       "      <td>19042</td>\n",
       "      <td>19069</td>\n",
       "    </tr>\n",
       "    <tr>\n",
       "      <th>2</th>\n",
       "      <td>commonswiki</td>\n",
       "      <td>34702</td>\n",
       "      <td>41917</td>\n",
       "      <td>41894</td>\n",
       "    </tr>\n",
       "    <tr>\n",
       "      <th>3</th>\n",
       "      <td>kowiki</td>\n",
       "      <td>2436</td>\n",
       "      <td>2516</td>\n",
       "      <td>2522</td>\n",
       "    </tr>\n",
       "  </tbody>\n",
       "</table>\n",
       "</div>"
      ],
      "text/plain": [
       "          wiki  wikistats  wiki_comparison  wiki_comparison_recalculation\n",
       "0       enwiki     131860           139341                         138415\n",
       "1       eswiki      17157            19042                          19069\n",
       "2  commonswiki      34702            41917                          41894\n",
       "3       kowiki       2436             2516                           2522"
      ]
     },
     "execution_count": 17,
     "metadata": {},
     "output_type": "execute_result"
    }
   ],
   "source": [
    "monthly_editors"
   ]
  },
  {
   "cell_type": "markdown",
   "id": "814734f2",
   "metadata": {},
   "source": [
    "## Wiki comparison query, bypassing `editor_month`"
   ]
  },
  {
   "cell_type": "markdown",
   "id": "ce14d272",
   "metadata": {},
   "source": [
    "The wiki comparison query drawn from an intermediate table, `cchen.editor_month`. If I rewrite the query to incorporate the relevant parts from the query that generates `cchen.editor_month`, I also get results close to the original ones."
   ]
  },
  {
   "cell_type": "code",
   "execution_count": 18,
   "id": "3cc75ac8",
   "metadata": {},
   "outputs": [
    {
     "name": "stderr",
     "output_type": "stream",
     "text": [
      "PySpark executors will use /usr/lib/anaconda-wmf/bin/python3.\n"
     ]
    }
   ],
   "source": [
    "wiki_comparison_recalculation_2 = wmf.spark.run(\"\"\"\n",
    "SELECT\n",
    "    wiki,\n",
    "    (SUM(editors) / 12) AS wiki_comparison_recalculation_2\n",
    "FROM (\n",
    "    SELECT\n",
    "        TRUNC(event_timestamp, \"MONTH\") AS month,\n",
    "        wiki_db AS wiki,\n",
    "        COUNT(DISTINCT event_user_text) AS editors\n",
    "    FROM wmf.mediawiki_history mwh\n",
    "    INNER JOIN canonical_data.wikis cdw\n",
    "    ON\n",
    "        wiki_db = database_code\n",
    "        AND database_group IN (\n",
    "            \"commons\", \"incubator\", \"foundation\", \"mediawiki\", \"meta\", \"sources\", \n",
    "            \"species\",\"wikibooks\", \"wikidata\", \"wikinews\", \"wikipedia\", \"wikiquote\",\n",
    "            \"wikisource\", \"wikiversity\", \"wikivoyage\", \"wiktionary\"\n",
    "        )\n",
    "    WHERE\n",
    "        event_timestamp BETWEEN \"2020-01-01 00:00:00.0\" AND \"2021-01-01 00:00:00.0\"\n",
    "        AND SIZE(event_user_is_bot_by) = 0\n",
    "        AND SIZE(event_user_is_bot_by_historical) = 0\n",
    "        AND event_entity = \"revision\"\n",
    "        AND event_type = \"create\"\n",
    "        AND snapshot = \"2021-10\"\n",
    "    GROUP BY\n",
    "        TRUNC(event_timestamp, \"MONTH\"),\n",
    "        wiki_db\n",
    ") monthly_wiki_editors\n",
    "GROUP BY wiki\n",
    "\"\"\", session_type=\"yarn-large\")\n",
    "\n",
    "monthly_editors = monthly_editors.merge(wiki_comparison_recalculation_2, how=\"inner\", on=\"wiki\")\n",
    "monthly_editors[\"wiki_comparison_recalculation_2\"] = monthly_editors[\"wiki_comparison_recalculation_2\"].round().apply(int)"
   ]
  },
  {
   "cell_type": "code",
   "execution_count": 19,
   "id": "20ad0f0d",
   "metadata": {},
   "outputs": [
    {
     "data": {
      "text/html": [
       "<div>\n",
       "<style scoped>\n",
       "    .dataframe tbody tr th:only-of-type {\n",
       "        vertical-align: middle;\n",
       "    }\n",
       "\n",
       "    .dataframe tbody tr th {\n",
       "        vertical-align: top;\n",
       "    }\n",
       "\n",
       "    .dataframe thead th {\n",
       "        text-align: right;\n",
       "    }\n",
       "</style>\n",
       "<table border=\"1\" class=\"dataframe\">\n",
       "  <thead>\n",
       "    <tr style=\"text-align: right;\">\n",
       "      <th></th>\n",
       "      <th>wiki</th>\n",
       "      <th>wikistats</th>\n",
       "      <th>wiki_comparison</th>\n",
       "      <th>wiki_comparison_recalculation</th>\n",
       "      <th>wiki_comparison_recalculation_2</th>\n",
       "    </tr>\n",
       "  </thead>\n",
       "  <tbody>\n",
       "    <tr>\n",
       "      <th>0</th>\n",
       "      <td>enwiki</td>\n",
       "      <td>131860</td>\n",
       "      <td>139341</td>\n",
       "      <td>138415</td>\n",
       "      <td>139576</td>\n",
       "    </tr>\n",
       "    <tr>\n",
       "      <th>1</th>\n",
       "      <td>eswiki</td>\n",
       "      <td>17157</td>\n",
       "      <td>19042</td>\n",
       "      <td>19069</td>\n",
       "      <td>19068</td>\n",
       "    </tr>\n",
       "    <tr>\n",
       "      <th>2</th>\n",
       "      <td>commonswiki</td>\n",
       "      <td>34702</td>\n",
       "      <td>41917</td>\n",
       "      <td>41894</td>\n",
       "      <td>42042</td>\n",
       "    </tr>\n",
       "    <tr>\n",
       "      <th>3</th>\n",
       "      <td>kowiki</td>\n",
       "      <td>2436</td>\n",
       "      <td>2516</td>\n",
       "      <td>2522</td>\n",
       "      <td>2521</td>\n",
       "    </tr>\n",
       "  </tbody>\n",
       "</table>\n",
       "</div>"
      ],
      "text/plain": [
       "          wiki  wikistats  wiki_comparison  wiki_comparison_recalculation  \\\n",
       "0       enwiki     131860           139341                         138415   \n",
       "1       eswiki      17157            19042                          19069   \n",
       "2  commonswiki      34702            41917                          41894   \n",
       "3       kowiki       2436             2516                           2522   \n",
       "\n",
       "   wiki_comparison_recalculation_2  \n",
       "0                           139576  \n",
       "1                            19068  \n",
       "2                            42042  \n",
       "3                             2521  "
      ]
     },
     "execution_count": 19,
     "metadata": {},
     "output_type": "execute_result"
    }
   ],
   "source": [
    "monthly_editors"
   ]
  },
  {
   "cell_type": "markdown",
   "id": "6c8eb1de",
   "metadata": {},
   "source": [
    "## Wiki comparison query, excluding deleted pages"
   ]
  },
  {
   "cell_type": "markdown",
   "id": "ffe5f2a1",
   "metadata": {},
   "source": [
    "I just noticed that the Wikistats metric [excludes edits made to deleted pages](https://meta.wikimedia.org/wiki/Research:Wikistats_metrics/Editors). This isn't way we prefer to calculate metrics now (since this means historical metrics shift over time as pages get deleted), but it is more compatible with Wikistats's predecessor. \n",
    "\n",
    "Now that I've rewritten the wiki comparison query to directly use the `mediawiki_history` dataset, I can easily filter out edits made to pages which are now deleted."
   ]
  },
  {
   "cell_type": "code",
   "execution_count": 20,
   "id": "bfbf9b48",
   "metadata": {},
   "outputs": [
    {
     "name": "stderr",
     "output_type": "stream",
     "text": [
      "PySpark executors will use /usr/lib/anaconda-wmf/bin/python3.\n"
     ]
    }
   ],
   "source": [
    "wiki_comparison_excluding_deleted_pages = wmf.spark.run(\"\"\"\n",
    "SELECT\n",
    "    wiki,\n",
    "    (SUM(editors) / 12) AS wiki_comparison_excluding_deleted_pages\n",
    "FROM (\n",
    "    SELECT\n",
    "        TRUNC(event_timestamp, \"MONTH\") AS month,\n",
    "        wiki_db AS wiki,\n",
    "        COUNT(DISTINCT event_user_text) AS editors\n",
    "    FROM wmf.mediawiki_history mwh\n",
    "    INNER JOIN canonical_data.wikis cdw\n",
    "    ON\n",
    "        wiki_db = database_code\n",
    "        AND database_group IN (\n",
    "            \"commons\", \"incubator\", \"foundation\", \"mediawiki\", \"meta\", \"sources\", \n",
    "            \"species\",\"wikibooks\", \"wikidata\", \"wikinews\", \"wikipedia\", \"wikiquote\",\n",
    "            \"wikisource\", \"wikiversity\", \"wikivoyage\", \"wiktionary\"\n",
    "        )\n",
    "    WHERE\n",
    "        event_timestamp BETWEEN \"2020-01-01 00:00:00.0\" AND \"2021-01-01 00:00:00.0\"\n",
    "        AND NOT revision_is_deleted_by_page_deletion\n",
    "        AND SIZE(event_user_is_bot_by) = 0\n",
    "        AND SIZE(event_user_is_bot_by_historical) = 0\n",
    "        AND event_entity = \"revision\"\n",
    "        AND event_type = \"create\"\n",
    "        AND snapshot = \"2021-10\"\n",
    "    GROUP BY\n",
    "        TRUNC(event_timestamp, \"MONTH\"),\n",
    "        wiki_db\n",
    ") monthly_wiki_editors\n",
    "GROUP BY wiki\n",
    "\"\"\", session_type=\"yarn-large\")\n",
    "\n",
    "monthly_editors = monthly_editors.merge(wiki_comparison_excluding_deleted_pages, how=\"inner\", on=\"wiki\")\n",
    "monthly_editors[\"wiki_comparison_excluding_deleted_pages\"] = monthly_editors[\"wiki_comparison_excluding_deleted_pages\"].round().apply(int)"
   ]
  },
  {
   "cell_type": "code",
   "execution_count": 28,
   "id": "aafb1d9d",
   "metadata": {},
   "outputs": [],
   "source": [
    "monthly_editors = monthly_editors.set_index(\"wiki\")"
   ]
  },
  {
   "cell_type": "markdown",
   "id": "f3f72ecc",
   "metadata": {},
   "source": [
    "These results are actually very close to those from Wikistats, meaning that deleted pages are the main cause of the discrepancy."
   ]
  },
  {
   "cell_type": "code",
   "execution_count": 37,
   "id": "f4b4fcab",
   "metadata": {},
   "outputs": [
    {
     "data": {
      "text/html": [
       "<div>\n",
       "<style scoped>\n",
       "    .dataframe tbody tr th:only-of-type {\n",
       "        vertical-align: middle;\n",
       "    }\n",
       "\n",
       "    .dataframe tbody tr th {\n",
       "        vertical-align: top;\n",
       "    }\n",
       "\n",
       "    .dataframe thead th {\n",
       "        text-align: right;\n",
       "    }\n",
       "</style>\n",
       "<table border=\"1\" class=\"dataframe\">\n",
       "  <thead>\n",
       "    <tr style=\"text-align: right;\">\n",
       "      <th></th>\n",
       "      <th>wikistats</th>\n",
       "      <th>wiki_comparison_excluding_deleted_pages</th>\n",
       "    </tr>\n",
       "    <tr>\n",
       "      <th>wiki</th>\n",
       "      <th></th>\n",
       "      <th></th>\n",
       "    </tr>\n",
       "  </thead>\n",
       "  <tbody>\n",
       "    <tr>\n",
       "      <th>enwiki</th>\n",
       "      <td>131860</td>\n",
       "      <td>131780</td>\n",
       "    </tr>\n",
       "    <tr>\n",
       "      <th>eswiki</th>\n",
       "      <td>17157</td>\n",
       "      <td>17151</td>\n",
       "    </tr>\n",
       "    <tr>\n",
       "      <th>commonswiki</th>\n",
       "      <td>34702</td>\n",
       "      <td>34577</td>\n",
       "    </tr>\n",
       "    <tr>\n",
       "      <th>kowiki</th>\n",
       "      <td>2436</td>\n",
       "      <td>2434</td>\n",
       "    </tr>\n",
       "  </tbody>\n",
       "</table>\n",
       "</div>"
      ],
      "text/plain": [
       "             wikistats  wiki_comparison_excluding_deleted_pages\n",
       "wiki                                                           \n",
       "enwiki          131860                                   131780\n",
       "eswiki           17157                                    17151\n",
       "commonswiki      34702                                    34577\n",
       "kowiki            2436                                     2434"
      ]
     },
     "execution_count": 37,
     "metadata": {},
     "output_type": "execute_result"
    }
   ],
   "source": [
    "monthly_editors[[\"wikistats\", \"wiki_comparison_excluding_deleted_pages\"]]"
   ]
  },
  {
   "cell_type": "markdown",
   "id": "1f96ecd5",
   "metadata": {},
   "source": [
    "Here's the wiki comparison value when excluding deleted pages, as a proportion of the Wikistats value."
   ]
  },
  {
   "cell_type": "code",
   "execution_count": 38,
   "id": "9e8cf469",
   "metadata": {},
   "outputs": [
    {
     "data": {
      "text/html": [
       "<style type=\"text/css\">\n",
       "</style>\n",
       "<table id=\"T_27507_\">\n",
       "  <thead>\n",
       "    <tr>\n",
       "      <th class=\"blank level0\" >&nbsp;</th>\n",
       "      <th class=\"col_heading level0 col0\" >comparison</th>\n",
       "    </tr>\n",
       "    <tr>\n",
       "      <th class=\"index_name level0\" >wiki</th>\n",
       "      <th class=\"blank col0\" >&nbsp;</th>\n",
       "    </tr>\n",
       "  </thead>\n",
       "  <tbody>\n",
       "    <tr>\n",
       "      <th id=\"T_27507_level0_row0\" class=\"row_heading level0 row0\" >enwiki</th>\n",
       "      <td id=\"T_27507_row0_col0\" class=\"data row0 col0\" >99.9%</td>\n",
       "    </tr>\n",
       "    <tr>\n",
       "      <th id=\"T_27507_level0_row1\" class=\"row_heading level0 row1\" >eswiki</th>\n",
       "      <td id=\"T_27507_row1_col0\" class=\"data row1 col0\" >100.0%</td>\n",
       "    </tr>\n",
       "    <tr>\n",
       "      <th id=\"T_27507_level0_row2\" class=\"row_heading level0 row2\" >commonswiki</th>\n",
       "      <td id=\"T_27507_row2_col0\" class=\"data row2 col0\" >99.6%</td>\n",
       "    </tr>\n",
       "    <tr>\n",
       "      <th id=\"T_27507_level0_row3\" class=\"row_heading level0 row3\" >kowiki</th>\n",
       "      <td id=\"T_27507_row3_col0\" class=\"data row3 col0\" >99.9%</td>\n",
       "    </tr>\n",
       "  </tbody>\n",
       "</table>\n"
      ],
      "text/plain": [
       "<pandas.io.formats.style.Styler at 0x7f4eccea5e50>"
      ]
     },
     "execution_count": 38,
     "metadata": {},
     "output_type": "execute_result"
    }
   ],
   "source": [
    "(\n",
    "    (monthly_editors[\"wiki_comparison_excluding_deleted_pages\"] / monthly_editors[\"wikistats\"])\n",
    "    .to_frame()\n",
    "    .rename({0: \"comparison\"}, axis=\"columns\")\n",
    "    .style.format({\n",
    "        \"comparison\": wmf.utils.pct_str\n",
    "    })\n",
    ")"
   ]
  }
 ],
 "metadata": {
  "kernelspec": {
   "display_name": "Python 3",
   "language": "python",
   "name": "python3"
  },
  "language_info": {
   "codemirror_mode": {
    "name": "ipython",
    "version": 3
   },
   "file_extension": ".py",
   "mimetype": "text/x-python",
   "name": "python",
   "nbconvert_exporter": "python",
   "pygments_lexer": "ipython3",
   "version": "3.7.10"
  }
 },
 "nbformat": 4,
 "nbformat_minor": 5
}
