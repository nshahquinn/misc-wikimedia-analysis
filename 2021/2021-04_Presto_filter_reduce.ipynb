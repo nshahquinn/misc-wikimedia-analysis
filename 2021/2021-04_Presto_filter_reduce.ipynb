{
 "cells": [
  {
   "cell_type": "code",
   "execution_count": 21,
   "metadata": {},
   "outputs": [],
   "source": [
    "import pandas as pd\n",
    "import wmfdata as wmf\n",
    "from wmfdata.utils import pd_display_all"
   ]
  },
  {
   "cell_type": "markdown",
   "metadata": {},
   "source": [
    "```\n",
    "\"tests\": [ \n",
    "  {\n",
    "    \"name\": \"growth-homepage\",\n",
    "    \"group\": \"variant-1\"\n",
    "  },\n",
    "  {\n",
    "    \"name\": \"growth-help-panel\",\n",
    "    \"group\": \"variant-2\"\n",
    "  }\n",
    "]\n",
    "```"
   ]
  },
  {
   "cell_type": "code",
   "execution_count": 11,
   "metadata": {},
   "outputs": [],
   "source": [
    "raw_spark = wmf.spark.run(\"\"\"\n",
    "SELECT\n",
    "  event.tests AS tests\n",
    "FROM event.inukapageview\n",
    "WHERE\n",
    "  revision = 21084675\n",
    "\"\"\")"
   ]
  },
  {
   "cell_type": "code",
   "execution_count": 12,
   "metadata": {},
   "outputs": [
    {
     "data": {
      "text/html": [
       "<div>\n",
       "<style scoped>\n",
       "    .dataframe tbody tr th:only-of-type {\n",
       "        vertical-align: middle;\n",
       "    }\n",
       "\n",
       "    .dataframe tbody tr th {\n",
       "        vertical-align: top;\n",
       "    }\n",
       "\n",
       "    .dataframe thead th {\n",
       "        text-align: right;\n",
       "    }\n",
       "</style>\n",
       "<table border=\"1\" class=\"dataframe\">\n",
       "  <thead>\n",
       "    <tr style=\"text-align: right;\">\n",
       "      <th></th>\n",
       "      <th>tests</th>\n",
       "    </tr>\n",
       "  </thead>\n",
       "  <tbody>\n",
       "    <tr>\n",
       "      <th>0</th>\n",
       "      <td>[(2021-KaiOS-app-homepage-content-suggestions,...</td>\n",
       "    </tr>\n",
       "    <tr>\n",
       "      <th>1</th>\n",
       "      <td>[(2021-KaiOS-app-homepage-content-suggestions,...</td>\n",
       "    </tr>\n",
       "    <tr>\n",
       "      <th>2</th>\n",
       "      <td>[(2021-KaiOS-app-homepage-content-suggestions,...</td>\n",
       "    </tr>\n",
       "    <tr>\n",
       "      <th>3</th>\n",
       "      <td>[(2021-KaiOS-app-homepage-content-suggestions,...</td>\n",
       "    </tr>\n",
       "    <tr>\n",
       "      <th>4</th>\n",
       "      <td>[(2021-KaiOS-app-homepage-content-suggestions,...</td>\n",
       "    </tr>\n",
       "  </tbody>\n",
       "</table>\n",
       "</div>"
      ],
      "text/plain": [
       "                                               tests\n",
       "0  [(2021-KaiOS-app-homepage-content-suggestions,...\n",
       "1  [(2021-KaiOS-app-homepage-content-suggestions,...\n",
       "2  [(2021-KaiOS-app-homepage-content-suggestions,...\n",
       "3  [(2021-KaiOS-app-homepage-content-suggestions,...\n",
       "4  [(2021-KaiOS-app-homepage-content-suggestions,..."
      ]
     },
     "execution_count": 12,
     "metadata": {},
     "output_type": "execute_result"
    }
   ],
   "source": [
    "raw_spark.head()"
   ]
  },
  {
   "cell_type": "code",
   "execution_count": 13,
   "metadata": {},
   "outputs": [
    {
     "data": {
      "text/plain": [
       "[Row(name='2021-KaiOS-app-homepage-content-suggestions', group='trending-articles')]"
      ]
     },
     "execution_count": 13,
     "metadata": {},
     "output_type": "execute_result"
    }
   ],
   "source": [
    "spark_value = raw_spark.iloc[0, 0]\n",
    "spark_value"
   ]
  },
  {
   "cell_type": "code",
   "execution_count": 15,
   "metadata": {},
   "outputs": [
    {
     "data": {
      "text/plain": [
       "'2021-KaiOS-app-homepage-content-suggestions'"
      ]
     },
     "execution_count": 15,
     "metadata": {},
     "output_type": "execute_result"
    }
   ],
   "source": [
    "spark_value[0][\"name\"]"
   ]
  },
  {
   "cell_type": "code",
   "execution_count": 4,
   "metadata": {},
   "outputs": [
    {
     "data": {
      "text/html": [
       "<div>\n",
       "<style scoped>\n",
       "    .dataframe tbody tr th:only-of-type {\n",
       "        vertical-align: middle;\n",
       "    }\n",
       "\n",
       "    .dataframe tbody tr th {\n",
       "        vertical-align: top;\n",
       "    }\n",
       "\n",
       "    .dataframe thead th {\n",
       "        text-align: right;\n",
       "    }\n",
       "</style>\n",
       "<table border=\"1\" class=\"dataframe\">\n",
       "  <thead>\n",
       "    <tr style=\"text-align: right;\">\n",
       "      <th></th>\n",
       "      <th>tests</th>\n",
       "    </tr>\n",
       "  </thead>\n",
       "  <tbody>\n",
       "    <tr>\n",
       "      <th>0</th>\n",
       "      <td>[[2021-KaiOS-app-homepage-content-suggestions,...</td>\n",
       "    </tr>\n",
       "    <tr>\n",
       "      <th>1</th>\n",
       "      <td>[[2021-KaiOS-app-homepage-content-suggestions,...</td>\n",
       "    </tr>\n",
       "    <tr>\n",
       "      <th>2</th>\n",
       "      <td>[[2021-KaiOS-app-homepage-content-suggestions,...</td>\n",
       "    </tr>\n",
       "    <tr>\n",
       "      <th>3</th>\n",
       "      <td>[[2021-KaiOS-app-homepage-content-suggestions,...</td>\n",
       "    </tr>\n",
       "    <tr>\n",
       "      <th>4</th>\n",
       "      <td>[[2021-KaiOS-app-homepage-content-suggestions,...</td>\n",
       "    </tr>\n",
       "  </tbody>\n",
       "</table>\n",
       "</div>"
      ],
      "text/plain": [
       "                                               tests\n",
       "0  [[2021-KaiOS-app-homepage-content-suggestions,...\n",
       "1  [[2021-KaiOS-app-homepage-content-suggestions,...\n",
       "2  [[2021-KaiOS-app-homepage-content-suggestions,...\n",
       "3  [[2021-KaiOS-app-homepage-content-suggestions,...\n",
       "4  [[2021-KaiOS-app-homepage-content-suggestions,..."
      ]
     },
     "execution_count": 4,
     "metadata": {},
     "output_type": "execute_result"
    }
   ],
   "source": [
    "raw_presto = wmf.presto.run(\"\"\"\n",
    "SELECT\n",
    "  event.tests AS tests\n",
    "FROM event.inukapageview\n",
    "WHERE\n",
    "  revision = 21084675\n",
    "\"\"\")\n",
    "\n",
    "raw_presto.head()"
   ]
  },
  {
   "cell_type": "code",
   "execution_count": 17,
   "metadata": {},
   "outputs": [
    {
     "data": {
      "text/plain": [
       "[['2021-KaiOS-app-homepage-content-suggestions', 'control']]"
      ]
     },
     "execution_count": 17,
     "metadata": {},
     "output_type": "execute_result"
    }
   ],
   "source": [
    "presto_value = presto_raw.iloc[0, 0]\n",
    "presto_value"
   ]
  },
  {
   "cell_type": "code",
   "execution_count": 18,
   "metadata": {},
   "outputs": [
    {
     "data": {
      "text/plain": [
       "'2021-KaiOS-app-homepage-content-suggestions'"
      ]
     },
     "execution_count": 18,
     "metadata": {},
     "output_type": "execute_result"
    }
   ],
   "source": [
    "presto_value[0][0]"
   ]
  },
  {
   "cell_type": "code",
   "execution_count": 19,
   "metadata": {},
   "outputs": [
    {
     "ename": "TypeError",
     "evalue": "list indices must be integers or slices, not str",
     "output_type": "error",
     "traceback": [
      "\u001b[0;31m---------------------------------------------------------------------------\u001b[0m",
      "\u001b[0;31mTypeError\u001b[0m                                 Traceback (most recent call last)",
      "\u001b[0;32m<ipython-input-19-ea66cdf0aab2>\u001b[0m in \u001b[0;36m<module>\u001b[0;34m\u001b[0m\n\u001b[0;32m----> 1\u001b[0;31m \u001b[0mpresto_value\u001b[0m\u001b[0;34m[\u001b[0m\u001b[0;36m0\u001b[0m\u001b[0;34m]\u001b[0m\u001b[0;34m[\u001b[0m\u001b[0;34m\"name\"\u001b[0m\u001b[0;34m]\u001b[0m\u001b[0;34m\u001b[0m\u001b[0;34m\u001b[0m\u001b[0m\n\u001b[0m",
      "\u001b[0;31mTypeError\u001b[0m: list indices must be integers or slices, not str"
     ]
    }
   ],
   "source": [
    "presto_value[0][\"name\"]"
   ]
  },
  {
   "cell_type": "code",
   "execution_count": null,
   "metadata": {},
   "outputs": [],
   "source": [
    "presto_extracted = wmf.presto.run(\"\"\"\n",
    "SELECT\n",
    "  event.tests AS tests,\n",
    "  REDUCE(\n",
    "    event.tests, \n",
    "    NULL, \n",
    "    (i, x) -> IF(x.name = '2021-KaiOS-app-homepage-content-suggestions', x.\"group\", i),\n",
    "    x -> x\n",
    "  ) AS experiment_group\n",
    "FROM event.inukapageview\n",
    "WHERE\n",
    "  CARDINALITY(\n",
    "    FILTER(\n",
    "      event.tests,\n",
    "      x -> x.name = '2021-KaiOS-app-homepage-content-suggestions'\n",
    "  )) > 0\n",
    "\"\"\")"
   ]
  },
  {
   "cell_type": "code",
   "execution_count": 23,
   "metadata": {},
   "outputs": [
    {
     "data": {
      "text/html": [
       "<div>\n",
       "<style scoped>\n",
       "    .dataframe tbody tr th:only-of-type {\n",
       "        vertical-align: middle;\n",
       "    }\n",
       "\n",
       "    .dataframe tbody tr th {\n",
       "        vertical-align: top;\n",
       "    }\n",
       "\n",
       "    .dataframe thead th {\n",
       "        text-align: right;\n",
       "    }\n",
       "</style>\n",
       "<table border=\"1\" class=\"dataframe\">\n",
       "  <thead>\n",
       "    <tr style=\"text-align: right;\">\n",
       "      <th></th>\n",
       "      <th>tests</th>\n",
       "      <th>experiment_group</th>\n",
       "    </tr>\n",
       "  </thead>\n",
       "  <tbody>\n",
       "    <tr>\n",
       "      <th>493</th>\n",
       "      <td>[[2021-KaiOS-app-homepage-content-suggestions, control]]</td>\n",
       "      <td>control</td>\n",
       "    </tr>\n",
       "    <tr>\n",
       "      <th>1111</th>\n",
       "      <td>[[2021-KaiOS-app-homepage-content-suggestions, trending-articles]]</td>\n",
       "      <td>trending-articles</td>\n",
       "    </tr>\n",
       "    <tr>\n",
       "      <th>1619</th>\n",
       "      <td>[[2021-KaiOS-app-homepage-content-suggestions, control]]</td>\n",
       "      <td>control</td>\n",
       "    </tr>\n",
       "    <tr>\n",
       "      <th>3</th>\n",
       "      <td>[[2021-KaiOS-app-homepage-content-suggestions, curated-topics]]</td>\n",
       "      <td>curated-topics</td>\n",
       "    </tr>\n",
       "    <tr>\n",
       "      <th>800</th>\n",
       "      <td>[[2021-KaiOS-app-homepage-content-suggestions, trending-articles]]</td>\n",
       "      <td>trending-articles</td>\n",
       "    </tr>\n",
       "    <tr>\n",
       "      <th>1533</th>\n",
       "      <td>[[2021-KaiOS-app-homepage-content-suggestions, trending-articles]]</td>\n",
       "      <td>trending-articles</td>\n",
       "    </tr>\n",
       "    <tr>\n",
       "      <th>1214</th>\n",
       "      <td>[[2021-KaiOS-app-homepage-content-suggestions, curated-topics]]</td>\n",
       "      <td>curated-topics</td>\n",
       "    </tr>\n",
       "    <tr>\n",
       "      <th>577</th>\n",
       "      <td>[[2021-KaiOS-app-homepage-content-suggestions, trending-articles]]</td>\n",
       "      <td>trending-articles</td>\n",
       "    </tr>\n",
       "    <tr>\n",
       "      <th>148</th>\n",
       "      <td>[[2021-KaiOS-app-homepage-content-suggestions, curated-topics]]</td>\n",
       "      <td>curated-topics</td>\n",
       "    </tr>\n",
       "    <tr>\n",
       "      <th>660</th>\n",
       "      <td>[[2021-KaiOS-app-homepage-content-suggestions, control]]</td>\n",
       "      <td>control</td>\n",
       "    </tr>\n",
       "  </tbody>\n",
       "</table>\n",
       "</div>"
      ],
      "text/plain": [
       "                                                                   tests  \\\n",
       "493   [[2021-KaiOS-app-homepage-content-suggestions, control]]             \n",
       "1111  [[2021-KaiOS-app-homepage-content-suggestions, trending-articles]]   \n",
       "1619  [[2021-KaiOS-app-homepage-content-suggestions, control]]             \n",
       "3     [[2021-KaiOS-app-homepage-content-suggestions, curated-topics]]      \n",
       "800   [[2021-KaiOS-app-homepage-content-suggestions, trending-articles]]   \n",
       "1533  [[2021-KaiOS-app-homepage-content-suggestions, trending-articles]]   \n",
       "1214  [[2021-KaiOS-app-homepage-content-suggestions, curated-topics]]      \n",
       "577   [[2021-KaiOS-app-homepage-content-suggestions, trending-articles]]   \n",
       "148   [[2021-KaiOS-app-homepage-content-suggestions, curated-topics]]      \n",
       "660   [[2021-KaiOS-app-homepage-content-suggestions, control]]             \n",
       "\n",
       "       experiment_group  \n",
       "493   control            \n",
       "1111  trending-articles  \n",
       "1619  control            \n",
       "3     curated-topics     \n",
       "800   trending-articles  \n",
       "1533  trending-articles  \n",
       "1214  curated-topics     \n",
       "577   trending-articles  \n",
       "148   curated-topics     \n",
       "660   control            "
      ]
     },
     "metadata": {},
     "output_type": "display_data"
    },
    {
     "name": "stderr",
     "output_type": "stream",
     "text": [
      "Exception in thread Thread-5:\n",
      "Traceback (most recent call last):\n",
      "  File \"/usr/lib/python3.7/threading.py\", line 917, in _bootstrap_inner\n",
      "    self.run()\n",
      "  File \"/usr/lib/python3.7/threading.py\", line 1166, in run\n",
      "    self.function(*self.args, **self.kwargs)\n",
      "TypeError: stop_session() missing 1 required positional argument: 'session'\n",
      "\n"
     ]
    }
   ],
   "source": [
    "presto_extracted.sample(10).pipe(pd_display_all)"
   ]
  },
  {
   "cell_type": "markdown",
   "metadata": {},
   "source": [
    "```\n",
    "\"tests\": {\n",
    "  \"2021-growth-homepage\": \"variant-1\",\n",
    "  \"2021-growth-help-panel: \"variant-2\"\n",
    "}\n",
    "```"
   ]
  },
  {
   "cell_type": "code",
   "execution_count": null,
   "metadata": {},
   "outputs": [],
   "source": []
  }
 ],
 "metadata": {
  "kernelspec": {
   "display_name": "Python 3",
   "language": "python",
   "name": "python3"
  },
  "language_info": {
   "codemirror_mode": {
    "name": "ipython",
    "version": 3
   },
   "file_extension": ".py",
   "mimetype": "text/x-python",
   "name": "python",
   "nbconvert_exporter": "python",
   "pygments_lexer": "ipython3",
   "version": "3.7.10"
  }
 },
 "nbformat": 4,
 "nbformat_minor": 4
}
