{
 "cells": [
  {
   "cell_type": "markdown",
   "metadata": {},
   "source": [
    "The `citation` endpoint of the [Wikimedia REST API](https://www.mediawiki.org/wiki/Wikimedia_REST_API) has two different formats: `mediawiki` and `mediawiki-basefields`. Roughly, which one is more used?"
   ]
  },
  {
   "cell_type": "code",
   "execution_count": 1,
   "metadata": {},
   "outputs": [],
   "source": [
    "import wmfdata as wmf"
   ]
  },
  {
   "cell_type": "markdown",
   "metadata": {},
   "source": [
    "On 1 August 2020, there were about 14,500 requests using the `mediawiki` format and 700 using the `mediawiki-basefields` format. "
   ]
  },
  {
   "cell_type": "code",
   "execution_count": 6,
   "metadata": {},
   "outputs": [
    {
     "data": {
      "text/html": [
       "<div>\n",
       "<style scoped>\n",
       "    .dataframe tbody tr th:only-of-type {\n",
       "        vertical-align: middle;\n",
       "    }\n",
       "\n",
       "    .dataframe tbody tr th {\n",
       "        vertical-align: top;\n",
       "    }\n",
       "\n",
       "    .dataframe thead th {\n",
       "        text-align: right;\n",
       "    }\n",
       "</style>\n",
       "<table border=\"1\" class=\"dataframe\">\n",
       "  <thead>\n",
       "    <tr style=\"text-align: right;\">\n",
       "      <th></th>\n",
       "      <th>mediawiki_requests</th>\n",
       "      <th>mediawiki_basefields_requests</th>\n",
       "    </tr>\n",
       "  </thead>\n",
       "  <tbody>\n",
       "    <tr>\n",
       "      <th>0</th>\n",
       "      <td>14456</td>\n",
       "      <td>748</td>\n",
       "    </tr>\n",
       "  </tbody>\n",
       "</table>\n",
       "</div>"
      ],
      "text/plain": [
       "   mediawiki_requests  mediawiki_basefields_requests\n",
       "0               14456                            748"
      ]
     },
     "execution_count": 6,
     "metadata": {},
     "output_type": "execute_result"
    }
   ],
   "source": [
    "wmf.spark.run(\n",
    "  \"\"\"\n",
    "  SELECT\n",
    "    SUM(CAST(uri_path LIKE \"%/api/rest_v1/data/citation/mediawiki/%\" AS INT)) as mediawiki_requests,\n",
    "    SUM(CAST(uri_path LIKE \"%/api/rest_v1/data/citation/mediawiki-basefields/%\" AS INT)) as mediawiki_basefields_requests\n",
    "  FROM wmf.webrequest\n",
    "  WHERE\n",
    "    uri_path LIKE \"%/api/rest_v1/data/citation/%\" AND\n",
    "    year = 2020 AND\n",
    "    month = 8 AND\n",
    "    day = 1\n",
    "  \"\"\",\n",
    "  session_type=\"large\"\n",
    ")"
   ]
  }
 ],
 "metadata": {
  "kernelspec": {
   "display_name": "Python 3",
   "language": "python",
   "name": "python3"
  },
  "language_info": {
   "codemirror_mode": {
    "name": "ipython",
    "version": 3
   },
   "file_extension": ".py",
   "mimetype": "text/x-python",
   "name": "python",
   "nbconvert_exporter": "python",
   "pygments_lexer": "ipython3",
   "version": "3.7.3"
  }
 },
 "nbformat": 4,
 "nbformat_minor": 4
}
