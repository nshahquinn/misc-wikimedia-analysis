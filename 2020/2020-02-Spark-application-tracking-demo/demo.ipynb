{
 "cells": [
  {
   "cell_type": "markdown",
   "metadata": {},
   "source": [
    "This is a very rough sketch of what happens when you [use Spark](https://wikitech.wikimedia.org/wiki/Analytics/Systems/Cluster/Spark) to run an SQL query on [our internal analytics cluster](https://wikitech.wikimedia.org/wiki/Analytics/Systems/Cluster).\n",
    "\n",
    "<img src=\"Hadoop-Spark-sketch.png\">"
   ]
  },
  {
   "cell_type": "markdown",
   "metadata": {},
   "source": [
    "Now, let's run a big query."
   ]
  },
  {
   "cell_type": "code",
   "execution_count": null,
   "metadata": {},
   "outputs": [],
   "source": [
    "import findspark\n",
    "findspark.init('/usr/lib/spark2')\n",
    "from pyspark.sql import SparkSession\n",
    "\n",
    "import wmfdata as wmf\n",
    "\n",
    "big_query = \"\"\"\n",
    "SELECT\n",
    "  SUBSTR(r.rev_timestamp, 0, 10) AS date,\n",
    "  IF(array_contains(t.tags, \"mobile edit\"), 'mobile', 'desktop') AS access_method,\n",
    "  array_contains(t.tags, \"campaign-external-machine-translation\") AS is_eg_edit,\n",
    "  r.`database` = 'idwiki' AS is_id,\n",
    "  r.rev_parent_id IS NULL AS is_new_page,\n",
    "  COUNT(DISTINCT r.rev_id) AS edits\n",
    "FROM event.mediawiki_revision_tags_change t\n",
    "RIGHT OUTER JOIN event.mediawiki_revision_create r\n",
    "ON\n",
    "  t.rev_id = r.rev_id AND\n",
    "  r.year >= 2017 AND\n",
    "  t.year >= 2017 AND\n",
    "  r.page_id = t.page_id AND\n",
    "  r.`database` = t.`database` AND\n",
    "  r.page_namespace = t.page_namespace\n",
    "WHERE\n",
    "  NOT r.performer.user_is_bot AND\n",
    "  NOT ARRAY_CONTAINS(r.performer.user_groups, 'bot') AND\n",
    "  SUBSTR(r.rev_timestamp, 0, 4) >= 2017 AND\n",
    "  r.meta.domain LIKE '%wikipedia%'\n",
    "GROUP BY \n",
    "  SUBSTR(r.rev_timestamp, 0, 10), \n",
    "  ARRAY_CONTAINS(t.tags, \"mobile edit\"),\n",
    "  ARRAY_CONTAINS(t.tags, \"campaign-external-machine-translation\"),\n",
    "  r.`database` = 'idwiki', r.rev_parent_id IS NULL\n",
    "ORDER BY date ASC\n",
    "LIMIT 1000000\n",
    "\"\"\"\n",
    "\n",
    "wmf.hive.run(big_query, app_name = \"yarn-demo\")"
   ]
  },
  {
   "cell_type": "markdown",
   "metadata": {},
   "source": [
    "Now, we can use the YARN tracker at [yarn.wikimedia.org](https://yarn.wikimedia.org) to learn more about what's going on.\n",
    "1. Find the application corresponding to this query by looking for \"yarn-demo\" in the \"Name\" column.\n",
    "1. Go to the application details by clicking on the application ID, which will be something like \"application_1576512674871_254013\".\n",
    "1. This page has basic information, but for running Spark queries, you can get *much* more information by clicking on \"Tracking URL: ApplicationMaster\". Here's part of what you'll see:\n",
    "<img src=\"Spark-application-UI-example.png\">"
   ]
  }
 ],
 "metadata": {
  "kernelspec": {
   "display_name": "Python 3",
   "language": "python",
   "name": "python3"
  },
  "language_info": {
   "codemirror_mode": {
    "name": "ipython",
    "version": 3
   },
   "file_extension": ".py",
   "mimetype": "text/x-python",
   "name": "python",
   "nbconvert_exporter": "python",
   "pygments_lexer": "ipython3",
   "version": "3.5.3"
  }
 },
 "nbformat": 4,
 "nbformat_minor": 2
}
