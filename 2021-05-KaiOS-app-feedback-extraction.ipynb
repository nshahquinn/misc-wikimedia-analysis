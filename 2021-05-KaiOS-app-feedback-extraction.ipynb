{
 "cells": [
  {
   "cell_type": "code",
   "execution_count": 10,
   "id": "5f1b6615",
   "metadata": {},
   "outputs": [],
   "source": [
    "import pandas as pd\n",
    "\n",
    "import wmfdata as wmf"
   ]
  },
  {
   "cell_type": "code",
   "execution_count": 14,
   "id": "9a22956d",
   "metadata": {},
   "outputs": [],
   "source": [
    "DAYS_TO_PULL = 60\n",
    "\n",
    "now = pd.Timestamp.now()\n",
    "start = now - pd.Timedelta(DAYS_TO_PULL, unit=\"d\")\n",
    "deletion_time = now + pd.Timedelta(90 - DAYS_TO_PULL, unit=\"d\")"
   ]
  },
  {
   "cell_type": "code",
   "execution_count": 12,
   "id": "7200bf35",
   "metadata": {},
   "outputs": [],
   "source": [
    "feedback = wmf.presto.run(f\"\"\"\n",
    "SELECT\n",
    "    CAST(FROM_ISO8601_TIMESTAMP(dt) AS DATE) as \"date\",\n",
    "    wiki,\n",
    "    event.version AS app_version,\n",
    "    event.feedback AS feedback\n",
    "FROM event.kaiosappfeedback\n",
    "WHERE\n",
    "    dt >= '{start.strftime(\"%Y-%m-%dT%H:%M:%SZ\")}'\n",
    "\"\"\")"
   ]
  },
  {
   "cell_type": "code",
   "execution_count": 13,
   "id": "7f626b2a",
   "metadata": {},
   "outputs": [
    {
     "name": "stdout",
     "output_type": "stream",
     "text": [
      "<class 'pandas.core.frame.DataFrame'>\n",
      "RangeIndex: 9392 entries, 0 to 9391\n",
      "Data columns (total 4 columns):\n",
      " #   Column       Non-Null Count  Dtype         \n",
      "---  ------       --------------  -----         \n",
      " 0   date         9392 non-null   datetime64[ns]\n",
      " 1   wiki         9385 non-null   object        \n",
      " 2   app_version  9392 non-null   object        \n",
      " 3   feedback     9392 non-null   object        \n",
      "dtypes: datetime64[ns](1), object(3)\n",
      "memory usage: 293.6+ KB\n"
     ]
    }
   ],
   "source": [
    "feedback.info()"
   ]
  },
  {
   "cell_type": "code",
   "execution_count": 23,
   "id": "8b3caac5",
   "metadata": {},
   "outputs": [],
   "source": [
    "file_name = f\"~/KaiOS app feedback [delete on {deletion_time.strftime('%Y-%m-%d')}].csv\"\n",
    "\n",
    "feedback.to_csv(file_name, index=False)"
   ]
  },
  {
   "cell_type": "code",
   "execution_count": 24,
   "id": "13f328dc",
   "metadata": {},
   "outputs": [
    {
     "name": "stdout",
     "output_type": "stream",
     "text": [
      "Name for Google spreadsheet:\n",
      "KaiOS app feedback [delete on 2021-06-11]\n"
     ]
    }
   ],
   "source": [
    "print(f\"Name for Google spreadsheet:\\nKaiOS app feedback [delete on {deletion_time.strftime('%Y-%m-%d')}]\")"
   ]
  }
 ],
 "metadata": {
  "kernelspec": {
   "display_name": "Python 3",
   "language": "python",
   "name": "python3"
  },
  "language_info": {
   "codemirror_mode": {
    "name": "ipython",
    "version": 3
   },
   "file_extension": ".py",
   "mimetype": "text/x-python",
   "name": "python",
   "nbconvert_exporter": "python",
   "pygments_lexer": "ipython3",
   "version": "3.7.10"
  }
 },
 "nbformat": 4,
 "nbformat_minor": 5
}
