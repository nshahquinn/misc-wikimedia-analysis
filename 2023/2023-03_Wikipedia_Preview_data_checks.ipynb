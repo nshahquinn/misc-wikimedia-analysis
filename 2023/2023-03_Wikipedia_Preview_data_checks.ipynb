{
 "cells": [
  {
   "cell_type": "code",
   "execution_count": 1,
   "id": "98a436da-7726-4156-8cbd-f2b2addb4980",
   "metadata": {},
   "outputs": [],
   "source": [
    "import wmfdata as wmf"
   ]
  },
  {
   "cell_type": "markdown",
   "id": "27961ea5-533f-481a-9f85-63cb49cb5ce8",
   "metadata": {},
   "source": [
    "## Non-main-namespace page views\n",
    "In July 2022, we fixed a Wikipedia Preview bug ([T313596](https://phabricator.wikimedia.org/T313596)) which meant that previews of non-main-namespace pages were not counted.\n",
    "\n",
    "Now that the Wikimedia sites that were linking to a lot of such pages have been updated to the new version, does the data look more correct? We would expect to see a _decrease_ in the clickthrough rate."
   ]
  },
  {
   "cell_type": "markdown",
   "id": "407dad87-25bf-42b0-a949-f474651c5955",
   "metadata": {},
   "source": [
    "Old data:\n"
   ]
  },
  {
   "cell_type": "code",
   "execution_count": 2,
   "id": "f2b16835-15f0-47e5-8b50-7e775791421b",
   "metadata": {},
   "outputs": [
    {
     "data": {
      "text/html": [
       "<div>\n",
       "<style scoped>\n",
       "    .dataframe tbody tr th:only-of-type {\n",
       "        vertical-align: middle;\n",
       "    }\n",
       "\n",
       "    .dataframe tbody tr th {\n",
       "        vertical-align: top;\n",
       "    }\n",
       "\n",
       "    .dataframe thead th {\n",
       "        text-align: right;\n",
       "    }\n",
       "</style>\n",
       "<table border=\"1\" class=\"dataframe\">\n",
       "  <thead>\n",
       "    <tr style=\"text-align: right;\">\n",
       "      <th></th>\n",
       "      <th>referer_host</th>\n",
       "      <th>device_type</th>\n",
       "      <th>previews</th>\n",
       "      <th>pageviews</th>\n",
       "      <th>clickthrough_rate</th>\n",
       "    </tr>\n",
       "  </thead>\n",
       "  <tbody>\n",
       "    <tr>\n",
       "      <th>0</th>\n",
       "      <td>diff.wikimedia.org</td>\n",
       "      <td>non-touch</td>\n",
       "      <td>2740</td>\n",
       "      <td>16</td>\n",
       "      <td>0.005839</td>\n",
       "    </tr>\n",
       "    <tr>\n",
       "      <th>1</th>\n",
       "      <td>diff.wikimedia.org</td>\n",
       "      <td>touch</td>\n",
       "      <td>493</td>\n",
       "      <td>298</td>\n",
       "      <td>0.604463</td>\n",
       "    </tr>\n",
       "    <tr>\n",
       "      <th>2</th>\n",
       "      <td>wikimediafoundation.org</td>\n",
       "      <td>non-touch</td>\n",
       "      <td>2958</td>\n",
       "      <td>27</td>\n",
       "      <td>0.009128</td>\n",
       "    </tr>\n",
       "    <tr>\n",
       "      <th>3</th>\n",
       "      <td>wikimediafoundation.org</td>\n",
       "      <td>touch</td>\n",
       "      <td>589</td>\n",
       "      <td>1136</td>\n",
       "      <td>1.928693</td>\n",
       "    </tr>\n",
       "  </tbody>\n",
       "</table>\n",
       "</div>"
      ],
      "text/plain": [
       "              referer_host device_type  previews  pageviews  clickthrough_rate\n",
       "0       diff.wikimedia.org   non-touch      2740         16           0.005839\n",
       "1       diff.wikimedia.org       touch       493        298           0.604463\n",
       "2  wikimediafoundation.org   non-touch      2958         27           0.009128\n",
       "3  wikimediafoundation.org       touch       589       1136           1.928693"
      ]
     },
     "execution_count": 2,
     "metadata": {},
     "output_type": "execute_result"
    }
   ],
   "source": [
    "wmf.presto.run(\"\"\"\n",
    "    SELECT\n",
    "        referer_host,\n",
    "        device_type,\n",
    "        SUM(previews) AS previews,\n",
    "        SUM(pageviews) AS pageviews,\n",
    "        CAST(SUM(pageviews) AS REAL) / CAST(SUM(previews) AS REAL) AS clickthrough_rate\n",
    "    FROM wmf_product.wikipediapreview_stats\n",
    "    WHERE\n",
    "        year = 2022\n",
    "        AND month = 6\n",
    "        AND referer_host IN ('diff.wikimedia.org', 'wikimediafoundation.org')\n",
    "    GROUP BY\n",
    "        referer_host,\n",
    "        device_type\n",
    "    ORDER BY\n",
    "        referer_host,\n",
    "        device_type\n",
    "\"\"\")"
   ]
  },
  {
   "cell_type": "markdown",
   "id": "b994bd03-841d-423e-8587-db859b959e55",
   "metadata": {},
   "source": [
    "New data:"
   ]
  },
  {
   "cell_type": "code",
   "execution_count": 2,
   "id": "d2dd57c2-8b86-4898-83b9-bcbd649b26c5",
   "metadata": {},
   "outputs": [
    {
     "data": {
      "text/html": [
       "<div>\n",
       "<style scoped>\n",
       "    .dataframe tbody tr th:only-of-type {\n",
       "        vertical-align: middle;\n",
       "    }\n",
       "\n",
       "    .dataframe tbody tr th {\n",
       "        vertical-align: top;\n",
       "    }\n",
       "\n",
       "    .dataframe thead th {\n",
       "        text-align: right;\n",
       "    }\n",
       "</style>\n",
       "<table border=\"1\" class=\"dataframe\">\n",
       "  <thead>\n",
       "    <tr style=\"text-align: right;\">\n",
       "      <th></th>\n",
       "      <th>referer_host</th>\n",
       "      <th>device_type</th>\n",
       "      <th>previews</th>\n",
       "      <th>pageviews</th>\n",
       "      <th>clickthrough_rate</th>\n",
       "    </tr>\n",
       "  </thead>\n",
       "  <tbody>\n",
       "    <tr>\n",
       "      <th>0</th>\n",
       "      <td>diff.wikimedia.org</td>\n",
       "      <td>non-touch</td>\n",
       "      <td>4201</td>\n",
       "      <td>20</td>\n",
       "      <td>0.004761</td>\n",
       "    </tr>\n",
       "    <tr>\n",
       "      <th>1</th>\n",
       "      <td>diff.wikimedia.org</td>\n",
       "      <td>touch</td>\n",
       "      <td>416</td>\n",
       "      <td>234</td>\n",
       "      <td>0.562500</td>\n",
       "    </tr>\n",
       "    <tr>\n",
       "      <th>2</th>\n",
       "      <td>wikimediafoundation.org</td>\n",
       "      <td>non-touch</td>\n",
       "      <td>7976</td>\n",
       "      <td>50</td>\n",
       "      <td>0.006269</td>\n",
       "    </tr>\n",
       "    <tr>\n",
       "      <th>3</th>\n",
       "      <td>wikimediafoundation.org</td>\n",
       "      <td>touch</td>\n",
       "      <td>1812</td>\n",
       "      <td>995</td>\n",
       "      <td>0.549117</td>\n",
       "    </tr>\n",
       "  </tbody>\n",
       "</table>\n",
       "</div>"
      ],
      "text/plain": [
       "              referer_host device_type  previews  pageviews  clickthrough_rate\n",
       "0       diff.wikimedia.org   non-touch      4201         20           0.004761\n",
       "1       diff.wikimedia.org       touch       416        234           0.562500\n",
       "2  wikimediafoundation.org   non-touch      7976         50           0.006269\n",
       "3  wikimediafoundation.org       touch      1812        995           0.549117"
      ]
     },
     "execution_count": 2,
     "metadata": {},
     "output_type": "execute_result"
    }
   ],
   "source": [
    "wmf.presto.run(\"\"\"\n",
    "    SELECT\n",
    "        referer_host,\n",
    "        device_type,\n",
    "        SUM(previews) AS previews,\n",
    "        SUM(pageviews) AS pageviews,\n",
    "        CAST(SUM(pageviews) AS REAL) / CAST(SUM(previews) AS REAL) AS clickthrough_rate\n",
    "    FROM wmf_product.wikipediapreview_stats\n",
    "    WHERE\n",
    "        year = 2023\n",
    "        AND month = 2\n",
    "        AND referer_host IN ('diff.wikimedia.org', 'wikimediafoundation.org')\n",
    "    GROUP BY\n",
    "        referer_host,\n",
    "        device_type\n",
    "    ORDER BY\n",
    "        referer_host,\n",
    "        device_type\n",
    "\"\"\")"
   ]
  },
  {
   "cell_type": "markdown",
   "id": "00656433-71c5-4364-ae13-78df5fe40645",
   "metadata": {},
   "source": [
    "Well, unfortunately, neither the new data nor the old looks correct. But most of that is because the most common pageview path on non-touch devices is not instrumented in the version these sites are using ([T317171](https://phabricator.wikimedia.org/T317171)). And we do see a substantial increase in previews at wikimediafoundation.org which has some particularly prominent non-main-namespace links, so it seems like yes, we are seeing the effects of the fix."
   ]
  },
  {
   "cell_type": "code",
   "execution_count": null,
   "id": "e65bfca5-6bea-439d-83db-762c38f7f4cd",
   "metadata": {},
   "outputs": [],
   "source": []
  }
 ],
 "metadata": {
  "kernelspec": {
   "display_name": "Python 3 (ipykernel)",
   "language": "python",
   "name": "python3"
  },
  "language_info": {
   "codemirror_mode": {
    "name": "ipython",
    "version": 3
   },
   "file_extension": ".py",
   "mimetype": "text/x-python",
   "name": "python",
   "nbconvert_exporter": "python",
   "pygments_lexer": "ipython3",
   "version": "3.10.8"
  }
 },
 "nbformat": 4,
 "nbformat_minor": 5
}
