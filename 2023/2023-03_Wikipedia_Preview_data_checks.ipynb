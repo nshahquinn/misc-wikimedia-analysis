{
 "cells": [
  {
   "cell_type": "code",
   "execution_count": 140,
   "id": "98a436da-7726-4156-8cbd-f2b2addb4980",
   "metadata": {},
   "outputs": [],
   "source": [
    "import pandas as pd\n",
    "import wmfdata as wmf\n",
    "from wmfdata.utils import pd_display_all"
   ]
  },
  {
   "cell_type": "markdown",
   "id": "27961ea5-533f-481a-9f85-63cb49cb5ce8",
   "metadata": {},
   "source": [
    "## Non-main-namespace page views\n",
    "In July 2022, we fixed a Wikipedia Preview bug ([T313596](https://phabricator.wikimedia.org/T313596)) which meant that previews of non-main-namespace pages were not counted.\n",
    "\n",
    "Now that the Wikimedia sites that were linking to a lot of such pages have been updated to the new version, does the data look more correct? We would expect to see a _decrease_ in the clickthrough rate."
   ]
  },
  {
   "cell_type": "markdown",
   "id": "407dad87-25bf-42b0-a949-f474651c5955",
   "metadata": {},
   "source": [
    "Old data:\n"
   ]
  },
  {
   "cell_type": "code",
   "execution_count": 2,
   "id": "f2b16835-15f0-47e5-8b50-7e775791421b",
   "metadata": {},
   "outputs": [
    {
     "data": {
      "text/html": [
       "<div>\n",
       "<style scoped>\n",
       "    .dataframe tbody tr th:only-of-type {\n",
       "        vertical-align: middle;\n",
       "    }\n",
       "\n",
       "    .dataframe tbody tr th {\n",
       "        vertical-align: top;\n",
       "    }\n",
       "\n",
       "    .dataframe thead th {\n",
       "        text-align: right;\n",
       "    }\n",
       "</style>\n",
       "<table border=\"1\" class=\"dataframe\">\n",
       "  <thead>\n",
       "    <tr style=\"text-align: right;\">\n",
       "      <th></th>\n",
       "      <th>referer_host</th>\n",
       "      <th>device_type</th>\n",
       "      <th>previews</th>\n",
       "      <th>pageviews</th>\n",
       "      <th>clickthrough_rate</th>\n",
       "    </tr>\n",
       "  </thead>\n",
       "  <tbody>\n",
       "    <tr>\n",
       "      <th>0</th>\n",
       "      <td>diff.wikimedia.org</td>\n",
       "      <td>non-touch</td>\n",
       "      <td>2740</td>\n",
       "      <td>16</td>\n",
       "      <td>0.005839</td>\n",
       "    </tr>\n",
       "    <tr>\n",
       "      <th>1</th>\n",
       "      <td>diff.wikimedia.org</td>\n",
       "      <td>touch</td>\n",
       "      <td>493</td>\n",
       "      <td>298</td>\n",
       "      <td>0.604463</td>\n",
       "    </tr>\n",
       "    <tr>\n",
       "      <th>2</th>\n",
       "      <td>wikimediafoundation.org</td>\n",
       "      <td>non-touch</td>\n",
       "      <td>2958</td>\n",
       "      <td>27</td>\n",
       "      <td>0.009128</td>\n",
       "    </tr>\n",
       "    <tr>\n",
       "      <th>3</th>\n",
       "      <td>wikimediafoundation.org</td>\n",
       "      <td>touch</td>\n",
       "      <td>589</td>\n",
       "      <td>1136</td>\n",
       "      <td>1.928693</td>\n",
       "    </tr>\n",
       "  </tbody>\n",
       "</table>\n",
       "</div>"
      ],
      "text/plain": [
       "              referer_host device_type  previews  pageviews  clickthrough_rate\n",
       "0       diff.wikimedia.org   non-touch      2740         16           0.005839\n",
       "1       diff.wikimedia.org       touch       493        298           0.604463\n",
       "2  wikimediafoundation.org   non-touch      2958         27           0.009128\n",
       "3  wikimediafoundation.org       touch       589       1136           1.928693"
      ]
     },
     "execution_count": 2,
     "metadata": {},
     "output_type": "execute_result"
    }
   ],
   "source": [
    "wmf.presto.run(\"\"\"\n",
    "    SELECT\n",
    "        referer_host,\n",
    "        device_type,\n",
    "        SUM(previews) AS previews,\n",
    "        SUM(pageviews) AS pageviews,\n",
    "        CAST(SUM(pageviews) AS REAL) / CAST(SUM(previews) AS REAL) AS clickthrough_rate\n",
    "    FROM wmf_product.wikipediapreview_stats\n",
    "    WHERE\n",
    "        year = 2022\n",
    "        AND month = 6\n",
    "        AND referer_host IN ('diff.wikimedia.org', 'wikimediafoundation.org')\n",
    "    GROUP BY\n",
    "        referer_host,\n",
    "        device_type\n",
    "    ORDER BY\n",
    "        referer_host,\n",
    "        device_type\n",
    "\"\"\")"
   ]
  },
  {
   "cell_type": "markdown",
   "id": "b994bd03-841d-423e-8587-db859b959e55",
   "metadata": {},
   "source": [
    "New data:"
   ]
  },
  {
   "cell_type": "code",
   "execution_count": 2,
   "id": "d2dd57c2-8b86-4898-83b9-bcbd649b26c5",
   "metadata": {},
   "outputs": [
    {
     "data": {
      "text/html": [
       "<div>\n",
       "<style scoped>\n",
       "    .dataframe tbody tr th:only-of-type {\n",
       "        vertical-align: middle;\n",
       "    }\n",
       "\n",
       "    .dataframe tbody tr th {\n",
       "        vertical-align: top;\n",
       "    }\n",
       "\n",
       "    .dataframe thead th {\n",
       "        text-align: right;\n",
       "    }\n",
       "</style>\n",
       "<table border=\"1\" class=\"dataframe\">\n",
       "  <thead>\n",
       "    <tr style=\"text-align: right;\">\n",
       "      <th></th>\n",
       "      <th>referer_host</th>\n",
       "      <th>device_type</th>\n",
       "      <th>previews</th>\n",
       "      <th>pageviews</th>\n",
       "      <th>clickthrough_rate</th>\n",
       "    </tr>\n",
       "  </thead>\n",
       "  <tbody>\n",
       "    <tr>\n",
       "      <th>0</th>\n",
       "      <td>diff.wikimedia.org</td>\n",
       "      <td>non-touch</td>\n",
       "      <td>4201</td>\n",
       "      <td>20</td>\n",
       "      <td>0.004761</td>\n",
       "    </tr>\n",
       "    <tr>\n",
       "      <th>1</th>\n",
       "      <td>diff.wikimedia.org</td>\n",
       "      <td>touch</td>\n",
       "      <td>416</td>\n",
       "      <td>234</td>\n",
       "      <td>0.562500</td>\n",
       "    </tr>\n",
       "    <tr>\n",
       "      <th>2</th>\n",
       "      <td>wikimediafoundation.org</td>\n",
       "      <td>non-touch</td>\n",
       "      <td>7976</td>\n",
       "      <td>50</td>\n",
       "      <td>0.006269</td>\n",
       "    </tr>\n",
       "    <tr>\n",
       "      <th>3</th>\n",
       "      <td>wikimediafoundation.org</td>\n",
       "      <td>touch</td>\n",
       "      <td>1812</td>\n",
       "      <td>995</td>\n",
       "      <td>0.549117</td>\n",
       "    </tr>\n",
       "  </tbody>\n",
       "</table>\n",
       "</div>"
      ],
      "text/plain": [
       "              referer_host device_type  previews  pageviews  clickthrough_rate\n",
       "0       diff.wikimedia.org   non-touch      4201         20           0.004761\n",
       "1       diff.wikimedia.org       touch       416        234           0.562500\n",
       "2  wikimediafoundation.org   non-touch      7976         50           0.006269\n",
       "3  wikimediafoundation.org       touch      1812        995           0.549117"
      ]
     },
     "execution_count": 2,
     "metadata": {},
     "output_type": "execute_result"
    }
   ],
   "source": [
    "wmf.presto.run(\"\"\"\n",
    "    SELECT\n",
    "        referer_host,\n",
    "        device_type,\n",
    "        SUM(previews) AS previews,\n",
    "        SUM(pageviews) AS pageviews,\n",
    "        CAST(SUM(pageviews) AS REAL) / CAST(SUM(previews) AS REAL) AS clickthrough_rate\n",
    "    FROM wmf_product.wikipediapreview_stats\n",
    "    WHERE\n",
    "        year = 2023\n",
    "        AND month = 2\n",
    "        AND referer_host IN ('diff.wikimedia.org', 'wikimediafoundation.org')\n",
    "    GROUP BY\n",
    "        referer_host,\n",
    "        device_type\n",
    "    ORDER BY\n",
    "        referer_host,\n",
    "        device_type\n",
    "\"\"\")"
   ]
  },
  {
   "cell_type": "markdown",
   "id": "00656433-71c5-4364-ae13-78df5fe40645",
   "metadata": {},
   "source": [
    "Well, unfortunately, neither the new data nor the old looks correct. But most of that is because the most common pageview path on non-touch devices is not instrumented in the version these sites are using ([T317171](https://phabricator.wikimedia.org/T317171)). And we do see a substantial increase in previews at wikimediafoundation.org which has some particularly prominent non-main-namespace links, so it seems like yes, we are seeing the effects of the fix."
   ]
  },
  {
   "cell_type": "markdown",
   "id": "e332afb7-2990-49cc-98a0-485eafc3626d",
   "metadata": {},
   "source": [
    "## Decreased touch clickthrough rate with new instrumentation version"
   ]
  },
  {
   "cell_type": "markdown",
   "id": "fd5711f8-14d7-4dad-8092-b91817b74301",
   "metadata": {},
   "source": [
    "In early Feb 2023, we released a major improvement to the instrumentation of pageviews for non-touch devices ([T317171](https://phabricator.wikimedia.org/T317171)), which we commemorated with a new \"instrumentation version\". \n",
    "\n",
    "Afterward, I noticed that, for touch devices, version 1 traffic had a _much_ higher clickthrough rate than version 2 ([T330743](https://phabricator.wikimedia.org/T330743)).\n",
    "\n",
    "Here's the result I originally noticed:"
   ]
  },
  {
   "cell_type": "code",
   "execution_count": 11,
   "id": "0d1fb52e-cce4-41b4-8425-d3fd754aeabe",
   "metadata": {},
   "outputs": [
    {
     "data": {
      "text/html": [
       "<div>\n",
       "<style scoped>\n",
       "    .dataframe tbody tr th:only-of-type {\n",
       "        vertical-align: middle;\n",
       "    }\n",
       "\n",
       "    .dataframe tbody tr th {\n",
       "        vertical-align: top;\n",
       "    }\n",
       "\n",
       "    .dataframe thead th {\n",
       "        text-align: right;\n",
       "    }\n",
       "</style>\n",
       "<table border=\"1\" class=\"dataframe\">\n",
       "  <thead>\n",
       "    <tr style=\"text-align: right;\">\n",
       "      <th></th>\n",
       "      <th>instrumentation_version</th>\n",
       "      <th>device_type</th>\n",
       "      <th>pageviews</th>\n",
       "      <th>previews</th>\n",
       "      <th>clickthrough_rate</th>\n",
       "    </tr>\n",
       "  </thead>\n",
       "  <tbody>\n",
       "    <tr>\n",
       "      <th>0</th>\n",
       "      <td>1</td>\n",
       "      <td>non-touch</td>\n",
       "      <td>78</td>\n",
       "      <td>13588</td>\n",
       "      <td>0.005740</td>\n",
       "    </tr>\n",
       "    <tr>\n",
       "      <th>1</th>\n",
       "      <td>1</td>\n",
       "      <td>touch</td>\n",
       "      <td>1120</td>\n",
       "      <td>2141</td>\n",
       "      <td>0.523120</td>\n",
       "    </tr>\n",
       "    <tr>\n",
       "      <th>2</th>\n",
       "      <td>2</td>\n",
       "      <td>non-touch</td>\n",
       "      <td>763</td>\n",
       "      <td>13809</td>\n",
       "      <td>0.055254</td>\n",
       "    </tr>\n",
       "    <tr>\n",
       "      <th>3</th>\n",
       "      <td>2</td>\n",
       "      <td>touch</td>\n",
       "      <td>251</td>\n",
       "      <td>1836</td>\n",
       "      <td>0.136710</td>\n",
       "    </tr>\n",
       "  </tbody>\n",
       "</table>\n",
       "</div>"
      ],
      "text/plain": [
       "   instrumentation_version device_type  pageviews  previews  clickthrough_rate\n",
       "0                        1   non-touch         78     13588           0.005740\n",
       "1                        1       touch       1120      2141           0.523120\n",
       "2                        2   non-touch        763     13809           0.055254\n",
       "3                        2       touch        251      1836           0.136710"
      ]
     },
     "execution_count": 11,
     "metadata": {},
     "output_type": "execute_result"
    }
   ],
   "source": [
    "wmf.presto.run(\"\"\"\n",
    "    SELECT\n",
    "        instrumentation_version,\n",
    "        device_type,\n",
    "        SUM(pageviews) AS pageviews,\n",
    "        SUM(previews) AS previews,\n",
    "        CAST(SUM(pageviews) AS REAL) / CAST(SUM(previews) AS REAL) AS clickthrough_rate\n",
    "    FROM wmf_product.wikipediapreview_stats\n",
    "    WHERE\n",
    "        year = 2023\n",
    "        AND month = 2\n",
    "        AND day >= 9\n",
    "    GROUP BY\n",
    "        device_type,\n",
    "        instrumentation_version\n",
    "    ORDER BY\n",
    "        instrumentation_version,\n",
    "        device_type\n",
    "\"\"\")"
   ]
  },
  {
   "cell_type": "markdown",
   "id": "3af84750-e0af-4725-9f86-f673ab39f352",
   "metadata": {},
   "source": [
    "Ahh! If we omit the Wikimedia websites (which mostly haven't upgraded), we don't see any big disparity. So it looks like the disparity is just because Wikimedia sites account for a major chunk of the traffic, have much higher clickthrough rate, and haven't upgraded. "
   ]
  },
  {
   "cell_type": "code",
   "execution_count": 16,
   "id": "02660a13-5ad1-4977-a4bd-9b1b8d52d43b",
   "metadata": {},
   "outputs": [
    {
     "data": {
      "text/html": [
       "<div>\n",
       "<style scoped>\n",
       "    .dataframe tbody tr th:only-of-type {\n",
       "        vertical-align: middle;\n",
       "    }\n",
       "\n",
       "    .dataframe tbody tr th {\n",
       "        vertical-align: top;\n",
       "    }\n",
       "\n",
       "    .dataframe thead th {\n",
       "        text-align: right;\n",
       "    }\n",
       "</style>\n",
       "<table border=\"1\" class=\"dataframe\">\n",
       "  <thead>\n",
       "    <tr style=\"text-align: right;\">\n",
       "      <th></th>\n",
       "      <th>instrumentation_version</th>\n",
       "      <th>device_type</th>\n",
       "      <th>pageviews</th>\n",
       "      <th>previews</th>\n",
       "      <th>clickthrough_rate</th>\n",
       "    </tr>\n",
       "  </thead>\n",
       "  <tbody>\n",
       "    <tr>\n",
       "      <th>0</th>\n",
       "      <td>1</td>\n",
       "      <td>non-touch</td>\n",
       "      <td>29</td>\n",
       "      <td>4490</td>\n",
       "      <td>0.006459</td>\n",
       "    </tr>\n",
       "    <tr>\n",
       "      <th>1</th>\n",
       "      <td>1</td>\n",
       "      <td>touch</td>\n",
       "      <td>35</td>\n",
       "      <td>485</td>\n",
       "      <td>0.072165</td>\n",
       "    </tr>\n",
       "    <tr>\n",
       "      <th>2</th>\n",
       "      <td>2</td>\n",
       "      <td>non-touch</td>\n",
       "      <td>659</td>\n",
       "      <td>13713</td>\n",
       "      <td>0.048057</td>\n",
       "    </tr>\n",
       "    <tr>\n",
       "      <th>3</th>\n",
       "      <td>2</td>\n",
       "      <td>touch</td>\n",
       "      <td>233</td>\n",
       "      <td>1820</td>\n",
       "      <td>0.128022</td>\n",
       "    </tr>\n",
       "  </tbody>\n",
       "</table>\n",
       "</div>"
      ],
      "text/plain": [
       "   instrumentation_version device_type  pageviews  previews  clickthrough_rate\n",
       "0                        1   non-touch         29      4490           0.006459\n",
       "1                        1       touch         35       485           0.072165\n",
       "2                        2   non-touch        659     13713           0.048057\n",
       "3                        2       touch        233      1820           0.128022"
      ]
     },
     "execution_count": 16,
     "metadata": {},
     "output_type": "execute_result"
    }
   ],
   "source": [
    "wmf.presto.run(\"\"\"\n",
    "    SELECT\n",
    "        instrumentation_version,\n",
    "        device_type,\n",
    "        SUM(pageviews) AS pageviews,\n",
    "        SUM(previews) AS previews,\n",
    "        CAST(SUM(pageviews) AS REAL) / CAST(SUM(previews) AS REAL) AS clickthrough_rate\n",
    "    FROM wmf_product.wikipediapreview_stats\n",
    "    WHERE\n",
    "        year = 2023\n",
    "        AND month = 2\n",
    "        AND day >= 9\n",
    "        AND referer_host NOT LIKE '%wikimedia.org'\n",
    "        AND referer_host != 'wikimediafoundation.org'\n",
    "    GROUP BY\n",
    "        device_type,\n",
    "        instrumentation_version\n",
    "    ORDER BY\n",
    "        instrumentation_version,\n",
    "        device_type\n",
    "\"\"\")"
   ]
  },
  {
   "cell_type": "markdown",
   "id": "76741cd4-6711-48d7-8927-65d70e1da6b8",
   "metadata": {},
   "source": [
    "To further confirm this, let's look at sites that have upgraded and have a decent amount of traffic, so we can compare their touch clickthrough rates before and after. We'll also go back to the start of Jan, so we have enough baseline data."
   ]
  },
  {
   "cell_type": "code",
   "execution_count": null,
   "id": "3142cdf8-f61c-4f9b-a737-a1bcce4e2e2a",
   "metadata": {},
   "outputs": [],
   "source": [
    "stats_by_site = wmf.presto.run(\"\"\"\n",
    "    SELECT\n",
    "        referer_host,\n",
    "        instrumentation_version,\n",
    "        SUM(previews) AS previews,\n",
    "        CAST(SUM(pageviews) AS REAL) / CAST(SUM(previews) AS REAL) AS clickthrough_rate,\n",
    "        SUM(pageviews) AS pageviews\n",
    "    FROM wmf_product.wikipediapreview_stats\n",
    "    WHERE\n",
    "        year = 2023\n",
    "        AND month >= 1\n",
    "        AND device_type = 'touch'\n",
    "        AND referer_host NOT IN ('0.0.0.0', 'testingpurpose.local')\n",
    "    GROUP BY\n",
    "        referer_host,\n",
    "        instrumentation_version\n",
    "    ORDER BY\n",
    "        referer_host,\n",
    "        instrumentation_version\n",
    "\"\"\")\n",
    "\n",
    "sites_to_check = (\n",
    "    stats_by_site\n",
    "    .groupby('referer_host')\n",
    "    .aggregate(\n",
    "        versions_present=(\"instrumentation_version\", \"size\"),\n",
    "        previews=(\"previews\", \"sum\")\n",
    "    )\n",
    "    .query(\"versions_present == 2 and previews >= 100\")\n",
    "    .index\n",
    ")\n",
    "\n",
    "stats_by_site.query('referer_host in @sites_to_check').pipe(pd_display_all)"
   ]
  },
  {
   "cell_type": "markdown",
   "id": "3c2185a4-3489-4885-85a0-9a0ca5c1acbf",
   "metadata": {},
   "source": [
    "Overall, considering each rate in light of the number of underlying previews, all the sites show a reasonable before and after pattern. It definitely does not seem like the upgrade introduced an instrumentation bug."
   ]
  },
  {
   "cell_type": "markdown",
   "id": "8e648a53-4bf3-4842-971d-a369c88aae14",
   "metadata": {},
   "source": [
    "## Low traffic from touch devices\n",
    "\n",
    "Overall, mobile devices account for a bit over 50% of web use. However, only a small slice of Wikipedia Preview traffic comes from touch devices (smartphones and tablets, generally speaking). I will focus on previews here since we've only fixed the major undercounting of non-touch pageviews."
   ]
  },
  {
   "cell_type": "code",
   "execution_count": 48,
   "id": "a41cea70-b122-419d-8d38-dca5f777b917",
   "metadata": {},
   "outputs": [],
   "source": [
    "sites_filter = \"\"\"\n",
    "      referer_host NOT IN (\n",
    "        '0.0.0.0',\n",
    "        '127.0.0.1',\n",
    "        'blog-wikimedia-org-develop.go-vip.net',\n",
    "        'cdpn.io',\n",
    "        'lumion.imaggo-work.pl',\n",
    "        'localhost',\n",
    "        'wikimediadiff.test',\n",
    "        'wikimediafoundation-org-develop.go-vip.co',\n",
    "        'wikimedia.github.io',\n",
    "        'www.wixwikipediapreviewtest.com',\n",
    "        '-'\n",
    "      )\n",
    "      AND referer_host NOT LIKE '%.local'\n",
    "      AND referer_host NOT LIKE '%.ngrok.io' \n",
    "      AND referer_host NOT LIKE '192.%'\n",
    "      AND referer_host NOT LIKE '%.wikipedia.org'\n",
    "      AND referer_host NOT LIKE '%facebook.com'\n",
    "      AND referer_host NOT LIKE '%google.com'\n",
    "      AND referer_host NOT LIKE '%.test'\n",
    "      AND referer_host IS NOT NULL\n",
    "\"\"\""
   ]
  },
  {
   "cell_type": "markdown",
   "id": "8531ed7e-0c7c-4964-b4b1-3322713d279b",
   "metadata": {},
   "source": [
    "Over the last 4 weeks, only 7.4% of our previews came from touch devices."
   ]
  },
  {
   "cell_type": "code",
   "execution_count": 52,
   "id": "3cad8498-dbde-471a-9f74-085b0d5092c5",
   "metadata": {},
   "outputs": [
    {
     "data": {
      "text/html": [
       "<div>\n",
       "<style scoped>\n",
       "    .dataframe tbody tr th:only-of-type {\n",
       "        vertical-align: middle;\n",
       "    }\n",
       "\n",
       "    .dataframe tbody tr th {\n",
       "        vertical-align: top;\n",
       "    }\n",
       "\n",
       "    .dataframe thead th {\n",
       "        text-align: right;\n",
       "    }\n",
       "</style>\n",
       "<table border=\"1\" class=\"dataframe\">\n",
       "  <thead>\n",
       "    <tr style=\"text-align: right;\">\n",
       "      <th></th>\n",
       "      <th>device_type</th>\n",
       "      <th>previews</th>\n",
       "    </tr>\n",
       "  </thead>\n",
       "  <tbody>\n",
       "    <tr>\n",
       "      <th>0</th>\n",
       "      <td>touch</td>\n",
       "      <td>3926</td>\n",
       "    </tr>\n",
       "    <tr>\n",
       "      <th>1</th>\n",
       "      <td>non-touch</td>\n",
       "      <td>48827</td>\n",
       "    </tr>\n",
       "  </tbody>\n",
       "</table>\n",
       "</div>"
      ],
      "text/plain": [
       "  device_type  previews\n",
       "0       touch      3926\n",
       "1   non-touch     48827"
      ]
     },
     "execution_count": 52,
     "metadata": {},
     "output_type": "execute_result"
    }
   ],
   "source": [
    "wmf.presto.run(f\"\"\"\n",
    "    SELECT\n",
    "        device_type,\n",
    "        SUM(previews) AS previews\n",
    "    FROM wmf_product.wikipediapreview_stats\n",
    "    WHERE\n",
    "        year = 2023\n",
    "        AND (\n",
    "            month = 2 AND day >= 17\n",
    "            OR month = 3 AND day < 17\n",
    "        )\n",
    "        AND {sites_filter}\n",
    "    GROUP BY device_type\n",
    "\"\"\")"
   ]
  },
  {
   "cell_type": "markdown",
   "id": "8150dd8f-7573-4769-9063-fb06d4a010e1",
   "metadata": {},
   "source": [
    "The daily touch preview share is pretty volatile, ranging from 3% to 19%, but is certainly never more than a small minority."
   ]
  },
  {
   "cell_type": "code",
   "execution_count": 55,
   "id": "73b61350-06ce-4a78-a677-4c7bf6462fb6",
   "metadata": {},
   "outputs": [
    {
     "data": {
      "text/html": [
       "<div>\n",
       "<style scoped>\n",
       "    .dataframe tbody tr th:only-of-type {\n",
       "        vertical-align: middle;\n",
       "    }\n",
       "\n",
       "    .dataframe tbody tr th {\n",
       "        vertical-align: top;\n",
       "    }\n",
       "\n",
       "    .dataframe thead th {\n",
       "        text-align: right;\n",
       "    }\n",
       "</style>\n",
       "<table border=\"1\" class=\"dataframe\">\n",
       "  <thead>\n",
       "    <tr style=\"text-align: right;\">\n",
       "      <th></th>\n",
       "      <th>date</th>\n",
       "      <th>previews</th>\n",
       "      <th>touch_preview_share</th>\n",
       "    </tr>\n",
       "  </thead>\n",
       "  <tbody>\n",
       "    <tr>\n",
       "      <th>0</th>\n",
       "      <td>2023-02-17</td>\n",
       "      <td>1249</td>\n",
       "      <td>0.114492</td>\n",
       "    </tr>\n",
       "    <tr>\n",
       "      <th>1</th>\n",
       "      <td>2023-02-18</td>\n",
       "      <td>974</td>\n",
       "      <td>0.129363</td>\n",
       "    </tr>\n",
       "    <tr>\n",
       "      <th>2</th>\n",
       "      <td>2023-02-19</td>\n",
       "      <td>917</td>\n",
       "      <td>0.134133</td>\n",
       "    </tr>\n",
       "    <tr>\n",
       "      <th>3</th>\n",
       "      <td>2023-02-20</td>\n",
       "      <td>1395</td>\n",
       "      <td>0.116846</td>\n",
       "    </tr>\n",
       "    <tr>\n",
       "      <th>4</th>\n",
       "      <td>2023-02-21</td>\n",
       "      <td>1823</td>\n",
       "      <td>0.072957</td>\n",
       "    </tr>\n",
       "    <tr>\n",
       "      <th>5</th>\n",
       "      <td>2023-02-22</td>\n",
       "      <td>1405</td>\n",
       "      <td>0.113879</td>\n",
       "    </tr>\n",
       "    <tr>\n",
       "      <th>6</th>\n",
       "      <td>2023-02-23</td>\n",
       "      <td>1432</td>\n",
       "      <td>0.086592</td>\n",
       "    </tr>\n",
       "    <tr>\n",
       "      <th>7</th>\n",
       "      <td>2023-02-24</td>\n",
       "      <td>1138</td>\n",
       "      <td>0.108963</td>\n",
       "    </tr>\n",
       "    <tr>\n",
       "      <th>8</th>\n",
       "      <td>2023-02-25</td>\n",
       "      <td>1210</td>\n",
       "      <td>0.099174</td>\n",
       "    </tr>\n",
       "    <tr>\n",
       "      <th>9</th>\n",
       "      <td>2023-02-26</td>\n",
       "      <td>959</td>\n",
       "      <td>0.118874</td>\n",
       "    </tr>\n",
       "    <tr>\n",
       "      <th>10</th>\n",
       "      <td>2023-02-27</td>\n",
       "      <td>1423</td>\n",
       "      <td>0.078707</td>\n",
       "    </tr>\n",
       "    <tr>\n",
       "      <th>11</th>\n",
       "      <td>2023-02-28</td>\n",
       "      <td>1668</td>\n",
       "      <td>0.071942</td>\n",
       "    </tr>\n",
       "    <tr>\n",
       "      <th>12</th>\n",
       "      <td>2023-03-01</td>\n",
       "      <td>1610</td>\n",
       "      <td>0.080745</td>\n",
       "    </tr>\n",
       "    <tr>\n",
       "      <th>13</th>\n",
       "      <td>2023-03-02</td>\n",
       "      <td>1702</td>\n",
       "      <td>0.123384</td>\n",
       "    </tr>\n",
       "    <tr>\n",
       "      <th>14</th>\n",
       "      <td>2023-03-03</td>\n",
       "      <td>1631</td>\n",
       "      <td>0.193133</td>\n",
       "    </tr>\n",
       "    <tr>\n",
       "      <th>15</th>\n",
       "      <td>2023-03-04</td>\n",
       "      <td>1202</td>\n",
       "      <td>0.110649</td>\n",
       "    </tr>\n",
       "    <tr>\n",
       "      <th>16</th>\n",
       "      <td>2023-03-05</td>\n",
       "      <td>978</td>\n",
       "      <td>0.150307</td>\n",
       "    </tr>\n",
       "    <tr>\n",
       "      <th>17</th>\n",
       "      <td>2023-03-06</td>\n",
       "      <td>1558</td>\n",
       "      <td>0.089217</td>\n",
       "    </tr>\n",
       "    <tr>\n",
       "      <th>18</th>\n",
       "      <td>2023-03-07</td>\n",
       "      <td>1443</td>\n",
       "      <td>0.076923</td>\n",
       "    </tr>\n",
       "    <tr>\n",
       "      <th>19</th>\n",
       "      <td>2023-03-08</td>\n",
       "      <td>2337</td>\n",
       "      <td>0.077878</td>\n",
       "    </tr>\n",
       "    <tr>\n",
       "      <th>20</th>\n",
       "      <td>2023-03-09</td>\n",
       "      <td>3897</td>\n",
       "      <td>0.034129</td>\n",
       "    </tr>\n",
       "    <tr>\n",
       "      <th>21</th>\n",
       "      <td>2023-03-10</td>\n",
       "      <td>3963</td>\n",
       "      <td>0.040121</td>\n",
       "    </tr>\n",
       "    <tr>\n",
       "      <th>22</th>\n",
       "      <td>2023-03-11</td>\n",
       "      <td>2585</td>\n",
       "      <td>0.042166</td>\n",
       "    </tr>\n",
       "    <tr>\n",
       "      <th>23</th>\n",
       "      <td>2023-03-12</td>\n",
       "      <td>2177</td>\n",
       "      <td>0.053284</td>\n",
       "    </tr>\n",
       "    <tr>\n",
       "      <th>24</th>\n",
       "      <td>2023-03-13</td>\n",
       "      <td>2625</td>\n",
       "      <td>0.044952</td>\n",
       "    </tr>\n",
       "    <tr>\n",
       "      <th>25</th>\n",
       "      <td>2023-03-14</td>\n",
       "      <td>3050</td>\n",
       "      <td>0.035082</td>\n",
       "    </tr>\n",
       "    <tr>\n",
       "      <th>26</th>\n",
       "      <td>2023-03-15</td>\n",
       "      <td>2828</td>\n",
       "      <td>0.043847</td>\n",
       "    </tr>\n",
       "    <tr>\n",
       "      <th>27</th>\n",
       "      <td>2023-03-16</td>\n",
       "      <td>3574</td>\n",
       "      <td>0.036654</td>\n",
       "    </tr>\n",
       "  </tbody>\n",
       "</table>\n",
       "</div>"
      ],
      "text/plain": [
       "          date  previews  touch_preview_share\n",
       "0   2023-02-17      1249             0.114492\n",
       "1   2023-02-18       974             0.129363\n",
       "2   2023-02-19       917             0.134133\n",
       "3   2023-02-20      1395             0.116846\n",
       "4   2023-02-21      1823             0.072957\n",
       "5   2023-02-22      1405             0.113879\n",
       "6   2023-02-23      1432             0.086592\n",
       "7   2023-02-24      1138             0.108963\n",
       "8   2023-02-25      1210             0.099174\n",
       "9   2023-02-26       959             0.118874\n",
       "10  2023-02-27      1423             0.078707\n",
       "11  2023-02-28      1668             0.071942\n",
       "12  2023-03-01      1610             0.080745\n",
       "13  2023-03-02      1702             0.123384\n",
       "14  2023-03-03      1631             0.193133\n",
       "15  2023-03-04      1202             0.110649\n",
       "16  2023-03-05       978             0.150307\n",
       "17  2023-03-06      1558             0.089217\n",
       "18  2023-03-07      1443             0.076923\n",
       "19  2023-03-08      2337             0.077878\n",
       "20  2023-03-09      3897             0.034129\n",
       "21  2023-03-10      3963             0.040121\n",
       "22  2023-03-11      2585             0.042166\n",
       "23  2023-03-12      2177             0.053284\n",
       "24  2023-03-13      2625             0.044952\n",
       "25  2023-03-14      3050             0.035082\n",
       "26  2023-03-15      2828             0.043847\n",
       "27  2023-03-16      3574             0.036654"
      ]
     },
     "execution_count": 55,
     "metadata": {},
     "output_type": "execute_result"
    }
   ],
   "source": [
    "wmf.presto.run(f\"\"\"\n",
    "    SELECT\n",
    "        CONCAT(\n",
    "            CAST(year AS VARCHAR), \n",
    "            '-',\n",
    "            LPAD(CAST(month AS VARCHAR), 2, '0'), \n",
    "            '-', \n",
    "            LPAD(CAST(day AS VARCHAR), 2, '0')\n",
    "        ) AS date,\n",
    "        SUM(previews) AS previews,\n",
    "        CAST(SUM(IF(device_type = 'touch', previews, 0)) AS REAL) / CAST(SUM(previews) AS REAL)\n",
    "            AS touch_preview_share\n",
    "    FROM wmf_product.wikipediapreview_stats\n",
    "    WHERE\n",
    "        year = 2023\n",
    "        AND (\n",
    "            month = 2 AND day >= 17\n",
    "            OR month = 3 AND day < 17\n",
    "        )\n",
    "        AND {sites_filter}\n",
    "    GROUP BY\n",
    "        year,\n",
    "        month,\n",
    "        day\n",
    "    ORDER BY date\n",
    "\"\"\")"
   ]
  },
  {
   "cell_type": "code",
   "execution_count": 56,
   "id": "04f198b1-2b96-4ea9-8007-793b5f8ad153",
   "metadata": {},
   "outputs": [],
   "source": [
    "touch_share_by_site = wmf.presto.run(f\"\"\"\n",
    "    SELECT\n",
    "        referer_host AS website,\n",
    "        SUM(previews) AS previews,\n",
    "        CAST(SUM(IF(device_type = 'touch', previews, 0)) AS REAL) / CAST(SUM(previews) AS REAL)\n",
    "            AS touch_preview_share\n",
    "    FROM wmf_product.wikipediapreview_stats\n",
    "    WHERE\n",
    "        year = 2023\n",
    "        AND (\n",
    "            month = 2 AND day >= 17\n",
    "            OR month = 3 AND day < 17\n",
    "        )\n",
    "        AND {sites_filter}\n",
    "    GROUP BY referer_host\n",
    "    ORDER BY previews DESC\n",
    "\"\"\")"
   ]
  },
  {
   "cell_type": "markdown",
   "id": "fa3cf306-2fe2-4c74-bef0-13da08647a18",
   "metadata": {},
   "source": [
    "Among the 25 sites with the most previews, the touch share varies from 0% to 22%. It's noteworthy that the site with the highest rate (orlandotravelham.com) uses the default link styling which visibily distinguishes Preview links from other links. Like virtually all the sites I've seen, the next two highest sites (wikimediafoundation.org, at 19%, and sanremo-festival.de, at 12%) don't use any special styling on Preview links.\n",
    "\n",
    "Five sites had a clean 0%, with no touch previews whatsoever in 4 weeks. For two (www.goodnewsfromindonesia.id and devel.bibleandplaces.com), this makes sense because they're using a version that predates touch tracking. But for three (blog.thecursedgroup.rf.gd, gorhambury.org, and moonpub.net), that isn't the case, so it seems quite strange that despite about 250 previews each, not a single one was from a touch device."
   ]
  },
  {
   "cell_type": "code",
   "execution_count": 163,
   "id": "e7faaf03-dc3c-4133-b44d-3faed45bee2b",
   "metadata": {},
   "outputs": [
    {
     "data": {
      "text/html": [
       "<div>\n",
       "<style scoped>\n",
       "    .dataframe tbody tr th:only-of-type {\n",
       "        vertical-align: middle;\n",
       "    }\n",
       "\n",
       "    .dataframe tbody tr th {\n",
       "        vertical-align: top;\n",
       "    }\n",
       "\n",
       "    .dataframe thead th {\n",
       "        text-align: right;\n",
       "    }\n",
       "</style>\n",
       "<table border=\"1\" class=\"dataframe\">\n",
       "  <thead>\n",
       "    <tr style=\"text-align: right;\">\n",
       "      <th></th>\n",
       "      <th>website</th>\n",
       "      <th>touch_preview_share</th>\n",
       "    </tr>\n",
       "  </thead>\n",
       "  <tbody>\n",
       "    <tr>\n",
       "      <th>22</th>\n",
       "      <td>orlandotravelham.com</td>\n",
       "      <td>0.224359</td>\n",
       "    </tr>\n",
       "    <tr>\n",
       "      <th>1</th>\n",
       "      <td>wikimediafoundation.org</td>\n",
       "      <td>0.188336</td>\n",
       "    </tr>\n",
       "    <tr>\n",
       "      <th>7</th>\n",
       "      <td>sanremo-festival.de</td>\n",
       "      <td>0.115040</td>\n",
       "    </tr>\n",
       "    <tr>\n",
       "      <th>14</th>\n",
       "      <td>soundlogo.wikimedia.org</td>\n",
       "      <td>0.094077</td>\n",
       "    </tr>\n",
       "    <tr>\n",
       "      <th>2</th>\n",
       "      <td>diff.wikimedia.org</td>\n",
       "      <td>0.081619</td>\n",
       "    </tr>\n",
       "    <tr>\n",
       "      <th>19</th>\n",
       "      <td>genesibiblica.org</td>\n",
       "      <td>0.076531</td>\n",
       "    </tr>\n",
       "    <tr>\n",
       "      <th>3</th>\n",
       "      <td>www.scoopearth.com</td>\n",
       "      <td>0.058327</td>\n",
       "    </tr>\n",
       "    <tr>\n",
       "      <th>23</th>\n",
       "      <td>jrpgc.com</td>\n",
       "      <td>0.052288</td>\n",
       "    </tr>\n",
       "    <tr>\n",
       "      <th>12</th>\n",
       "      <td>www.lasnuevemusas.com</td>\n",
       "      <td>0.052036</td>\n",
       "    </tr>\n",
       "    <tr>\n",
       "      <th>5</th>\n",
       "      <td>xpressenglish.com</td>\n",
       "      <td>0.049637</td>\n",
       "    </tr>\n",
       "    <tr>\n",
       "      <th>11</th>\n",
       "      <td>rightforeducation.org</td>\n",
       "      <td>0.045267</td>\n",
       "    </tr>\n",
       "    <tr>\n",
       "      <th>21</th>\n",
       "      <td>smex.org</td>\n",
       "      <td>0.037500</td>\n",
       "    </tr>\n",
       "    <tr>\n",
       "      <th>6</th>\n",
       "      <td>keynerd.it</td>\n",
       "      <td>0.035194</td>\n",
       "    </tr>\n",
       "    <tr>\n",
       "      <th>10</th>\n",
       "      <td>espertocasaclima.com</td>\n",
       "      <td>0.030981</td>\n",
       "    </tr>\n",
       "    <tr>\n",
       "      <th>0</th>\n",
       "      <td>bjmoreshet.org</td>\n",
       "      <td>0.030939</td>\n",
       "    </tr>\n",
       "    <tr>\n",
       "      <th>17</th>\n",
       "      <td>gea-drenthe.nl</td>\n",
       "      <td>0.028689</td>\n",
       "    </tr>\n",
       "    <tr>\n",
       "      <th>20</th>\n",
       "      <td>blog.andrepitz.de</td>\n",
       "      <td>0.024390</td>\n",
       "    </tr>\n",
       "    <tr>\n",
       "      <th>9</th>\n",
       "      <td>lumion.pl</td>\n",
       "      <td>0.023739</td>\n",
       "    </tr>\n",
       "    <tr>\n",
       "      <th>8</th>\n",
       "      <td>framablog.org</td>\n",
       "      <td>0.019180</td>\n",
       "    </tr>\n",
       "    <tr>\n",
       "      <th>4</th>\n",
       "      <td>richardbevan.co.uk</td>\n",
       "      <td>0.000368</td>\n",
       "    </tr>\n",
       "    <tr>\n",
       "      <th>15</th>\n",
       "      <td>blog.thecursedgroup.rf.gd</td>\n",
       "      <td>0.000000</td>\n",
       "    </tr>\n",
       "    <tr>\n",
       "      <th>16</th>\n",
       "      <td>devel.bibleandplaces.com</td>\n",
       "      <td>0.000000</td>\n",
       "    </tr>\n",
       "    <tr>\n",
       "      <th>18</th>\n",
       "      <td>gorhambury.org</td>\n",
       "      <td>0.000000</td>\n",
       "    </tr>\n",
       "    <tr>\n",
       "      <th>13</th>\n",
       "      <td>www.goodnewsfromindonesia.id</td>\n",
       "      <td>0.000000</td>\n",
       "    </tr>\n",
       "    <tr>\n",
       "      <th>24</th>\n",
       "      <td>moonpub.net</td>\n",
       "      <td>0.000000</td>\n",
       "    </tr>\n",
       "  </tbody>\n",
       "</table>\n",
       "</div>"
      ],
      "text/plain": [
       "                         website  touch_preview_share\n",
       "22          orlandotravelham.com             0.224359\n",
       "1        wikimediafoundation.org             0.188336\n",
       "7            sanremo-festival.de             0.115040\n",
       "14       soundlogo.wikimedia.org             0.094077\n",
       "2             diff.wikimedia.org             0.081619\n",
       "19             genesibiblica.org             0.076531\n",
       "3             www.scoopearth.com             0.058327\n",
       "23                     jrpgc.com             0.052288\n",
       "12         www.lasnuevemusas.com             0.052036\n",
       "5              xpressenglish.com             0.049637\n",
       "11         rightforeducation.org             0.045267\n",
       "21                      smex.org             0.037500\n",
       "6                     keynerd.it             0.035194\n",
       "10          espertocasaclima.com             0.030981\n",
       "0                 bjmoreshet.org             0.030939\n",
       "17                gea-drenthe.nl             0.028689\n",
       "20             blog.andrepitz.de             0.024390\n",
       "9                      lumion.pl             0.023739\n",
       "8                  framablog.org             0.019180\n",
       "4             richardbevan.co.uk             0.000368\n",
       "15     blog.thecursedgroup.rf.gd             0.000000\n",
       "16      devel.bibleandplaces.com             0.000000\n",
       "18                gorhambury.org             0.000000\n",
       "13  www.goodnewsfromindonesia.id             0.000000\n",
       "24                   moonpub.net             0.000000"
      ]
     },
     "execution_count": 163,
     "metadata": {},
     "output_type": "execute_result"
    }
   ],
   "source": [
    "(\n",
    "    touch_share_by_site\n",
    "    .head(25)\n",
    "    .sort_values(\"touch_preview_share\", ascending=False)\n",
    "    [[\"website\", \"touch_preview_share\"]]\n",
    ")"
   ]
  },
  {
   "cell_type": "markdown",
   "id": "88b0b358-cba9-4aa9-8ae2-a5875a2e065c",
   "metadata": {},
   "source": [
    "To see if there's some instrumentation bug, at around 2023-03-18 02:30, I went to these three sites on my phone, found a preview link on each one, opened it, and clicked through to Wikipedia. (The articles were \"Steganography\" on gorhambury.org, \"Roswell incident\" on moonpub.net, and \"Diamante (female wrestler)\" on blog.thecursedgroup.rf.gd.)\n",
    "\n",
    "Somewhat surprisingly, all of them show up in our Wikipedia Preview data. This is probably the clearest indication that our touch traffic is genuinely low."
   ]
  },
  {
   "cell_type": "code",
   "execution_count": 62,
   "id": "2b2fc7c7-59a0-435d-992b-bce19c8485a7",
   "metadata": {},
   "outputs": [
    {
     "data": {
      "text/html": [
       "<div>\n",
       "<style scoped>\n",
       "    .dataframe tbody tr th:only-of-type {\n",
       "        vertical-align: middle;\n",
       "    }\n",
       "\n",
       "    .dataframe tbody tr th {\n",
       "        vertical-align: top;\n",
       "    }\n",
       "\n",
       "    .dataframe thead th {\n",
       "        text-align: right;\n",
       "    }\n",
       "</style>\n",
       "<table border=\"1\" class=\"dataframe\">\n",
       "  <thead>\n",
       "    <tr style=\"text-align: right;\">\n",
       "      <th></th>\n",
       "      <th>pageviews</th>\n",
       "      <th>previews</th>\n",
       "      <th>year</th>\n",
       "      <th>month</th>\n",
       "      <th>day</th>\n",
       "      <th>device_type</th>\n",
       "      <th>referer_host</th>\n",
       "      <th>continent</th>\n",
       "      <th>country_code</th>\n",
       "      <th>country</th>\n",
       "      <th>instrumentation_version</th>\n",
       "    </tr>\n",
       "  </thead>\n",
       "  <tbody>\n",
       "    <tr>\n",
       "      <th>0</th>\n",
       "      <td>1</td>\n",
       "      <td>3</td>\n",
       "      <td>2023</td>\n",
       "      <td>3</td>\n",
       "      <td>18</td>\n",
       "      <td>touch</td>\n",
       "      <td>moonpub.net</td>\n",
       "      <td>North America</td>\n",
       "      <td>US</td>\n",
       "      <td>United States</td>\n",
       "      <td>1</td>\n",
       "    </tr>\n",
       "    <tr>\n",
       "      <th>1</th>\n",
       "      <td>1</td>\n",
       "      <td>1</td>\n",
       "      <td>2023</td>\n",
       "      <td>3</td>\n",
       "      <td>18</td>\n",
       "      <td>touch</td>\n",
       "      <td>blog.thecursedgroup.rf.gd</td>\n",
       "      <td>North America</td>\n",
       "      <td>US</td>\n",
       "      <td>United States</td>\n",
       "      <td>2</td>\n",
       "    </tr>\n",
       "    <tr>\n",
       "      <th>2</th>\n",
       "      <td>2</td>\n",
       "      <td>1</td>\n",
       "      <td>2023</td>\n",
       "      <td>3</td>\n",
       "      <td>18</td>\n",
       "      <td>touch</td>\n",
       "      <td>gorhambury.org</td>\n",
       "      <td>North America</td>\n",
       "      <td>US</td>\n",
       "      <td>United States</td>\n",
       "      <td>2</td>\n",
       "    </tr>\n",
       "  </tbody>\n",
       "</table>\n",
       "</div>"
      ],
      "text/plain": [
       "   pageviews  previews  year  month  day device_type  \\\n",
       "0          1         3  2023      3   18       touch   \n",
       "1          1         1  2023      3   18       touch   \n",
       "2          2         1  2023      3   18       touch   \n",
       "\n",
       "                referer_host      continent country_code        country  \\\n",
       "0                moonpub.net  North America           US  United States   \n",
       "1  blog.thecursedgroup.rf.gd  North America           US  United States   \n",
       "2             gorhambury.org  North America           US  United States   \n",
       "\n",
       "   instrumentation_version  \n",
       "0                        1  \n",
       "1                        2  \n",
       "2                        2  "
      ]
     },
     "execution_count": 62,
     "metadata": {},
     "output_type": "execute_result"
    }
   ],
   "source": [
    "wmf.presto.run(f\"\"\"\n",
    "    SELECT *\n",
    "    FROM wmf_product.wikipediapreview_stats\n",
    "    WHERE\n",
    "        year = 2023\n",
    "        AND month = 3\n",
    "        AND day = 18\n",
    "        AND referer_host in ('gorhambury.org', 'moonpub.net', 'blog.thecursedgroup.rf.gd')\n",
    "        AND device_type = 'touch'\n",
    "\"\"\")"
   ]
  },
  {
   "cell_type": "markdown",
   "id": "fec3d7f8-3614-45c5-8d25-e9ea0876a369",
   "metadata": {},
   "source": [
    "[Previously](https://github.com/nshahquinn/misc-wikimedia-analysis/blob/master/2022/2022-07_wikipedia-preview-mobile-desktop-mismatch.ipynb), I looked at the raw user agents of devices that fell into our touch and non-touch buckets and saw what looked like quite a few cases where smartphones were falling into the non-touch bucket and PCs were falling into the touch bucket.\n",
    "\n",
    "Let me repeat that and see where things stand now."
   ]
  },
  {
   "cell_type": "code",
   "execution_count": null,
   "id": "384c97d6-32e7-437d-aa66-6ee3b2039ecc",
   "metadata": {},
   "outputs": [],
   "source": [
    "wmf.spark.create_session(\n",
    "    type=\"yarn-large\",\n",
    "    extra_settings=\n",
    ")\n",
    "\n",
    "wp_preview_hits_private = wmf.spark.run(\"\"\"\n",
    "    SELECT\n",
    "        dt,\n",
    "        PARSE_URL(referer, 'HOST') as referring_website,\n",
    "        IF(\n",
    "            REGEXP_EXTRACT(\n",
    "                x_analytics_map['wprov'],\n",
    "                '^wppw(\\\\\\\\d+)(t?)$',\n",
    "                2\n",
    "            ) = 't',\n",
    "            'touch',\n",
    "            'non-touch'\n",
    "        ) AS device_type,\n",
    "        IF(is_pageview, 'pageview', 'preview') AS view_type,\n",
    "        access_method,\n",
    "        uri_host,\n",
    "        uri_path,\n",
    "        uri_query,\n",
    "        client_ip,\n",
    "        user_agent,\n",
    "        user_agent_map,\n",
    "        agent_type,\n",
    "        CAST(REGEXP_EXTRACT(\n",
    "            x_analytics_map['wprov'],\n",
    "            '^wppw(\\\\\\\\d+)(t?)$',\n",
    "            1\n",
    "        ) AS INT) AS instrumentation_version\n",
    "    FROM wmf.webrequest\n",
    "    WHERE\n",
    "        year = 2023\n",
    "        AND month = 3\n",
    "        AND day = 15\n",
    "        AND webrequest_source = 'text'\n",
    "        AND x_analytics_map['wprov'] REGEXP '^wppw(\\\\\\\\d+)(t?)$'\n",
    "\"\"\")"
   ]
  },
  {
   "cell_type": "code",
   "execution_count": 100,
   "id": "112dbf74-4456-4762-a64f-6435a4f169ba",
   "metadata": {},
   "outputs": [],
   "source": [
    "a = wp_preview_hits_private.drop(\"user_agent_map\", axis=\"columns\")\n",
    "b = pd.DataFrame.from_records(wp_preview_hits_private[\"user_agent_map\"])\n",
    "wp_preview_hits_private = pd.concat([a, b], axis=\"columns\")"
   ]
  },
  {
   "cell_type": "markdown",
   "id": "0b620805-1889-496d-8547-c22bd47317c8",
   "metadata": {},
   "source": [
    "As expected, this day of data shows very little touch traffic (4.4%)."
   ]
  },
  {
   "cell_type": "code",
   "execution_count": 119,
   "id": "3dca028f-025d-4b0a-98f1-96a7c3f95e3a",
   "metadata": {},
   "outputs": [
    {
     "data": {
      "text/plain": [
       "device_type\n",
       "non-touch    2707\n",
       "touch         126\n",
       "dtype: int64"
      ]
     },
     "execution_count": 119,
     "metadata": {},
     "output_type": "execute_result"
    }
   ],
   "source": [
    "wp_preview_hits_private.query(\"view_type == 'preview'\").groupby('device_type').apply(len)"
   ]
  },
  {
   "cell_type": "markdown",
   "id": "8ce478d8-328c-49a0-8b15-60356b47a9c0",
   "metadata": {},
   "source": [
    "Well, here's one unexpected but important thing: there is a major amount of spider traffic here."
   ]
  },
  {
   "cell_type": "code",
   "execution_count": 101,
   "id": "2104a9f1-1d16-4a07-a6a7-b569a626eb24",
   "metadata": {},
   "outputs": [
    {
     "data": {
      "text/plain": [
       "view_type  agent_type\n",
       "pageview   spider           2\n",
       "           user            79\n",
       "preview    spider        1641\n",
       "           user          1192\n",
       "dtype: int64"
      ]
     },
     "execution_count": 101,
     "metadata": {},
     "output_type": "execute_result"
    }
   ],
   "source": [
    "wp_preview_hits_private.groupby([\"view_type\", \"agent_type\"]).apply(len)"
   ]
  },
  {
   "cell_type": "markdown",
   "id": "7d761410-3e28-4cff-a252-3c4f460601f5",
   "metadata": {},
   "source": [
    "Virtually all of this spider traffic is from Facebook, with the user agent they use when fetching a page that has been linked on Facebook."
   ]
  },
  {
   "cell_type": "code",
   "execution_count": 148,
   "id": "dfb5542c-95bd-49d9-9862-deb82f2f80f0",
   "metadata": {},
   "outputs": [
    {
     "data": {
      "text/html": [
       "<div>\n",
       "<style scoped>\n",
       "    .dataframe tbody tr th:only-of-type {\n",
       "        vertical-align: middle;\n",
       "    }\n",
       "\n",
       "    .dataframe tbody tr th {\n",
       "        vertical-align: top;\n",
       "    }\n",
       "\n",
       "    .dataframe thead th {\n",
       "        text-align: right;\n",
       "    }\n",
       "</style>\n",
       "<table border=\"1\" class=\"dataframe\">\n",
       "  <thead>\n",
       "    <tr style=\"text-align: right;\">\n",
       "      <th></th>\n",
       "      <th></th>\n",
       "      <th>views</th>\n",
       "    </tr>\n",
       "    <tr>\n",
       "      <th>view_type</th>\n",
       "      <th>user_agent</th>\n",
       "      <th></th>\n",
       "    </tr>\n",
       "  </thead>\n",
       "  <tbody>\n",
       "    <tr>\n",
       "      <th rowspan=\"2\" valign=\"top\">pageview</th>\n",
       "      <th>Mozilla/5.0 (X11; Linux x86_64) AppleWebKit/537.36 (KHTML, like Gecko) Chrome/41.0.2272.118 Safari/537.36 (compatible; Google-Read-Aloud; +https://support.google.com/webmasters/answer/1061943)</th>\n",
       "      <td>1</td>\n",
       "    </tr>\n",
       "    <tr>\n",
       "      <th>python-requests/2.20.0</th>\n",
       "      <td>1</td>\n",
       "    </tr>\n",
       "    <tr>\n",
       "      <th>preview</th>\n",
       "      <th>facebookexternalhit/1.1 (+http://www.facebook.com/externalhit_uatext.php)</th>\n",
       "      <td>1641</td>\n",
       "    </tr>\n",
       "  </tbody>\n",
       "</table>\n",
       "</div>"
      ],
      "text/plain": [
       "                                                              views\n",
       "view_type user_agent                                               \n",
       "pageview  Mozilla/5.0 (X11; Linux x86_64) AppleWebKit/537...      1\n",
       "          python-requests/2.20.0                                  1\n",
       "preview   facebookexternalhit/1.1 (+http://www.facebook.c...   1641"
      ]
     },
     "execution_count": 148,
     "metadata": {},
     "output_type": "execute_result"
    }
   ],
   "source": [
    "(\n",
    "    wp_preview_hits_private\n",
    "    .query(\"agent_type == 'spider'\")\n",
    "    .groupby([\"view_type\", \"user_agent\"])\n",
    "    .apply(len)\n",
    "    .to_frame()\n",
    "    .rename({0: \"views\"}, axis=\"columns\")\n",
    ")"
   ]
  },
  {
   "cell_type": "markdown",
   "id": "fdb5bf04-8f2c-41e4-b9f7-4c81c065a9a7",
   "metadata": {},
   "source": [
    "Surprisingly, two websites (bjmoreshet.org and richardbevan.co.uk) absolutely dominate the spider traffic."
   ]
  },
  {
   "cell_type": "code",
   "execution_count": null,
   "id": "1a7b5d1c-e80d-40eb-a2d5-743fb668317a",
   "metadata": {},
   "outputs": [],
   "source": [
    "wp_preview_hits_private.query(\"agent_type == 'spider'\").groupby(\"referring_website\").apply(len)"
   ]
  },
  {
   "cell_type": "markdown",
   "id": "9fc5fef8-4ba8-4871-8cd2-5d44d48da88c",
   "metadata": {},
   "source": [
    "And virtually all of these sites' Preview traffic is from spiders."
   ]
  },
  {
   "cell_type": "code",
   "execution_count": 154,
   "id": "6773a7ce-86f8-4e40-8ac8-616949744bdc",
   "metadata": {},
   "outputs": [
    {
     "data": {
      "text/html": [
       "<div>\n",
       "<style scoped>\n",
       "    .dataframe tbody tr th:only-of-type {\n",
       "        vertical-align: middle;\n",
       "    }\n",
       "\n",
       "    .dataframe tbody tr th {\n",
       "        vertical-align: top;\n",
       "    }\n",
       "\n",
       "    .dataframe thead th {\n",
       "        text-align: right;\n",
       "    }\n",
       "</style>\n",
       "<table border=\"1\" class=\"dataframe\">\n",
       "  <thead>\n",
       "    <tr style=\"text-align: right;\">\n",
       "      <th></th>\n",
       "      <th>spider_share</th>\n",
       "    </tr>\n",
       "    <tr>\n",
       "      <th>referring_website</th>\n",
       "      <th></th>\n",
       "    </tr>\n",
       "  </thead>\n",
       "  <tbody>\n",
       "    <tr>\n",
       "      <th>bjmoreshet.org</th>\n",
       "      <td>0.982085</td>\n",
       "    </tr>\n",
       "    <tr>\n",
       "      <th>richardbevan.co.uk</th>\n",
       "      <td>0.982323</td>\n",
       "    </tr>\n",
       "  </tbody>\n",
       "</table>\n",
       "</div>"
      ],
      "text/plain": [
       "                    spider_share\n",
       "referring_website               \n",
       "bjmoreshet.org          0.982085\n",
       "richardbevan.co.uk      0.982323"
      ]
     },
     "execution_count": 154,
     "metadata": {},
     "output_type": "execute_result"
    }
   ],
   "source": [
    "(\n",
    "    wp_preview_hits_private\n",
    "    .query(\"referring_website in ('bjmoreshet.org', 'richardbevan.co.uk') and view_type == 'preview'\")\n",
    "    .groupby(\"referring_website\")\n",
    "    .agg(\n",
    "        spider_share=(\"agent_type\", lambda s: (s == \"spider\").sum() / len(s))\n",
    "    )\n",
    ")"
   ]
  },
  {
   "cell_type": "markdown",
   "id": "80c4961f-4768-4b11-84ee-7f757ecfa2a8",
   "metadata": {},
   "source": [
    "Anyway, when we filter out these spiders, the fraction of touch traffic goes up to 10.6%."
   ]
  },
  {
   "cell_type": "code",
   "execution_count": 156,
   "id": "7aeb2249-0b74-4714-a086-34baacd22a04",
   "metadata": {},
   "outputs": [
    {
     "data": {
      "text/plain": [
       "device_type\n",
       "non-touch    1066\n",
       "touch         126\n",
       "dtype: int64"
      ]
     },
     "execution_count": 156,
     "metadata": {},
     "output_type": "execute_result"
    }
   ],
   "source": [
    "user_previews = wp_preview_hits_private.query(\"agent_type == 'user' and view_type == 'preview'\")\n",
    "user_previews.groupby('device_type').apply(len)"
   ]
  },
  {
   "cell_type": "markdown",
   "id": "d475d4a5-2c64-4d20-b50c-e2c852e10e9d",
   "metadata": {},
   "source": [
    "Most of the touch traffic comes from Android and iOS devices, as expected, but there are substantial numbers of Chrome OS, Linux, macOS, and Windows devices."
   ]
  },
  {
   "cell_type": "code",
   "execution_count": 157,
   "id": "144a49c4-8177-4225-b496-6cce2bea0d5d",
   "metadata": {},
   "outputs": [
    {
     "data": {
      "text/plain": [
       "os_family\n",
       "Android      70\n",
       "Chrome OS     7\n",
       "Linux        15\n",
       "Mac OS X     11\n",
       "Windows      10\n",
       "iOS          13\n",
       "dtype: int64"
      ]
     },
     "execution_count": 157,
     "metadata": {},
     "output_type": "execute_result"
    }
   ],
   "source": [
    "touch_previews = user_previews.query(\"device_type == 'touch'\")\n",
    "touch_previews.groupby(\"os_family\").apply(len)"
   ]
  },
  {
   "cell_type": "markdown",
   "id": "8545a9d5-f108-4f51-894d-bd328fda22d2",
   "metadata": {},
   "source": [
    "The Chrome OS user agents don't offer any device information, but there seem to be plenty of touchscreen Chrome OS devices, so that's probably what these are."
   ]
  },
  {
   "cell_type": "code",
   "execution_count": null,
   "id": "f3a1212e-9195-45e2-af05-cb80ee8af88e",
   "metadata": {},
   "outputs": [],
   "source": [
    "touch_previews.query(\"os_family == 'Chrome OS'\")[\"user_agent\"].pipe(pd_display_all)"
   ]
  },
  {
   "cell_type": "markdown",
   "id": "ab760d3a-96a2-41da-9093-fcefc83a4843",
   "metadata": {},
   "source": [
    "The Windows touch devices have normal-looking user agents. Most likely, they are Windows laptops with touchscreens."
   ]
  },
  {
   "cell_type": "code",
   "execution_count": null,
   "id": "697444af-4d50-47c6-a3b1-b8dc16af1317",
   "metadata": {},
   "outputs": [],
   "source": [
    "touch_previews.query(\"os_family == 'Windows'\")[\"user_agent\"].pipe(pd_display_all)"
   ]
  },
  {
   "cell_type": "markdown",
   "id": "371d4f0c-c531-4441-8e1f-b5cc2a528b4b",
   "metadata": {},
   "source": [
    "Most of these \"macOS\" touch devices also have normal-looking user agents. Very likely, those are iPads; apparently, their user agents are the same as desktop macOS Safari ones. There are no touchscreen Mac models.\n",
    "\n",
    "There are a couple that have the same type of user agent but with the ending \"Version/X Safari/Y\" replaced with \"WikipediaApp\". Perhaps that's the embedded broswer in the iOS Wikipedia app on an iPad."
   ]
  },
  {
   "cell_type": "code",
   "execution_count": null,
   "id": "7b67f90e-d256-4ffd-8c2a-6fb8f3cb0916",
   "metadata": {},
   "outputs": [],
   "source": [
    "touch_previews.query(\"os_family == 'Mac OS X'\")[\"user_agent\"].pipe(pd_display_all)"
   ]
  },
  {
   "cell_type": "markdown",
   "id": "5662dfb4-d84a-4b31-b163-6e268f02b02a",
   "metadata": {},
   "source": [
    "These Linux touch devices could also be laptops with touchscreens; in this case, 14 were visiting wikimediafoundation.org and 1 was visiting diff.wikimedia.org, which are both fairly reasonable places to find an unusual concentration of Linux laptops."
   ]
  },
  {
   "cell_type": "code",
   "execution_count": null,
   "id": "9233096e-565a-4ad5-b0b8-ce130abfbbb1",
   "metadata": {},
   "outputs": [],
   "source": [
    "touch_previews.query(\"os_family == 'Linux'\")[\"user_agent\"].pipe(pd_display_all)"
   ]
  },
  {
   "cell_type": "markdown",
   "id": "d476f693-6163-4546-ab97-cdc30b82c5ad",
   "metadata": {},
   "source": [
    "So, all in all, touchscreen laptops are not just a negligible share of our touch traffic."
   ]
  },
  {
   "cell_type": "markdown",
   "id": "5c34fcb5-c9fe-4501-8c85-d47b8d47f60a",
   "metadata": {},
   "source": [
    "Happily, there are no iOS or Android user agents among the non-touch."
   ]
  },
  {
   "cell_type": "code",
   "execution_count": 131,
   "id": "ed507f51-c58d-4a7d-b87d-96633a4348f3",
   "metadata": {},
   "outputs": [
    {
     "data": {
      "text/plain": [
       "os_family\n",
       "Chrome OS     30\n",
       "Fedora         1\n",
       "FreeBSD        1\n",
       "Linux         29\n",
       "Mac OS X     232\n",
       "Other          1\n",
       "Ubuntu        13\n",
       "Windows      759\n",
       "dtype: int64"
      ]
     },
     "execution_count": 131,
     "metadata": {},
     "output_type": "execute_result"
    }
   ],
   "source": [
    "nontouch_previews = user_previews.query(\"device_type == 'non-touch'\")\n",
    "nontouch_previews.groupby(\"os_family\").apply(len)"
   ]
  },
  {
   "cell_type": "markdown",
   "id": "974ab59f-2aec-4cdf-8d56-7493bb03ab5d",
   "metadata": {},
   "source": [
    "Since the last time I looked at these, I saw a lot of mobile devices getting classified as non-touch, let me look at a sample just to be sure.\n",
    "\n",
    "These all look like computers. Probably what I saw previously was devices that had visited websites running older versions of Wikipedia Preview, from before we started indicating the device type in the `wprov` parameter."
   ]
  },
  {
   "cell_type": "code",
   "execution_count": null,
   "id": "c0a11499-1078-4446-b67f-5111675b444e",
   "metadata": {},
   "outputs": [],
   "source": [
    "nontouch_previews[\"user_agent\"].sample(50).pipe(pd_display_all)"
   ]
  },
  {
   "cell_type": "markdown",
   "id": "5dc02ef3-33f9-4635-beeb-95c4f2fe3f3f",
   "metadata": {},
   "source": [
    "So, filtering out the touchscreen laptops, it looks like about 7.9% of our previews come from smartphones or tablets. Previously, I had assumed that \"touch\" was essentially synonymous with \"mobile\", but that isn't the case. Our mobile traffic is actually lower than it appeared.\n",
    "\n",
    "Ironically, even though I found two important data issues, I can still conclude that our strangely low level of touch traffic actually does reflect reality!"
   ]
  },
  {
   "cell_type": "code",
   "execution_count": 162,
   "id": "faa18eb8-f69c-49c6-a03e-9f0ddc5cc681",
   "metadata": {},
   "outputs": [
    {
     "data": {
      "text/plain": [
       "0.07885906040268456"
      ]
     },
     "execution_count": 162,
     "metadata": {},
     "output_type": "execute_result"
    }
   ],
   "source": [
    "len(touch_previews.query(\"os_family in ('Android', 'iOS', 'Mac OS X')\")) / len(user_previews)"
   ]
  }
 ],
 "metadata": {
  "kernelspec": {
   "display_name": "Python 3 (ipykernel)",
   "language": "python",
   "name": "python3"
  },
  "language_info": {
   "codemirror_mode": {
    "name": "ipython",
    "version": 3
   },
   "file_extension": ".py",
   "mimetype": "text/x-python",
   "name": "python",
   "nbconvert_exporter": "python",
   "pygments_lexer": "ipython3",
   "version": "3.10.8"
  }
 },
 "nbformat": 4,
 "nbformat_minor": 5
}
