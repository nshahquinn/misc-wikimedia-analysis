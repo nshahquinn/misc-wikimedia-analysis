{
 "cells": [
  {
   "cell_type": "markdown",
   "id": "692ff554-fda5-4838-a3bd-663664acdf68",
   "metadata": {},
   "source": [
    "The Wikipedia Preview ETL job now an old Oozie version, which is producing data to `wmf_product.wikipediapreview_stats`, and a new Airflow version, which is producing data to `wmf_product.wikipedia_preview_stats` ([T333218](https://phabricator.wikimedia.org/T333218)). Are there any issues that block retiring the old one in favor of the new one?"
   ]
  },
  {
   "cell_type": "code",
   "execution_count": 1,
   "id": "6cc84657-bd58-4d93-a22d-ef13cb245b24",
   "metadata": {},
   "outputs": [],
   "source": [
    "import pandas as pd\n",
    "import wmfdata as wmf\n",
    "\n",
    "from wmfdata.utils import (\n",
    "    pd_display_all\n",
    ")"
   ]
  },
  {
   "cell_type": "code",
   "execution_count": 2,
   "id": "9a93363d-61a4-40d5-961a-df54c0267049",
   "metadata": {},
   "outputs": [
    {
     "name": "stdout",
     "output_type": "stream",
     "text": [
      "CREATE TABLE analytics_hive.wmf_product.wikipediapreview_stats (\n",
      "   \"pageviews\" bigint COMMENT 'Number of pageviews shown as a result of a clickthrough from a Wikipedia Preview preview',\n",
      "   \"previews\" bigint COMMENT 'Number of API requests for article preview content made by Wikipedia Preview clients',\n",
      "   \"year\" integer COMMENT 'Unpadded year of request',\n",
      "   \"month\" integer COMMENT 'Unpadded month of request',\n",
      "   \"day\" integer COMMENT 'Unpadded day of request',\n",
      "   \"device_type\" varchar COMMENT 'Type of device used by the client: touch or non-touch',\n",
      "   \"referer_host\" varchar COMMENT 'Host from referer parsing',\n",
      "   \"continent\" varchar COMMENT 'Continent of the accessing agents (maxmind GeoIP database)',\n",
      "   \"country_code\" varchar COMMENT 'Country iso code of the accessing agents (maxmind GeoIP database)',\n",
      "   \"country\" varchar COMMENT 'Country (text) of the accessing agents (maxmind GeoIP database)',\n",
      "   \"instrumentation_version\" integer COMMENT 'Version number incremented along with major instrumentation changes'\n",
      ")\n",
      "WITH (\n",
      "   external_location = 'hdfs://analytics-hadoop/user/analytics-product/wikipediapreview_stats/daily',\n",
      "   format = 'TEXTFILE'\n",
      ")\n"
     ]
    }
   ],
   "source": [
    "print(wmf.presto.run(\"\"\"\n",
    "    SHOW CREATE TABLE wmf_product.wikipediapreview_stats\n",
    "\"\"\").iloc[0, 0])"
   ]
  },
  {
   "cell_type": "code",
   "execution_count": 5,
   "id": "fa4c7b37-4cae-46f3-bb37-a6cb8d99eddd",
   "metadata": {},
   "outputs": [],
   "source": [
    "old = wmf.presto.run(\"\"\"\n",
    "    SELECT\n",
    "        year,\n",
    "        month,\n",
    "        day,\n",
    "        referer_host AS website,\n",
    "        device_type,\n",
    "        country_code,\n",
    "        instrumentation_version,\n",
    "        pageviews,\n",
    "        previews\n",
    "    FROM wmf_product.wikipediapreview_stats\n",
    "    WHERE\n",
    "        year = 2023\n",
    "        AND month = 6\n",
    "    ORDER BY\n",
    "        year,\n",
    "        month,\n",
    "        day,\n",
    "        referer_host,\n",
    "        device_type,\n",
    "        continent,\n",
    "        country_code,\n",
    "        instrumentation_version\n",
    "\"\"\")"
   ]
  },
  {
   "cell_type": "code",
   "execution_count": 7,
   "id": "8269b0f8-2676-411a-824f-7c9dda000fb7",
   "metadata": {},
   "outputs": [
    {
     "name": "stdout",
     "output_type": "stream",
     "text": [
      "CREATE TABLE analytics_hive.wmf_product.wikipedia_preview_stats (\n",
      "   \"pageviews\" bigint COMMENT 'Number of pageviews shown as a result of a clickthrough from a Wikipedia Preview preview',\n",
      "   \"previews\" bigint COMMENT 'Number of API requests for article preview content made by Wikipedia Preview clients',\n",
      "   \"device_type\" varchar COMMENT 'Type of device used by the client: touch or non-touch',\n",
      "   \"referer_host\" varchar COMMENT 'Host from referer parsing',\n",
      "   \"continent\" varchar COMMENT 'Continent of the accessing agents (maxmind GeoIP database)',\n",
      "   \"country_code\" varchar COMMENT 'Country iso code of the accessing agents (maxmind GeoIP database)',\n",
      "   \"country\" varchar COMMENT 'Country (text) of the accessing agents (maxmind GeoIP database)',\n",
      "   \"instrumentation_version\" integer COMMENT 'Version number incremented along with major instrumentation changes',\n",
      "   \"year\" integer COMMENT 'Unpadded year of request',\n",
      "   \"month\" integer COMMENT 'Unpadded month of request',\n",
      "   \"day\" integer COMMENT 'Unpadded day of request'\n",
      ")\n",
      "WITH (\n",
      "   external_location = 'hdfs://analytics-hadoop/user/analytics-product/data/wikipedia_preview_stats',\n",
      "   format = 'PARQUET',\n",
      "   partitioned_by = ARRAY['year','month','day']\n",
      ")\n"
     ]
    }
   ],
   "source": [
    "print(wmf.presto.run(\"\"\"\n",
    "    SHOW CREATE TABLE wmf_product.wikipedia_preview_stats\n",
    "\"\"\").iloc[0, 0])"
   ]
  },
  {
   "cell_type": "code",
   "execution_count": 8,
   "id": "6ab42611-11a2-4e42-962c-340dd3517c5b",
   "metadata": {},
   "outputs": [],
   "source": [
    "new = wmf.presto.run(\"\"\"\n",
    "    SELECT\n",
    "        year,\n",
    "        month,\n",
    "        day,\n",
    "        referer_host AS website,\n",
    "        device_type,\n",
    "        country_code,\n",
    "        instrumentation_version,\n",
    "        pageviews,\n",
    "        previews\n",
    "    FROM wmf_product.wikipedia_preview_stats\n",
    "    WHERE\n",
    "        year = 2023\n",
    "        AND month = 6\n",
    "    ORDER BY\n",
    "        year,\n",
    "        month,\n",
    "        day,\n",
    "        referer_host,\n",
    "        device_type,\n",
    "        continent,\n",
    "        country_code,\n",
    "        instrumentation_version\n",
    "\"\"\")"
   ]
  },
  {
   "cell_type": "code",
   "execution_count": 9,
   "id": "2fc4b057-5bbe-48c4-abf7-969d0664888e",
   "metadata": {},
   "outputs": [
    {
     "data": {
      "text/plain": [
       "True"
      ]
     },
     "execution_count": 9,
     "metadata": {},
     "output_type": "execute_result"
    }
   ],
   "source": [
    "new.equals(old)"
   ]
  },
  {
   "cell_type": "markdown",
   "id": "75368d16-a887-47e8-b626-31f26e263f08",
   "metadata": {},
   "source": [
    "Well, that was easy! Yes, we can switch."
   ]
  }
 ],
 "metadata": {
  "kernelspec": {
   "display_name": "Python 3 (ipykernel)",
   "language": "python",
   "name": "python3"
  },
  "language_info": {
   "codemirror_mode": {
    "name": "ipython",
    "version": 3
   },
   "file_extension": ".py",
   "mimetype": "text/x-python",
   "name": "python",
   "nbconvert_exporter": "python",
   "pygments_lexer": "ipython3",
   "version": "3.10.8"
  }
 },
 "nbformat": 4,
 "nbformat_minor": 5
}
