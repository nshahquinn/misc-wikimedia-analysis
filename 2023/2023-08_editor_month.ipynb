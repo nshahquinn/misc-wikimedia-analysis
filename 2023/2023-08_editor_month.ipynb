{
 "cells": [
  {
   "cell_type": "code",
   "execution_count": 1,
   "id": "3846cf00-96ff-44f1-bc3e-0c6e65eab01f",
   "metadata": {},
   "outputs": [],
   "source": [
    "import wmfdata as wmf"
   ]
  },
  {
   "cell_type": "code",
   "execution_count": 2,
   "id": "394c9927-9b48-4a7d-ae7a-5ab28836ba48",
   "metadata": {},
   "outputs": [
    {
     "name": "stdout",
     "output_type": "stream",
     "text": [
      "SPARK_HOME: /usr/lib/spark3\n",
      "Using Hadoop client lib jars at 3.2.0, provided by Spark.\n",
      "PYSPARK_PYTHON=/opt/conda-analytics/bin/python3\n"
     ]
    },
    {
     "name": "stderr",
     "output_type": "stream",
     "text": [
      "Setting default log level to \"WARN\".\n",
      "To adjust logging level use sc.setLogLevel(newLevel). For SparkR, use setLogLevel(newLevel).\n",
      "23/08/18 23:06:32 WARN SparkConf: Note that spark.local.dir will be overridden by the value set by the cluster manager (via SPARK_LOCAL_DIRS in mesos/standalone/kubernetes and LOCAL_DIRS in YARN).\n",
      "23/08/18 23:06:41 WARN YarnSchedulerBackend$YarnSchedulerEndpoint: Attempted to request executors before the AM has registered!\n"
     ]
    }
   ],
   "source": [
    "spark = wmf.spark.create_session(type=\"yarn-large\")"
   ]
  },
  {
   "cell_type": "code",
   "execution_count": 5,
   "id": "ea346c45-c846-4469-b0e8-662357eb9d0d",
   "metadata": {},
   "outputs": [],
   "source": [
    "MWH_SNAPSHOT = \"2023-07\"\n",
    "END_TIME = \"2023-08-01\"\n",
    "\n",
    "editor_month_query = f\"\"\"\n",
    "    SELECT\n",
    "        TO_DATE(DATE_TRUNC(\"MONTH\", event_timestamp)) AS month,\n",
    "        wiki_db AS wiki,\n",
    "        event_user_text AS user_name,\n",
    "        COUNT(1) AS edit_count,\n",
    "        SUM(CAST(page_namespace_is_content AS INT)) AS content_edit_count,\n",
    "        MAX(SIZE(event_user_is_bot_by_historical) > 0) AS user_is_bot,\n",
    "        MAX(event_user_is_anonymous) AS user_is_anonymous,\n",
    "        TO_TIMESTAMP(MIN(\n",
    "            LEAST(\n",
    "                event_user_registration_timestamp,\n",
    "                event_user_creation_timestamp,\n",
    "                event_user_first_edit_timestamp\n",
    "            )\n",
    "        )) AS user_registration_time\n",
    "    FROM wmf.mediawiki_history mwh\n",
    "    INNER JOIN canonical_data.wikis cdw\n",
    "        ON wiki_db = database_code\n",
    "    WHERE\n",
    "        event_timestamp < \"{END_TIME}\"\n",
    "        AND event_entity = \"revision\"\n",
    "        AND event_type = \"create\"\n",
    "        AND snapshot = \"{MWH_SNAPSHOT}\"\n",
    "        AND database_group IN (\n",
    "            \"commons\",\n",
    "            \"incubator\",\n",
    "            \"foundation\",\n",
    "            \"mediawiki\",\n",
    "            \"meta\",\n",
    "            \"sources\",\n",
    "            \"species\",\n",
    "            \"wikibooks\",\n",
    "            \"wikidata\",\n",
    "            \"wikifunctions\",\n",
    "            \"wikinews\",\n",
    "            \"wikipedia\",\n",
    "            \"wikiquote\",\n",
    "            \"wikisource\",\n",
    "            \"wikiversity\",\n",
    "            \"wikivoyage\",\n",
    "            \"wiktionary\"\n",
    "        )\n",
    "    GROUP BY\n",
    "        TO_DATE(DATE_TRUNC(\"MONTH\", event_timestamp)),\n",
    "        wiki_db,\n",
    "        event_user_text\n",
    "\"\"\"\n",
    "\n",
    "editor_month = spark.sql(editor_month_query)"
   ]
  },
  {
   "cell_type": "code",
   "execution_count": null,
   "id": "d3dfa179-f254-407a-a44a-fad0c3f43599",
   "metadata": {},
   "outputs": [],
   "source": [
    "(\n",
    "    editor_month\n",
    "    .repartition(1)\n",
    "    .write\n",
    "    .csv(\n",
    "        \"2023-07_editor_month\",\n",
    "        mode=\"overwrite\",\n",
    "        compression=\"gzip\",\n",
    "        sep=\"\\\\t\",\n",
    "        header=True,\n",
    "        timestampFormat=\"yyyy-MM-dd'T'HH:mm:ss'Z'\"\n",
    "    )\n",
    ")"
   ]
  },
  {
   "cell_type": "code",
   "execution_count": 7,
   "id": "c974577b-4c86-49c6-bdda-c7a5789dad07",
   "metadata": {},
   "outputs": [
    {
     "name": "stdout",
     "output_type": "stream",
     "text": [
      "0      2023-07_editor_month/_SUCCESS\n",
      "3.4 G  2023-07_editor_month/part-00000-c209dc6c-d061-4c28-8fd2-86ccd1b2a62a-c000.csv.gz\n"
     ]
    }
   ],
   "source": [
    "!hdfs dfs -du -h 2023-07_editor_month"
   ]
  },
  {
   "cell_type": "code",
   "execution_count": 8,
   "id": "bfbf7a38-81c3-454c-a62b-3fc9d2eb8b1c",
   "metadata": {},
   "outputs": [
    {
     "name": "stderr",
     "output_type": "stream",
     "text": [
      "                                                                                \r"
     ]
    }
   ],
   "source": [
    "em = spark.read.csv(\n",
    "    \"2023-07_editor_month\",\n",
    "    sep=\"\\\\t\",\n",
    "    header=True\n",
    ")"
   ]
  },
  {
   "cell_type": "code",
   "execution_count": 9,
   "id": "e9c55d8a-f832-4fb2-ba6e-f0f7c2b83f0b",
   "metadata": {},
   "outputs": [
    {
     "name": "stderr",
     "output_type": "stream",
     "text": [
      "                                                                                \r"
     ]
    }
   ],
   "source": [
    "em_gu = em.filter(\"wiki = 'guwiki'\").toPandas()"
   ]
  },
  {
   "cell_type": "code",
   "execution_count": 17,
   "id": "99910f71-bdfc-4db1-b92f-f16e71705090",
   "metadata": {},
   "outputs": [
    {
     "data": {
      "text/html": [
       "<div>\n",
       "<style scoped>\n",
       "    .dataframe tbody tr th:only-of-type {\n",
       "        vertical-align: middle;\n",
       "    }\n",
       "\n",
       "    .dataframe tbody tr th {\n",
       "        vertical-align: top;\n",
       "    }\n",
       "\n",
       "    .dataframe thead th {\n",
       "        text-align: right;\n",
       "    }\n",
       "</style>\n",
       "<table border=\"1\" class=\"dataframe\">\n",
       "  <thead>\n",
       "    <tr style=\"text-align: right;\">\n",
       "      <th></th>\n",
       "      <th>month</th>\n",
       "      <th>wiki</th>\n",
       "      <th>user_name</th>\n",
       "      <th>edit_count</th>\n",
       "      <th>content_edit_count</th>\n",
       "      <th>user_is_bot</th>\n",
       "      <th>user_is_anonymous</th>\n",
       "      <th>user_registration_time</th>\n",
       "    </tr>\n",
       "  </thead>\n",
       "  <tbody>\n",
       "    <tr>\n",
       "      <th>0</th>\n",
       "      <td>2005-06-01</td>\n",
       "      <td>guwiki</td>\n",
       "      <td>en&gt;Mzajac</td>\n",
       "      <td>1</td>\n",
       "      <td>0</td>\n",
       "      <td>false</td>\n",
       "      <td>true</td>\n",
       "      <td>None</td>\n",
       "    </tr>\n",
       "    <tr>\n",
       "      <th>1</th>\n",
       "      <td>2005-08-01</td>\n",
       "      <td>guwiki</td>\n",
       "      <td>en&gt;Who</td>\n",
       "      <td>1</td>\n",
       "      <td>0</td>\n",
       "      <td>false</td>\n",
       "      <td>true</td>\n",
       "      <td>None</td>\n",
       "    </tr>\n",
       "    <tr>\n",
       "      <th>2</th>\n",
       "      <td>2005-11-01</td>\n",
       "      <td>guwiki</td>\n",
       "      <td>217.136.50.143</td>\n",
       "      <td>5</td>\n",
       "      <td>0</td>\n",
       "      <td>false</td>\n",
       "      <td>true</td>\n",
       "      <td>None</td>\n",
       "    </tr>\n",
       "    <tr>\n",
       "      <th>3</th>\n",
       "      <td>2005-11-01</td>\n",
       "      <td>guwiki</td>\n",
       "      <td>imported&gt;Sikon</td>\n",
       "      <td>1</td>\n",
       "      <td>0</td>\n",
       "      <td>false</td>\n",
       "      <td>true</td>\n",
       "      <td>None</td>\n",
       "    </tr>\n",
       "    <tr>\n",
       "      <th>4</th>\n",
       "      <td>2005-12-01</td>\n",
       "      <td>guwiki</td>\n",
       "      <td>en&gt;Pinworm</td>\n",
       "      <td>2</td>\n",
       "      <td>0</td>\n",
       "      <td>false</td>\n",
       "      <td>true</td>\n",
       "      <td>None</td>\n",
       "    </tr>\n",
       "    <tr>\n",
       "      <th>...</th>\n",
       "      <td>...</td>\n",
       "      <td>...</td>\n",
       "      <td>...</td>\n",
       "      <td>...</td>\n",
       "      <td>...</td>\n",
       "      <td>...</td>\n",
       "      <td>...</td>\n",
       "      <td>...</td>\n",
       "    </tr>\n",
       "    <tr>\n",
       "      <th>87047</th>\n",
       "      <td>2022-07-01</td>\n",
       "      <td>guwiki</td>\n",
       "      <td>en&gt;TheDJ</td>\n",
       "      <td>1</td>\n",
       "      <td>0</td>\n",
       "      <td>false</td>\n",
       "      <td>true</td>\n",
       "      <td>None</td>\n",
       "    </tr>\n",
       "    <tr>\n",
       "      <th>87048</th>\n",
       "      <td>2022-08-01</td>\n",
       "      <td>guwiki</td>\n",
       "      <td>106.213.253.31</td>\n",
       "      <td>5</td>\n",
       "      <td>5</td>\n",
       "      <td>false</td>\n",
       "      <td>true</td>\n",
       "      <td>None</td>\n",
       "    </tr>\n",
       "    <tr>\n",
       "      <th>87049</th>\n",
       "      <td>2022-11-01</td>\n",
       "      <td>guwiki</td>\n",
       "      <td>2405:205:C94C:8C4:0:0:8F3:18A5</td>\n",
       "      <td>1</td>\n",
       "      <td>1</td>\n",
       "      <td>false</td>\n",
       "      <td>true</td>\n",
       "      <td>None</td>\n",
       "    </tr>\n",
       "    <tr>\n",
       "      <th>87050</th>\n",
       "      <td>2023-04-01</td>\n",
       "      <td>guwiki</td>\n",
       "      <td>શૈલેષભાઈ ગીરજાશંકરભાઈ મહેતા</td>\n",
       "      <td>3</td>\n",
       "      <td>0</td>\n",
       "      <td>false</td>\n",
       "      <td>false</td>\n",
       "      <td>2023-04-20T04:16:57Z</td>\n",
       "    </tr>\n",
       "    <tr>\n",
       "      <th>87051</th>\n",
       "      <td>2023-07-01</td>\n",
       "      <td>guwiki</td>\n",
       "      <td>43.241.194.213</td>\n",
       "      <td>2</td>\n",
       "      <td>2</td>\n",
       "      <td>false</td>\n",
       "      <td>true</td>\n",
       "      <td>None</td>\n",
       "    </tr>\n",
       "  </tbody>\n",
       "</table>\n",
       "<p>87052 rows × 8 columns</p>\n",
       "</div>"
      ],
      "text/plain": [
       "            month    wiki                       user_name edit_count  \\\n",
       "0      2005-06-01  guwiki                       en>Mzajac          1   \n",
       "1      2005-08-01  guwiki                          en>Who          1   \n",
       "2      2005-11-01  guwiki                  217.136.50.143          5   \n",
       "3      2005-11-01  guwiki                  imported>Sikon          1   \n",
       "4      2005-12-01  guwiki                      en>Pinworm          2   \n",
       "...           ...     ...                             ...        ...   \n",
       "87047  2022-07-01  guwiki                        en>TheDJ          1   \n",
       "87048  2022-08-01  guwiki                  106.213.253.31          5   \n",
       "87049  2022-11-01  guwiki  2405:205:C94C:8C4:0:0:8F3:18A5          1   \n",
       "87050  2023-04-01  guwiki     શૈલેષભાઈ ગીરજાશંકરભાઈ મહેતા          3   \n",
       "87051  2023-07-01  guwiki                  43.241.194.213          2   \n",
       "\n",
       "      content_edit_count user_is_bot user_is_anonymous user_registration_time  \n",
       "0                      0       false              true                   None  \n",
       "1                      0       false              true                   None  \n",
       "2                      0       false              true                   None  \n",
       "3                      0       false              true                   None  \n",
       "4                      0       false              true                   None  \n",
       "...                  ...         ...               ...                    ...  \n",
       "87047                  0       false              true                   None  \n",
       "87048                  5       false              true                   None  \n",
       "87049                  1       false              true                   None  \n",
       "87050                  0       false             false   2023-04-20T04:16:57Z  \n",
       "87051                  2       false              true                   None  \n",
       "\n",
       "[87052 rows x 8 columns]"
      ]
     },
     "execution_count": 17,
     "metadata": {},
     "output_type": "execute_result"
    }
   ],
   "source": [
    "em_gu"
   ]
  },
  {
   "cell_type": "code",
   "execution_count": 45,
   "id": "33d68ae6-9c9a-429f-a558-a5b38960cdf2",
   "metadata": {},
   "outputs": [
    {
     "name": "stdout",
     "output_type": "stream",
     "text": [
      "<class 'pandas.core.frame.DataFrame'>\n",
      "RangeIndex: 87052 entries, 0 to 87051\n",
      "Data columns (total 8 columns):\n",
      " #   Column             Non-Null Count  Dtype \n",
      "---  ------             --------------  ----- \n",
      " 0   month              87052 non-null  object\n",
      " 1   wiki               87052 non-null  object\n",
      " 2   user_name          87041 non-null  object\n",
      " 3   edits              87052 non-null  object\n",
      " 4   content_edits      86038 non-null  object\n",
      " 5   user_is_bot        87052 non-null  object\n",
      " 6   user_is_anonymous  87042 non-null  object\n",
      " 7   user_registration  19128 non-null  object\n",
      "dtypes: object(8)\n",
      "memory usage: 5.3+ MB\n"
     ]
    }
   ],
   "source": [
    "em_gu.info()"
   ]
  },
  {
   "cell_type": "code",
   "execution_count": 19,
   "id": "912c554e-beb5-4362-a8d1-acb407884215",
   "metadata": {},
   "outputs": [],
   "source": [
    "!hdfs dfs -get \\\n",
    "    2023-07_editor_month/part-00000-c209dc6c-d061-4c28-8fd2-86ccd1b2a62a-c000.csv.gz \\\n",
    "    ~/2023-07_editor_month.tsv.gz"
   ]
  }
 ],
 "metadata": {
  "kernelspec": {
   "display_name": "Python 3 (ipykernel)",
   "language": "python",
   "name": "python3"
  },
  "language_info": {
   "codemirror_mode": {
    "name": "ipython",
    "version": 3
   },
   "file_extension": ".py",
   "mimetype": "text/x-python",
   "name": "python",
   "nbconvert_exporter": "python",
   "pygments_lexer": "ipython3",
   "version": "3.10.8"
  }
 },
 "nbformat": 4,
 "nbformat_minor": 5
}
