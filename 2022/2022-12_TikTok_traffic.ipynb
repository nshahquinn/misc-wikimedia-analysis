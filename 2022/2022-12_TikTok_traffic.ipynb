{
 "cells": [
  {
   "cell_type": "code",
   "execution_count": 1,
   "id": "32252b61",
   "metadata": {},
   "outputs": [],
   "source": [
    "from pathlib import Path\n",
    "\n",
    "import numpy as np\n",
    "import pandas as pd\n",
    "import plotly.subplots as ps\n",
    "import plotly.express as px\n",
    "import plotly.io as pio\n",
    "import plotly.graph_objects as pgo\n",
    "import wmfdata as wmf\n",
    "\n",
    "import nshahquinn as nsq"
   ]
  },
  {
   "cell_type": "code",
   "execution_count": 2,
   "id": "ee5f3352-4374-4bc5-a321-8bb011b8b894",
   "metadata": {},
   "outputs": [],
   "source": [
    "nsq.set_plotly_defaults()"
   ]
  },
  {
   "cell_type": "markdown",
   "id": "430278c3-49c2-49bb-943d-c7d947c35b20",
   "metadata": {},
   "source": [
    "## Data collection"
   ]
  },
  {
   "cell_type": "markdown",
   "id": "b3ca12ed-4923-49f2-b581-55fb29f614c6",
   "metadata": {},
   "source": [
    "This data covers an 89-day period, from 2022-09-08 to 2022-12-05, inclusive."
   ]
  },
  {
   "cell_type": "code",
   "execution_count": null,
   "id": "32ebd82b",
   "metadata": {},
   "outputs": [],
   "source": [
    "today = pd.Timestamp.now().round(freq=\"D\")\n",
    "yesterday = today - pd.Timedelta(1, unit=\"day\")\n",
    "start_date = today - pd.Timedelta(89, unit=\"day\")\n",
    "query_range = pd.date_range(start=start_date, end=yesterday, freq=\"D\")\n",
    "\n",
    "wmf.spark.create_session(type=\"yarn-large\")\n",
    "fragments = []\n",
    "\n",
    "for day in query_range:\n",
    "    day_str = day.strftime(\"%Y-%m-%d\")\n",
    "    \n",
    "    data = wmf.spark.run(\n",
    "        f\"\"\"\n",
    "        SELECT\n",
    "            '{day_str}' AS time,\n",
    "            geocoded_data['country_code'] AS country,\n",
    "            access_method,\n",
    "            referer_class,\n",
    "            user_agent LIKE '%BytedanceWebview%' AS tiktok_user_agent,\n",
    "            referer LIKE '%tiktok.com%' AS tiktok_referrer,\n",
    "            COUNT(*) AS views\n",
    "        FROM wmf.webrequest\n",
    "        WHERE\n",
    "            (user_agent LIKE \"%BytedanceWebview%\" OR referer LIKE '%tiktok.com%')\n",
    "            AND webrequest_source = \"text\"\n",
    "            AND is_pageview\n",
    "            AND year = {day.year}\n",
    "            AND month = {day.month}\n",
    "            AND day = {day.day}\n",
    "        GROUP BY\n",
    "            geocoded_data['country_code'],\n",
    "            access_method,\n",
    "            referer_class,\n",
    "            user_agent LIKE '%BytedanceWebview%',\n",
    "            referer LIKE '%tiktok.com%'\n",
    "        \"\"\"\n",
    "    )\n",
    "    \n",
    "    fragments.append(data)\n",
    "    \n",
    "    now = pd.Timestamp.now().round(freq=\"S\")\n",
    "    with Path(\"tiktok_query_progress.txt\").open(\"a\") as f:\n",
    "        f.write(f\"[{now}] Finished query for {day_str}.\\n\")\n",
    "\n",
    "tiktok_traffic = pd.concat(fragments)\n",
    "\n",
    "tiktok_traffic.to_parquet(\"tiktok_traffic\", index=False)"
   ]
  },
  {
   "cell_type": "code",
   "execution_count": null,
   "id": "0f980fce-0711-4768-98a1-22edf15a128b",
   "metadata": {},
   "outputs": [],
   "source": [
    "tiktok_traffic = pd.read_parquet(\"tiktok_traffic\")\n",
    "\n",
    "tiktok_traffic"
   ]
  },
  {
   "cell_type": "markdown",
   "id": "aac7fbca-174b-4716-8ea1-6f32ee54f969",
   "metadata": {},
   "source": [
    "## Traffic by referrer type and user agent"
   ]
  },
  {
   "cell_type": "code",
   "execution_count": 16,
   "id": "d5903a24-77eb-43ac-8a65-fae251306683",
   "metadata": {},
   "outputs": [
    {
     "data": {
      "text/html": [
       "<div>\n",
       "<style scoped>\n",
       "    .dataframe tbody tr th:only-of-type {\n",
       "        vertical-align: middle;\n",
       "    }\n",
       "\n",
       "    .dataframe tbody tr th {\n",
       "        vertical-align: top;\n",
       "    }\n",
       "\n",
       "    .dataframe thead th {\n",
       "        text-align: right;\n",
       "    }\n",
       "</style>\n",
       "<table border=\"1\" class=\"dataframe\">\n",
       "  <thead>\n",
       "    <tr style=\"text-align: right;\">\n",
       "      <th></th>\n",
       "      <th></th>\n",
       "      <th></th>\n",
       "      <th>views</th>\n",
       "    </tr>\n",
       "    <tr>\n",
       "      <th>referer_class</th>\n",
       "      <th>tiktok_user_agent</th>\n",
       "      <th>tiktok_referrer</th>\n",
       "      <th></th>\n",
       "    </tr>\n",
       "  </thead>\n",
       "  <tbody>\n",
       "    <tr>\n",
       "      <th rowspan=\"3\" valign=\"top\">external</th>\n",
       "      <th>False</th>\n",
       "      <th>True</th>\n",
       "      <td>11529</td>\n",
       "    </tr>\n",
       "    <tr>\n",
       "      <th rowspan=\"2\" valign=\"top\">True</th>\n",
       "      <th>False</th>\n",
       "      <td>10314</td>\n",
       "    </tr>\n",
       "    <tr>\n",
       "      <th>True</th>\n",
       "      <td>909438</td>\n",
       "    </tr>\n",
       "    <tr>\n",
       "      <th rowspan=\"2\" valign=\"top\">external (search engine)</th>\n",
       "      <th>False</th>\n",
       "      <th>True</th>\n",
       "      <td>179</td>\n",
       "    </tr>\n",
       "    <tr>\n",
       "      <th>True</th>\n",
       "      <th>False</th>\n",
       "      <td>10860</td>\n",
       "    </tr>\n",
       "    <tr>\n",
       "      <th rowspan=\"2\" valign=\"top\">internal</th>\n",
       "      <th>False</th>\n",
       "      <th>True</th>\n",
       "      <td>1800</td>\n",
       "    </tr>\n",
       "    <tr>\n",
       "      <th>True</th>\n",
       "      <th>False</th>\n",
       "      <td>124366</td>\n",
       "    </tr>\n",
       "    <tr>\n",
       "      <th>none</th>\n",
       "      <th>True</th>\n",
       "      <th>False</th>\n",
       "      <td>20092</td>\n",
       "    </tr>\n",
       "    <tr>\n",
       "      <th rowspan=\"2\" valign=\"top\">unknown</th>\n",
       "      <th>False</th>\n",
       "      <th>True</th>\n",
       "      <td>3</td>\n",
       "    </tr>\n",
       "    <tr>\n",
       "      <th>True</th>\n",
       "      <th>False</th>\n",
       "      <td>3</td>\n",
       "    </tr>\n",
       "  </tbody>\n",
       "</table>\n",
       "</div>"
      ],
      "text/plain": [
       "                                                             views\n",
       "referer_class            tiktok_user_agent tiktok_referrer        \n",
       "external                 False             True              11529\n",
       "                         True              False             10314\n",
       "                                           True             909438\n",
       "external (search engine) False             True                179\n",
       "                         True              False             10860\n",
       "internal                 False             True               1800\n",
       "                         True              False            124366\n",
       "none                     True              False             20092\n",
       "unknown                  False             True                  3\n",
       "                         True              False                 3"
      ]
     },
     "execution_count": 16,
     "metadata": {},
     "output_type": "execute_result"
    }
   ],
   "source": [
    "(\n",
    "    tiktok_traffic\n",
    "    .groupby([\"referer_class\", \"tiktok_user_agent\", \"tiktok_referrer\"])\n",
    "    [\"views\"]\n",
    "    .sum()\n",
    "    .to_frame()\n",
    ")"
   ]
  },
  {
   "cell_type": "markdown",
   "id": "879639b1-942e-421d-868b-a7e860ab0ab6",
   "metadata": {},
   "source": [
    "The internal-referred traffic without the TikTok user agent is most likely people with a referrer like `en.wikipedia.org/wiki/tiktok.com`, so it doesn't belong in our analysis. The search engine—referred traffic without the TikTok user agent is probably something similar; most external traffic now only sends the referring domain, but there may be enough exceptions (non-HTTPS traffic?) to account for those 179 views. I will drop both groups, as well as the random \"unknown\" referrer class.\n",
    "\n",
    "Then, I will simplify the referrer classification into three groups: TikTok, other external, and internal."
   ]
  },
  {
   "cell_type": "code",
   "execution_count": 34,
   "id": "55a2c48e-49f4-4382-ae28-3da0f0edec0b",
   "metadata": {},
   "outputs": [],
   "source": [
    "d = tiktok_traffic.query(\n",
    "    \"(not tiktok_user_agent and referer_class in ('internal', 'external (search engine)'))\"\n",
    "    \"or referer_class == 'unknown'\"\n",
    ").index\n",
    "\n",
    "tiktok_traffic = tiktok_traffic.drop(d)"
   ]
  },
  {
   "cell_type": "code",
   "execution_count": 35,
   "id": "f48f4876-0b89-4d34-a8e8-391db5f82c7e",
   "metadata": {},
   "outputs": [
    {
     "data": {
      "text/html": [
       "<style type=\"text/css\">\n",
       "</style>\n",
       "<table id=\"T_1225f\">\n",
       "  <thead>\n",
       "    <tr>\n",
       "      <th class=\"blank\" >&nbsp;</th>\n",
       "      <th class=\"blank level0\" >&nbsp;</th>\n",
       "      <th id=\"T_1225f_level0_col0\" class=\"col_heading level0 col0\" >views</th>\n",
       "    </tr>\n",
       "    <tr>\n",
       "      <th class=\"index_name level0\" >tiktok_user_agent</th>\n",
       "      <th class=\"index_name level1\" >referrer_type</th>\n",
       "      <th class=\"blank col0\" >&nbsp;</th>\n",
       "    </tr>\n",
       "  </thead>\n",
       "  <tbody>\n",
       "    <tr>\n",
       "      <th id=\"T_1225f_level0_row0\" class=\"row_heading level0 row0\" >False</th>\n",
       "      <th id=\"T_1225f_level1_row0\" class=\"row_heading level1 row0\" >TikTok</th>\n",
       "      <td id=\"T_1225f_row0_col0\" class=\"data row0 col0\" >130</td>\n",
       "    </tr>\n",
       "    <tr>\n",
       "      <th id=\"T_1225f_level0_row1\" class=\"row_heading level0 row1\" rowspan=\"3\">True</th>\n",
       "      <th id=\"T_1225f_level1_row1\" class=\"row_heading level1 row1\" >TikTok</th>\n",
       "      <td id=\"T_1225f_row1_col0\" class=\"data row1 col0\" >10,218</td>\n",
       "    </tr>\n",
       "    <tr>\n",
       "      <th id=\"T_1225f_level1_row2\" class=\"row_heading level1 row2\" >internal</th>\n",
       "      <td id=\"T_1225f_row2_col0\" class=\"data row2 col0\" >1,397</td>\n",
       "    </tr>\n",
       "    <tr>\n",
       "      <th id=\"T_1225f_level1_row3\" class=\"row_heading level1 row3\" >other external</th>\n",
       "      <td id=\"T_1225f_row3_col0\" class=\"data row3 col0\" >464</td>\n",
       "    </tr>\n",
       "  </tbody>\n",
       "</table>\n"
      ],
      "text/plain": [
       "<pandas.io.formats.style.Styler at 0x7f6224474610>"
      ]
     },
     "execution_count": 35,
     "metadata": {},
     "output_type": "execute_result"
    }
   ],
   "source": [
    "conditions = [\n",
    "    tiktok_traffic[\"tiktok_referrer\"],\n",
    "    tiktok_traffic[\"referer_class\"] != \"internal\",\n",
    "    tiktok_traffic[\"referer_class\"] == \"internal\"   \n",
    "]\n",
    "\n",
    "values = [\n",
    "    \"TikTok\",\n",
    "    \"other external\",\n",
    "    \"internal\"\n",
    "]\n",
    "\n",
    "tiktok_traffic[\"referrer_type\"] = np.select(conditions, values)\n",
    "\n",
    "(\n",
    "    tiktok_traffic\n",
    "    .groupby([\"tiktok_user_agent\", \"referrer_type\"])\n",
    "    [\"views\"]\n",
    "    .sum()\n",
    "    # Convert to daily average\n",
    "    .div(89)\n",
    "    .to_frame()\n",
    "    .style.format(formatter=\"{:,.0f}\")\n",
    ")"
   ]
  },
  {
   "cell_type": "markdown",
   "id": "48455532-9ac6-4d7d-9b0f-7ffec7bedd85",
   "metadata": {},
   "source": [
    "Looking at traffic we recorded from TikTok's in-app browser, we see the following daily averages:\n",
    "* 10,000 page views with TikTok referrers\n",
    "* 500 page views with other external referrers\n",
    "* 1,400 page views with internal referrers\n",
    "\n",
    "Very roughly, we can interpret this to mean that every day TikTok generates about 10,000 visits to Wikipedia, and about 10% of these visits include following an internal link to second page. \n",
    "\n",
    "We also get about 100 pageviews per day with a TikTok referrer but from a different browser. These likely come from the web version of TikTok."
   ]
  },
  {
   "cell_type": "markdown",
   "id": "fea94337-fc6e-4ee3-b200-d2e4bbc0270e",
   "metadata": {},
   "source": [
    "## Country-specific traffic"
   ]
  },
  {
   "cell_type": "code",
   "execution_count": null,
   "id": "0bb76454-4b08-4122-9868-e3c12ef1a628",
   "metadata": {},
   "outputs": [],
   "source": [
    "cdc = wmf.spark.run(\"\"\"\n",
    "SELECT *\n",
    "FROM canonical_data.countries\n",
    "\"\"\").set_index(\"iso_code\")\n",
    "\n",
    "def get_country_name(iso_code):\n",
    "    return cdc.loc[iso_code, \"name\"]"
   ]
  },
  {
   "cell_type": "markdown",
   "id": "cb1ca8fb-2173-4887-b83f-cac2efe1ea21",
   "metadata": {},
   "source": [
    "The 20 top countries for TikTok-referred traffic:"
   ]
  },
  {
   "cell_type": "code",
   "execution_count": null,
   "id": "37ed8341-c07a-4a7c-a669-7781720cadf3",
   "metadata": {},
   "outputs": [],
   "source": [
    "(\n",
    "    tiktok_traffic\n",
    "    .query(\"referrer_type == 'TikTok'\")\n",
    "    .groupby(\"country\")\n",
    "    [\"views\"]\n",
    "    .sum()\n",
    "    .div(89)\n",
    "    .astype(int)\n",
    "    .sort_values(ascending=False)\n",
    "    .to_frame()\n",
    "    .reset_index()\n",
    "    .assign(country=lambda df: df[\"country\"].map(get_country_name))\n",
    "    .set_index(\"country\")\n",
    "    .head(20)\n",
    "    .style.format(formatter=\"{:,.0f}\")\n",
    ")"
   ]
  },
  {
   "cell_type": "code",
   "execution_count": 51,
   "id": "b7c121d7-3d59-44c7-9881-9f1a260cfe36",
   "metadata": {},
   "outputs": [],
   "source": [
    "countries = (\"BR\", \"GB\", \"ID\", \"JP\", \"MX\", \"PH\", \"RU\", \"US\", \"VN\")\n",
    "country_data = {}\n",
    "\n",
    "for country in countries:\n",
    "    country_data[country] = (\n",
    "        tiktok_traffic\n",
    "        .query(\"country == @country and tiktok_referrer\")\n",
    "        .groupby(\"time\")\n",
    "        [\"views\"].sum()\n",
    "        .reset_index()\n",
    "    )"
   ]
  },
  {
   "cell_type": "code",
   "execution_count": 54,
   "id": "281a5310-4a78-447d-afaa-744d3aacacf9",
   "metadata": {},
   "outputs": [],
   "source": [
    "pio.renderers['jupyterlab'].config[\"toImageButtonOptions\"] = {\n",
    "    'format': 'png', # one of png, svg, jpeg, webp\n",
    "    'filename': 'plotly_graph',\n",
    "    'height': 300*len(country_data),\n",
    "    'width': 800,\n",
    "    'scale': 3 # Multiply title/legend/axis/canvas sizes by this factor\n",
    "}"
   ]
  },
  {
   "cell_type": "code",
   "execution_count": null,
   "id": "4c6d1320-6b11-4f8e-972f-637067bcfbb6",
   "metadata": {},
   "outputs": [],
   "source": [
    "fig = ps.make_subplots(\n",
    "    rows=len(country_data),\n",
    "    subplot_titles=[get_country_name(c) for c in country_data.keys()],\n",
    "    vertical_spacing=0.03\n",
    ")\n",
    "\n",
    "i = 1\n",
    "\n",
    "for country, data in country_data.items():\n",
    "    fig.add_trace(\n",
    "        pgo.Scatter(\n",
    "            x=data[\"time\"],\n",
    "            y=data[\"views\"],\n",
    "            line_color=\"blue\",\n",
    "            line_width=6\n",
    "        ),\n",
    "        row=i,\n",
    "        col=1\n",
    "    )\n",
    "    \n",
    "    fig.update_yaxes(title=\"pageviews per day\", row=i, col=1)\n",
    "\n",
    "    i += 1\n",
    "\n",
    "fig.update_layout(\n",
    "    showlegend=False,\n",
    "    # width=1000,\n",
    "    height=300*len(country_data),\n",
    "    title_text=\"TikTok-referred pageviews by country\",\n",
    "    title_x=0.5\n",
    ")\n",
    "\n",
    "fig.update_layout(margin={\n",
    "    \"t\": 75,\n",
    "    \"b\": 25,\n",
    "})\n",
    "\n",
    "fig.update_yaxes(rangemode=\"tozero\")\n",
    "\n",
    "fig.show()"
   ]
  },
  {
   "cell_type": "markdown",
   "id": "5b15f491-717a-42c0-b6d4-09a0e1856f88",
   "metadata": {},
   "source": [
    "## Comparable overall traffic"
   ]
  },
  {
   "cell_type": "markdown",
   "id": "04584bd4-30e9-46d8-acec-61d8ba3e576c",
   "metadata": {},
   "source": [
    "Since the overall level of TikTok-referred traffic seems much lower than in my previous analysis, I wanted to exactly replicate the daily TikTok-referred traffic graph produced in [my previous analysis](https://github.com/nshahquinn/misc-wikimedia-analysis/blob/master/2021/2021-11_TikTok_Jumps_traffic.ipynb).\n",
    "\n",
    "Unlike the analysis above, this covers 90 days of traffic, from 2022-09-07 to 2022-12-05, and only looks at mobile web traffic."
   ]
  },
  {
   "cell_type": "code",
   "execution_count": null,
   "id": "fbdeff0f-a850-4d02-bff8-9c6b64872d63",
   "metadata": {},
   "outputs": [
    {
     "name": "stderr",
     "output_type": "stream",
     "text": [
      "[Stage 325:==================================================>(6135 + 9) / 6144]\r"
     ]
    }
   ],
   "source": [
    "today = pd.Timestamp.now().round(freq=\"D\")\n",
    "yesterday = today - pd.Timedelta(1, unit=\"day\")\n",
    "query_range = pd.date_range(end=yesterday, periods=90, freq=\"D\")\n",
    "\n",
    "fragments = []\n",
    "\n",
    "for day in query_range:\n",
    "    day_str = day.strftime(\"%Y-%m-%d\")\n",
    "    \n",
    "    data = wmf.spark.run(\n",
    "        f\"\"\"\n",
    "        SELECT\n",
    "            '{day_str}' AS time,\n",
    "            access_method,\n",
    "            SUM(CAST(referer LIKE '%tiktok.com%' AS INT)) AS tiktok_referrer_pageviews\n",
    "        FROM wmf.webrequest\n",
    "        WHERE\n",
    "            webrequest_source = \"text\"\n",
    "            AND is_pageview\n",
    "            AND year = {day.year}\n",
    "            AND month = {day.month}\n",
    "            AND day = {day.day}\n",
    "        GROUP BY\n",
    "            access_method\n",
    "        \"\"\"\n",
    "    )\n",
    "    \n",
    "    fragments.append(data)\n",
    "    \n",
    "    now = pd.Timestamp.now().round(freq=\"S\")\n",
    "    with Path(\"tiktok_query_progress.txt\").open(\"a\") as f:\n",
    "        f.write(f\"[{now}] Finished query for {day_str}.\\n\")\n",
    "\n",
    "replicated_tiktok_traffic = pd.concat(fragments)"
   ]
  },
  {
   "cell_type": "code",
   "execution_count": null,
   "id": "a74e7eb6-1f52-45ec-916a-cc99c1e98372",
   "metadata": {},
   "outputs": [],
   "source": [
    "mw_rtt = (\n",
    "    replicated_tiktok_traffic\n",
    "    .query(\"access_method == 'mobile web'\")\n",
    "    .drop(\"access_method\", axis=\"columns\")\n",
    "    .assign(time=lambda df: pd.to_datetime(df[\"time\"]))\n",
    ")"
   ]
  },
  {
   "cell_type": "markdown",
   "id": "84c75fd3-8849-48f3-915e-1a421b1d363d",
   "metadata": {},
   "source": [
    "Total page views:"
   ]
  },
  {
   "cell_type": "code",
   "execution_count": 74,
   "id": "b508c880-0096-4045-8244-8b316bbe2d54",
   "metadata": {},
   "outputs": [
    {
     "data": {
      "text/plain": [
       "923913"
      ]
     },
     "execution_count": 74,
     "metadata": {},
     "output_type": "execute_result"
    }
   ],
   "source": [
    "mw_rtt[\"tiktok_referrer_pageviews\"].sum()"
   ]
  },
  {
   "cell_type": "markdown",
   "id": "4b66dc32-96d7-4d8f-85fa-47ce832e6622",
   "metadata": {},
   "source": [
    "Daily average page views (compared to 45,975 previously):"
   ]
  },
  {
   "cell_type": "code",
   "execution_count": 26,
   "id": "753c51f9-02d6-4c17-8812-4a5ccc90082b",
   "metadata": {},
   "outputs": [
    {
     "data": {
      "text/plain": [
       "10265"
      ]
     },
     "execution_count": 26,
     "metadata": {},
     "output_type": "execute_result"
    }
   ],
   "source": [
    "int(923913/90)"
   ]
  },
  {
   "cell_type": "code",
   "execution_count": null,
   "id": "cf5e2211-4a04-4238-8506-c7c834280b76",
   "metadata": {},
   "outputs": [],
   "source": [
    "fig = px.line(mw_rtt, x=\"time\", y=\"tiktok_referrer_pageviews\")\n",
    "\n",
    "fig.update_traces(line_color=\"#1f77b4\", line_width=3)\n",
    "\n",
    "fig.update_layout(\n",
    "    font_family=\"Arial\",\n",
    "    title_text=\"TikTok-referred mobile web traffic\",\n",
    "    title_x=0.5,\n",
    "    height=500,\n",
    "    plot_bgcolor=\"white\"\n",
    ")\n",
    "\n",
    "fig.update_xaxes(showline=True, linewidth=1, linecolor='black', gridcolor='#bbbbbb', mirror=True)\n",
    "fig.update_yaxes(showline=True, linewidth=1, linecolor='black', gridcolor='#bbbbbb', mirror=True)\n",
    "\n",
    "fig.update_yaxes(title=\"pageviews per day\", rangemode=\"tozero\", tickformat=\",.0f\")\n",
    "fig.update_xaxes(title=None)\n",
    "\n",
    "fig.show()"
   ]
  },
  {
   "cell_type": "markdown",
   "id": "6882ef5d-f215-4f46-a5a8-a293e1cb1493",
   "metadata": {},
   "source": [
    "![](2022-12_daily_TikTok_traffic.png)"
   ]
  },
  {
   "cell_type": "markdown",
   "id": "08b1221b-b727-42b5-962c-e921fa92ce2d",
   "metadata": {},
   "source": [
    "## Most viewed articles"
   ]
  },
  {
   "cell_type": "markdown",
   "id": "3f3c3cab-35b0-4da5-874e-20d589699f51",
   "metadata": {},
   "source": [
    "This data covers the 89-day period from 2022-09-16 to 2022-12-13, inclusive."
   ]
  },
  {
   "cell_type": "code",
   "execution_count": null,
   "id": "2c4a79d3-ae23-4e5d-acb8-734e1a2d9196",
   "metadata": {},
   "outputs": [
    {
     "name": "stderr",
     "output_type": "stream",
     "text": [
      "22/12/14 01:11:52 WARN SparkConf: Note that spark.local.dir will be overridden by the value set by the cluster manager (via SPARK_LOCAL_DIRS in mesos/standalone/kubernetes and LOCAL_DIRS in YARN).\n",
      "22/12/14 01:11:52 WARN Utils: Service 'sparkDriver' could not bind on port 12000. Attempting port 12001.\n",
      "22/12/14 01:11:52 WARN Utils: Service 'sparkDriver' could not bind on port 12001. Attempting port 12002.\n",
      "22/12/14 01:11:52 WARN Utils: Service 'sparkDriver' could not bind on port 12002. Attempting port 12003.\n",
      "22/12/14 01:11:52 WARN Utils: Service 'sparkDriver' could not bind on port 12003. Attempting port 12004.\n",
      "22/12/14 01:11:53 WARN Utils: Service 'SparkUI' could not bind on port 4040. Attempting port 4041.\n",
      "22/12/14 01:11:53 WARN Utils: Service 'SparkUI' could not bind on port 4041. Attempting port 4042.\n",
      "22/12/14 01:11:53 WARN Utils: Service 'SparkUI' could not bind on port 4042. Attempting port 4043.\n",
      "22/12/14 01:11:53 WARN Utils: Service 'SparkUI' could not bind on port 4043. Attempting port 4044.\n",
      "22/12/14 01:11:57 WARN Utils: Service 'org.apache.spark.network.netty.NettyBlockTransferService' could not bind on port 13000. Attempting port 13001.\n",
      "22/12/14 01:11:57 WARN Utils: Service 'org.apache.spark.network.netty.NettyBlockTransferService' could not bind on port 13001. Attempting port 13002.\n",
      "22/12/14 01:11:57 WARN Utils: Service 'org.apache.spark.network.netty.NettyBlockTransferService' could not bind on port 13002. Attempting port 13003.\n",
      "22/12/14 01:11:57 WARN Utils: Service 'org.apache.spark.network.netty.NettyBlockTransferService' could not bind on port 13003. Attempting port 13004.\n",
      "22/12/14 01:11:57 WARN YarnSchedulerBackend$YarnSchedulerEndpoint: Attempted to request executors before the AM has registered!\n",
      "22/12/14 01:12:00 WARN SessionState: METASTORE_FILTER_HOOK will be ignored, since hive.security.authorization.manager is set to instance of HiveAuthorizerFactory.\n",
      "22/12/14 01:16:46 WARN SharedInMemoryCache: Evicting cached table partition metadata from memory due to size constraints (spark.sql.hive.filesourcePartitionFileCacheSize = 262144000 bytes). This may impact query planning performance.\n",
      "[Stage 18:===============================================>   (5754 + 99) / 6234]\r"
     ]
    }
   ],
   "source": [
    "today = pd.Timestamp.now().round(freq=\"D\")\n",
    "yesterday = today - pd.Timedelta(1, unit=\"day\")\n",
    "start_date = today - pd.Timedelta(89, unit=\"day\")\n",
    "query_range = pd.date_range(start=start_date, end=yesterday, freq=\"D\")\n",
    "\n",
    "wmf.spark.create_session(type=\"yarn-large\")\n",
    "fragments = []\n",
    "\n",
    "for day in query_range:\n",
    "    day_str = day.strftime(\"%Y-%m-%d\")\n",
    "    \n",
    "    f = wmf.spark.run(\n",
    "        f\"\"\"\n",
    "        SELECT\n",
    "            '{day_str}' as time,\n",
    "            pageview_info['project'] AS project,\n",
    "            pageview_info['page_title'] AS page_title,\n",
    "            COUNT(*) AS views\n",
    "        FROM wmf.webrequest\n",
    "        WHERE\n",
    "            referer LIKE 'https://www.tiktok.com%'\n",
    "            AND webrequest_source = \"text\"\n",
    "            AND is_pageview\n",
    "            AND year = {day.year}\n",
    "            AND month = {day.month}\n",
    "            AND day = {day.day}\n",
    "        GROUP BY\n",
    "            pageview_info['project'],\n",
    "            pageview_info['page_title']\n",
    "        \"\"\"\n",
    "    )\n",
    "    \n",
    "    fragments.append(f)\n",
    "    \n",
    "    now = pd.Timestamp.now().round(freq=\"S\")\n",
    "    with Path(\"tiktok_query_progress.txt\").open(\"a\") as f:\n",
    "        f.write(f\"[{now}] Finished queries for {day_str}.\\n\")\n",
    "\n",
    "traffic_by_page = pd.concat(fragments)\n",
    "\n",
    "traffic_by_page.to_parquet(\"tiktok_traffic_by_page.parquet\", index=False)"
   ]
  },
  {
   "cell_type": "code",
   "execution_count": 28,
   "id": "863d53fe-5af5-4f46-ac1c-5a9276dcbf8e",
   "metadata": {},
   "outputs": [],
   "source": [
    "traffic_by_page = (\n",
    "    pd.read_parquet(\"tiktok_traffic_by_page.parquet\")\n",
    "    .groupby([\"project\", \"page_title\"])\n",
    "    [\"views\"]\n",
    "    .sum()\n",
    "    .sort_values(ascending=False)\n",
    "    .reset_index()\n",
    "    .assign(\n",
    "        project=lambda df: df[\"project\"] + \".org\",\n",
    "        url=lambda df: \"https://\" + df[\"project\"] + \"/wiki/\" + df[\"page_title\"],\n",
    "        page_title=lambda df: df[\"page_title\"].str.replace(\"_\", \" \"),\n",
    "        rank=lambda df: df.index + 1\n",
    "    )\n",
    "    [[\"rank\", \"url\", \"views\"]]\n",
    ")"
   ]
  },
  {
   "cell_type": "code",
   "execution_count": null,
   "id": "25895e13-3b71-450e-bed5-d24c8ea81267",
   "metadata": {},
   "outputs": [],
   "source": [
    "(\n",
    "    traffic_by_page\n",
    "    .query(\"views >= 1000\")\n",
    "    .style.format(formatter={\"views\": \"{:,.0f}\"})\n",
    "    .pipe(wmf.utils.pd_display_all)\n",
    ")"
   ]
  },
  {
   "cell_type": "code",
   "execution_count": null,
   "id": "e4e3f784-cf03-4e2b-9539-5f6b11528042",
   "metadata": {},
   "outputs": [],
   "source": []
  }
 ],
 "metadata": {
  "kernelspec": {
   "display_name": "Python 3 (ipykernel)",
   "language": "python",
   "name": "python3"
  },
  "language_info": {
   "codemirror_mode": {
    "name": "ipython",
    "version": 3
   },
   "file_extension": ".py",
   "mimetype": "text/x-python",
   "name": "python",
   "nbconvert_exporter": "python",
   "pygments_lexer": "ipython3",
   "version": "3.10.8"
  }
 },
 "nbformat": 4,
 "nbformat_minor": 5
}
