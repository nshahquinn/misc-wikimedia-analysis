{
 "cells": [
  {
   "cell_type": "code",
   "execution_count": 24,
   "id": "d3807f6e-8ea5-4fb8-b8e5-3d7e73840e2c",
   "metadata": {},
   "outputs": [],
   "source": [
    "import pandas as pd\n",
    "import wmfdata as wmf\n",
    "\n",
    "from wmfdata.utils import (\n",
    "    pd_display_all,\n",
    "    sql_tuple\n",
    ")"
   ]
  },
  {
   "cell_type": "markdown",
   "id": "3bed1dfb-0d4d-4aac-acd5-55e40e4e5be4",
   "metadata": {},
   "source": [
    "How do we query our databases for strings with special characters?\n",
    "\n",
    "To make this concrete, let's take some English Wikipedia users with special characters in their names:\n",
    "* `Mr. \"Turra\"`\n",
    "* `JKl'`\n",
    "* `Percy%`\n",
    "* `Zyonnoray123\\`"
   ]
  },
  {
   "cell_type": "markdown",
   "id": "fc0f4784-7967-493e-b23c-86d540f391fd",
   "metadata": {},
   "source": [
    "With MariaDB, double quotes don't need to be escaped when we are using single quotes to enclose the string (which is preferable since Presto and other engines that strictly follow the ANSI SQL standard interpret double quotes-wrapped strings as literal identifiers). Percent signs don't need to be escaped (unless in a `LIKE` clause). Single quotes do need to be escaped, using either `\\\\'` or `''`. Backslashes need to be escaped using using `\\\\\\\\` (`\\\\` creates a single literal backslach in the Python string)."
   ]
  },
  {
   "cell_type": "code",
   "execution_count": 80,
   "id": "0673caaf-79ad-46fa-b551-2cd20c6cd53a",
   "metadata": {},
   "outputs": [
    {
     "data": {
      "text/html": [
       "<div>\n",
       "<style scoped>\n",
       "    .dataframe tbody tr th:only-of-type {\n",
       "        vertical-align: middle;\n",
       "    }\n",
       "\n",
       "    .dataframe tbody tr th {\n",
       "        vertical-align: top;\n",
       "    }\n",
       "\n",
       "    .dataframe thead th {\n",
       "        text-align: right;\n",
       "    }\n",
       "</style>\n",
       "<table border=\"1\" class=\"dataframe\">\n",
       "  <thead>\n",
       "    <tr style=\"text-align: right;\">\n",
       "      <th></th>\n",
       "      <th>user_id</th>\n",
       "      <th>user_name</th>\n",
       "    </tr>\n",
       "  </thead>\n",
       "  <tbody>\n",
       "    <tr>\n",
       "      <th>0</th>\n",
       "      <td>53999</td>\n",
       "      <td>JKl'</td>\n",
       "    </tr>\n",
       "    <tr>\n",
       "      <th>1</th>\n",
       "      <td>27684213</td>\n",
       "      <td>Mr. \"Turra\"</td>\n",
       "    </tr>\n",
       "    <tr>\n",
       "      <th>2</th>\n",
       "      <td>388583</td>\n",
       "      <td>Percy%</td>\n",
       "    </tr>\n",
       "    <tr>\n",
       "      <th>3</th>\n",
       "      <td>39297522</td>\n",
       "      <td>Zyonnoray123\\</td>\n",
       "    </tr>\n",
       "  </tbody>\n",
       "</table>\n",
       "</div>"
      ],
      "text/plain": [
       "    user_id      user_name\n",
       "0     53999           JKl'\n",
       "1  27684213    Mr. \"Turra\"\n",
       "2    388583         Percy%\n",
       "3  39297522  Zyonnoray123\\"
      ]
     },
     "execution_count": 80,
     "metadata": {},
     "output_type": "execute_result"
    }
   ],
   "source": [
    "wmf.mariadb.run(f\"\"\"\n",
    "SELECT\n",
    "    user_id,\n",
    "    user_name\n",
    "FROM user\n",
    "WHERE\n",
    "    user_name IN (\n",
    "        'Mr. \"Turra\"',\n",
    "        'JKl\\\\'',\n",
    "        'Percy%',\n",
    "        'Zyonnoray123\\\\\\\\'\n",
    "    )\n",
    "\"\"\", \"enwiki\")"
   ]
  },
  {
   "cell_type": "code",
   "execution_count": 82,
   "id": "b3871226-634d-479f-b7b8-348c1eade985",
   "metadata": {},
   "outputs": [
    {
     "data": {
      "text/html": [
       "<div>\n",
       "<style scoped>\n",
       "    .dataframe tbody tr th:only-of-type {\n",
       "        vertical-align: middle;\n",
       "    }\n",
       "\n",
       "    .dataframe tbody tr th {\n",
       "        vertical-align: top;\n",
       "    }\n",
       "\n",
       "    .dataframe thead th {\n",
       "        text-align: right;\n",
       "    }\n",
       "</style>\n",
       "<table border=\"1\" class=\"dataframe\">\n",
       "  <thead>\n",
       "    <tr style=\"text-align: right;\">\n",
       "      <th></th>\n",
       "      <th>user_id</th>\n",
       "      <th>user_name</th>\n",
       "    </tr>\n",
       "  </thead>\n",
       "  <tbody>\n",
       "    <tr>\n",
       "      <th>0</th>\n",
       "      <td>53999</td>\n",
       "      <td>JKl'</td>\n",
       "    </tr>\n",
       "  </tbody>\n",
       "</table>\n",
       "</div>"
      ],
      "text/plain": [
       "   user_id user_name\n",
       "0    53999      JKl'"
      ]
     },
     "execution_count": 82,
     "metadata": {},
     "output_type": "execute_result"
    }
   ],
   "source": [
    "wmf.mariadb.run(f\"\"\"\n",
    "SELECT\n",
    "    user_id,\n",
    "    user_name\n",
    "FROM user\n",
    "WHERE\n",
    "    user_name = 'JKl'''\n",
    "\"\"\", \"enwiki\")"
   ]
  },
  {
   "cell_type": "markdown",
   "id": "f07e6aad-004b-4e5b-815f-077be59163c8",
   "metadata": {},
   "source": [
    "With Presto, there's also no escaping for double quotes and percent signs. Single quotes can _only_ be escaped with `''` and blackslashes must be escaped with only `\\\\`."
   ]
  },
  {
   "cell_type": "code",
   "execution_count": 101,
   "id": "4ae89ba7-7168-4d27-bae2-74bab28e5e6e",
   "metadata": {},
   "outputs": [
    {
     "data": {
      "text/html": [
       "<div>\n",
       "<style scoped>\n",
       "    .dataframe tbody tr th:only-of-type {\n",
       "        vertical-align: middle;\n",
       "    }\n",
       "\n",
       "    .dataframe tbody tr th {\n",
       "        vertical-align: top;\n",
       "    }\n",
       "\n",
       "    .dataframe thead th {\n",
       "        text-align: right;\n",
       "    }\n",
       "</style>\n",
       "<table border=\"1\" class=\"dataframe\">\n",
       "  <thead>\n",
       "    <tr style=\"text-align: right;\">\n",
       "      <th></th>\n",
       "      <th>user_id</th>\n",
       "      <th>user_name</th>\n",
       "    </tr>\n",
       "  </thead>\n",
       "  <tbody>\n",
       "    <tr>\n",
       "      <th>0</th>\n",
       "      <td>53999</td>\n",
       "      <td>JKl'</td>\n",
       "    </tr>\n",
       "    <tr>\n",
       "      <th>1</th>\n",
       "      <td>388583</td>\n",
       "      <td>Percy%</td>\n",
       "    </tr>\n",
       "    <tr>\n",
       "      <th>2</th>\n",
       "      <td>39297522</td>\n",
       "      <td>Zyonnoray123\\</td>\n",
       "    </tr>\n",
       "    <tr>\n",
       "      <th>3</th>\n",
       "      <td>27684213</td>\n",
       "      <td>Mr. \"Turra\"</td>\n",
       "    </tr>\n",
       "  </tbody>\n",
       "</table>\n",
       "</div>"
      ],
      "text/plain": [
       "    user_id      user_name\n",
       "0     53999           JKl'\n",
       "1    388583         Percy%\n",
       "2  39297522  Zyonnoray123\\\n",
       "3  27684213    Mr. \"Turra\""
      ]
     },
     "execution_count": 101,
     "metadata": {},
     "output_type": "execute_result"
    }
   ],
   "source": [
    "wmf.presto.run(\"\"\"\n",
    "SELECT\n",
    "    user_id,\n",
    "    user_name\n",
    "FROM wmf_raw.mediawiki_user\n",
    "WHERE\n",
    "    user_name IN (\n",
    "        'Mr. \"Turra\"',\n",
    "        'JKl''',\n",
    "        'Percy%',\n",
    "        'Zyonnoray123\\\\'\n",
    "    )\n",
    "    AND wiki_db = 'enwiki'\n",
    "    AND snapshot = '2022-09'\n",
    "\"\"\")"
   ]
  },
  {
   "cell_type": "markdown",
   "id": "ca0a0af6-09fa-492a-88bd-9f3b2209974c",
   "metadata": {},
   "source": [
    "With Spark, there's also no need to escape double quotes and percent signs. Single quotes can _only_ be escaped with `\\\\'` and backslashes must be escaped with `\\\\\\\\`."
   ]
  },
  {
   "cell_type": "code",
   "execution_count": 107,
   "id": "b45d9faf-8ea3-4dcd-8eae-bf373361be8f",
   "metadata": {},
   "outputs": [
    {
     "name": "stderr",
     "output_type": "stream",
     "text": [
      "PySpark executors will use /usr/lib/anaconda-wmf/bin/python3.\n",
      "                                                                                \r"
     ]
    },
    {
     "data": {
      "text/html": [
       "<div>\n",
       "<style scoped>\n",
       "    .dataframe tbody tr th:only-of-type {\n",
       "        vertical-align: middle;\n",
       "    }\n",
       "\n",
       "    .dataframe tbody tr th {\n",
       "        vertical-align: top;\n",
       "    }\n",
       "\n",
       "    .dataframe thead th {\n",
       "        text-align: right;\n",
       "    }\n",
       "</style>\n",
       "<table border=\"1\" class=\"dataframe\">\n",
       "  <thead>\n",
       "    <tr style=\"text-align: right;\">\n",
       "      <th></th>\n",
       "      <th>user_id</th>\n",
       "      <th>user_name</th>\n",
       "    </tr>\n",
       "  </thead>\n",
       "  <tbody>\n",
       "    <tr>\n",
       "      <th>0</th>\n",
       "      <td>53999</td>\n",
       "      <td>JKl'</td>\n",
       "    </tr>\n",
       "    <tr>\n",
       "      <th>1</th>\n",
       "      <td>388583</td>\n",
       "      <td>Percy%</td>\n",
       "    </tr>\n",
       "    <tr>\n",
       "      <th>2</th>\n",
       "      <td>27684213</td>\n",
       "      <td>Mr. \"Turra\"</td>\n",
       "    </tr>\n",
       "    <tr>\n",
       "      <th>3</th>\n",
       "      <td>39297522</td>\n",
       "      <td>Zyonnoray123\\</td>\n",
       "    </tr>\n",
       "  </tbody>\n",
       "</table>\n",
       "</div>"
      ],
      "text/plain": [
       "    user_id      user_name\n",
       "0     53999           JKl'\n",
       "1    388583         Percy%\n",
       "2  27684213    Mr. \"Turra\"\n",
       "3  39297522  Zyonnoray123\\"
      ]
     },
     "execution_count": 107,
     "metadata": {},
     "output_type": "execute_result"
    },
    {
     "name": "stderr",
     "output_type": "stream",
     "text": [
      "22/10/19 21:06:44 WARN UserGroupInformation: Not attempting to re-login since the last re-login was attempted less than 60 seconds before. Last Login=1666213564813\n",
      "22/10/19 21:07:04 WARN UserGroupInformation: Exception encountered while running the renewal command for neilpquinn-wmf@WIKIMEDIA. (TGT end time:1666213615000, renewalFailures: org.apache.hadoop.metrics2.lib.MutableGaugeInt@198dc8d0,renewalFailuresTotal: org.apache.hadoop.metrics2.lib.MutableGaugeLong@6948e7dc)\n",
      "ExitCodeException exitCode=1: kinit: Ticket expired while renewing credentials\n",
      "\n",
      "\tat org.apache.hadoop.util.Shell.runCommand(Shell.java:998)\n",
      "\tat org.apache.hadoop.util.Shell.run(Shell.java:884)\n",
      "\tat org.apache.hadoop.util.Shell$ShellCommandExecutor.execute(Shell.java:1216)\n",
      "\tat org.apache.hadoop.util.Shell.execCommand(Shell.java:1310)\n",
      "\tat org.apache.hadoop.util.Shell.execCommand(Shell.java:1292)\n",
      "\tat org.apache.hadoop.security.UserGroupInformation$1.run(UserGroupInformation.java:1003)\n",
      "\tat java.lang.Thread.run(Thread.java:750)\n",
      "22/10/19 21:07:04 ERROR UserGroupInformation: TGT is expired. Aborting renew thread for neilpquinn-wmf@WIKIMEDIA.\n"
     ]
    }
   ],
   "source": [
    "wmf.spark.run(\"\"\"\n",
    "SELECT\n",
    "    user_id,\n",
    "    user_name\n",
    "FROM wmf_raw.mediawiki_user\n",
    "WHERE\n",
    "    user_name IN (\n",
    "        'Mr. \"Turra\"',\n",
    "        'JKl\\\\'',\n",
    "        'Percy%',\n",
    "        'Zyonnoray123\\\\\\\\'\n",
    "    )\n",
    "    AND wiki_db = 'enwiki'\n",
    "    AND snapshot = '2022-09'\n",
    "\"\"\")"
   ]
  }
 ],
 "metadata": {
  "kernelspec": {
   "display_name": "Python 3 (ipykernel)",
   "language": "python",
   "name": "python3"
  },
  "language_info": {
   "codemirror_mode": {
    "name": "ipython",
    "version": 3
   },
   "file_extension": ".py",
   "mimetype": "text/x-python",
   "name": "python",
   "nbconvert_exporter": "python",
   "pygments_lexer": "ipython3",
   "version": "3.7.13"
  }
 },
 "nbformat": 4,
 "nbformat_minor": 5
}
