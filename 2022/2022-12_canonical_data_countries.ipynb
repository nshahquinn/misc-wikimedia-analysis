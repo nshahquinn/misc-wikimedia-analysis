{
 "cells": [
  {
   "cell_type": "code",
   "execution_count": 1,
   "id": "5a240a5d-377a-4835-a8a0-c92bcc8175d9",
   "metadata": {},
   "outputs": [],
   "source": [
    "import wmfdata as wmf"
   ]
  },
  {
   "cell_type": "markdown",
   "id": "b67e3773-4d4e-422c-a02e-ee32b427ee70",
   "metadata": {},
   "source": [
    "Are there any countries which show up in the MaxMind geolocation data which aren't included in our `canonical_data.countries` dataset?"
   ]
  },
  {
   "cell_type": "code",
   "execution_count": 2,
   "id": "ee795d25-0dc9-4682-a796-8d561abf2e96",
   "metadata": {},
   "outputs": [
    {
     "name": "stdout",
     "output_type": "stream",
     "text": [
      "SPARK_HOME: /usr/lib/spark3\n",
      "Using Hadoop client lib jars at 3.2.0, provided by Spark.\n",
      "PYSPARK_PYTHON=/opt/conda-analytics/bin/python3\n"
     ]
    },
    {
     "name": "stderr",
     "output_type": "stream",
     "text": [
      "Setting default log level to \"WARN\".\n",
      "To adjust logging level use sc.setLogLevel(newLevel). For SparkR, use setLogLevel(newLevel).\n",
      "22/12/15 03:11:32 WARN SparkConf: Note that spark.local.dir will be overridden by the value set by the cluster manager (via SPARK_LOCAL_DIRS in mesos/standalone/kubernetes and LOCAL_DIRS in YARN).\n",
      "22/12/15 03:11:32 WARN Utils: Service 'sparkDriver' could not bind on port 12000. Attempting port 12001.\n",
      "22/12/15 03:11:32 WARN Utils: Service 'sparkDriver' could not bind on port 12001. Attempting port 12002.\n",
      "22/12/15 03:11:32 WARN Utils: Service 'sparkDriver' could not bind on port 12002. Attempting port 12003.\n",
      "22/12/15 03:11:32 WARN Utils: Service 'sparkDriver' could not bind on port 12003. Attempting port 12004.\n",
      "22/12/15 03:11:33 WARN Utils: Service 'SparkUI' could not bind on port 4040. Attempting port 4041.\n",
      "22/12/15 03:11:33 WARN Utils: Service 'SparkUI' could not bind on port 4041. Attempting port 4042.\n",
      "22/12/15 03:11:33 WARN Utils: Service 'SparkUI' could not bind on port 4042. Attempting port 4043.\n",
      "22/12/15 03:11:33 WARN Utils: Service 'SparkUI' could not bind on port 4043. Attempting port 4044.\n",
      "22/12/15 03:11:41 WARN Utils: Service 'org.apache.spark.network.netty.NettyBlockTransferService' could not bind on port 13000. Attempting port 13001.\n",
      "22/12/15 03:11:41 WARN Utils: Service 'org.apache.spark.network.netty.NettyBlockTransferService' could not bind on port 13001. Attempting port 13002.\n",
      "22/12/15 03:11:41 WARN Utils: Service 'org.apache.spark.network.netty.NettyBlockTransferService' could not bind on port 13002. Attempting port 13003.\n",
      "22/12/15 03:11:41 WARN Utils: Service 'org.apache.spark.network.netty.NettyBlockTransferService' could not bind on port 13003. Attempting port 13004.\n",
      "22/12/15 03:11:45 WARN SessionState: METASTORE_FILTER_HOOK will be ignored, since hive.security.authorization.manager is set to instance of HiveAuthorizerFactory.\n",
      "22/12/15 03:11:57 WARN NioEventLoop: Selector.select() returned prematurely 512 times in a row; rebuilding Selector io.netty.channel.nio.SelectedSelectionKeySetSelector@733a02f6.\n",
      "22/12/15 03:11:58 WARN NioEventLoop: Selector.select() returned prematurely 512 times in a row; rebuilding Selector io.netty.channel.nio.SelectedSelectionKeySetSelector@3761b85d.\n",
      "                                                                                \r"
     ]
    }
   ],
   "source": [
    "pageview_country = wmf.spark.run(\"\"\"\n",
    "SELECT DISTINCT\n",
    "    continent,\n",
    "    country_code,\n",
    "    country\n",
    "FROM wmf.pageview_hourly\n",
    "WHERE\n",
    "    year = 2022\n",
    "    AND month = 11\n",
    "\"\"\")"
   ]
  },
  {
   "cell_type": "code",
   "execution_count": 3,
   "id": "1777aaf8-53c8-48c3-962f-7660f7056b19",
   "metadata": {},
   "outputs": [
    {
     "name": "stderr",
     "output_type": "stream",
     "text": [
      "                                                                                \r"
     ]
    }
   ],
   "source": [
    "canonical_data_country = wmf.spark.run(\"\"\"\n",
    "SELECT *\n",
    "FROM canonical_data.countries\n",
    "\"\"\")"
   ]
  },
  {
   "cell_type": "code",
   "execution_count": 9,
   "id": "0cc0ef92-d7a2-42ac-809f-e04f3e2395bb",
   "metadata": {},
   "outputs": [],
   "source": [
    "merged = pageview_country.merge(\n",
    "    right=canonical_data_country,\n",
    "    how=\"outer\",\n",
    "    left_on=\"country_code\",\n",
    "    right_on=\"iso_code\"\n",
    ")"
   ]
  },
  {
   "cell_type": "markdown",
   "id": "12f9373f-8300-4ff1-8f7c-5985393c5af6",
   "metadata": {},
   "source": [
    "No, there's nothing missing from the canonical dataset. The four records which didn't match are all countries which are listed in the canonical dataset but didn't show up in the page view data stream in November 2022."
   ]
  },
  {
   "cell_type": "code",
   "execution_count": 15,
   "id": "a1f8d633-7a5e-408b-bbf7-64d6062c9042",
   "metadata": {},
   "outputs": [
    {
     "data": {
      "text/html": [
       "<div>\n",
       "<style scoped>\n",
       "    .dataframe tbody tr th:only-of-type {\n",
       "        vertical-align: middle;\n",
       "    }\n",
       "\n",
       "    .dataframe tbody tr th {\n",
       "        vertical-align: top;\n",
       "    }\n",
       "\n",
       "    .dataframe thead th {\n",
       "        text-align: right;\n",
       "    }\n",
       "</style>\n",
       "<table border=\"1\" class=\"dataframe\">\n",
       "  <thead>\n",
       "    <tr style=\"text-align: right;\">\n",
       "      <th></th>\n",
       "      <th>continent</th>\n",
       "      <th>country_code</th>\n",
       "      <th>country</th>\n",
       "      <th>name</th>\n",
       "      <th>iso_code</th>\n",
       "      <th>economic_region</th>\n",
       "      <th>maxmind_continent</th>\n",
       "    </tr>\n",
       "  </thead>\n",
       "  <tbody>\n",
       "    <tr>\n",
       "      <th>249</th>\n",
       "      <td>NaN</td>\n",
       "      <td>NaN</td>\n",
       "      <td>NaN</td>\n",
       "      <td>Antarctica</td>\n",
       "      <td>AQ</td>\n",
       "      <td>Global South</td>\n",
       "      <td>Antarctica</td>\n",
       "    </tr>\n",
       "    <tr>\n",
       "      <th>250</th>\n",
       "      <td>NaN</td>\n",
       "      <td>NaN</td>\n",
       "      <td>NaN</td>\n",
       "      <td>Bouvet Island</td>\n",
       "      <td>BV</td>\n",
       "      <td>Global North</td>\n",
       "      <td>Antarctica</td>\n",
       "    </tr>\n",
       "    <tr>\n",
       "      <th>251</th>\n",
       "      <td>NaN</td>\n",
       "      <td>NaN</td>\n",
       "      <td>NaN</td>\n",
       "      <td>Heard Island and McDonald Islands</td>\n",
       "      <td>HM</td>\n",
       "      <td>Global South</td>\n",
       "      <td>Antarctica</td>\n",
       "    </tr>\n",
       "    <tr>\n",
       "      <th>252</th>\n",
       "      <td>NaN</td>\n",
       "      <td>NaN</td>\n",
       "      <td>NaN</td>\n",
       "      <td>South Georgia and the South Sandwich Islands</td>\n",
       "      <td>GS</td>\n",
       "      <td>Global South</td>\n",
       "      <td>Antarctica</td>\n",
       "    </tr>\n",
       "  </tbody>\n",
       "</table>\n",
       "</div>"
      ],
      "text/plain": [
       "    continent country_code country  \\\n",
       "249       NaN          NaN     NaN   \n",
       "250       NaN          NaN     NaN   \n",
       "251       NaN          NaN     NaN   \n",
       "252       NaN          NaN     NaN   \n",
       "\n",
       "                                             name iso_code economic_region  \\\n",
       "249                                    Antarctica       AQ    Global South   \n",
       "250                                 Bouvet Island       BV    Global North   \n",
       "251             Heard Island and McDonald Islands       HM    Global South   \n",
       "252  South Georgia and the South Sandwich Islands       GS    Global South   \n",
       "\n",
       "    maxmind_continent  \n",
       "249        Antarctica  \n",
       "250        Antarctica  \n",
       "251        Antarctica  \n",
       "252        Antarctica  "
      ]
     },
     "execution_count": 15,
     "metadata": {},
     "output_type": "execute_result"
    }
   ],
   "source": [
    "merged[merged.isnull().any(axis=\"columns\")]"
   ]
  },
  {
   "cell_type": "markdown",
   "id": "a146dd44-473a-4db6-be85-f5cdd2200679",
   "metadata": {},
   "source": [
    "However, a meticulous look through the Wikipedia article [ISO 3166-1 alpha-2](https://en.wikipedia.org/wiki/ISO_3166-1_alpha-2) does show two name changes we should implement (\"Swaziland\" → \"Eswatini\", \"Macedonia\" → \"North Macedonia\") as well as one name we should change for clarity (\"Caribbean Netherlands\" → \"Bonaire, Sint Eustatius, and Saba\", since \"Caribbean Netherlands\" might be taken to include Aruba, Curaçao, and Sint Maarten)."
   ]
  },
  {
   "cell_type": "code",
   "execution_count": null,
   "id": "236babf5-b455-41fb-936c-65f87957aa81",
   "metadata": {},
   "outputs": [],
   "source": []
  }
 ],
 "metadata": {
  "kernelspec": {
   "display_name": "Python 3 (ipykernel)",
   "language": "python",
   "name": "python3"
  },
  "language_info": {
   "codemirror_mode": {
    "name": "ipython",
    "version": 3
   },
   "file_extension": ".py",
   "mimetype": "text/x-python",
   "name": "python",
   "nbconvert_exporter": "python",
   "pygments_lexer": "ipython3",
   "version": "3.10.8"
  }
 },
 "nbformat": 4,
 "nbformat_minor": 5
}
