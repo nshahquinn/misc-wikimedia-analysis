{
 "cells": [
  {
   "cell_type": "code",
   "execution_count": 2,
   "metadata": {},
   "outputs": [],
   "source": [
    "import datetime as dt\n",
    "\n",
    "import wmfdata as wmf"
   ]
  },
  {
   "cell_type": "code",
   "execution_count": null,
   "metadata": {},
   "outputs": [],
   "source": [
    "query_vars = {\n",
    "  pv_start: \"201906\",\n",
    "  pv_end: \"202007\"\n",
    "}"
   ]
  },
  {
   "cell_type": "code",
   "execution_count": null,
   "metadata": {},
   "outputs": [],
   "source": [
    "mud = wmf.hive.run(\"\"\"\n",
    "SELECT\n",
    "    regexp_replace(\n",
    "        regexp_replace(\n",
    "            regexp_replace(domain, \"zero\\\\\\\\.\", \"\"),\n",
    "        '^m\\\\\\\\.', ''),\n",
    "    '\\\\\\\\.m\\\\\\\\.', '.') AS domain_name,\n",
    "  SUM(uniques_estimate) / 12 AS monthly_unique_devices\n",
    "FROM wmf.unique_devices_per_domain_monthly\n",
    "WHERE \n",
    "    CONCAT(year, month) >= \"{pv_start}\" and\n",
    "    CONCAT(year, month) < \"{pv_end}\"\n",
    "GROUP BY    \n",
    "    regexp_replace(\n",
    "        regexp_replace(\n",
    "            regexp_replace(domain, \"zero\\\\\\\\.\", \"\"),\n",
    "        '^m\\\\\\\\.', ''),\n",
    "    '\\\\\\\\.m\\\\\\\\.', '.')\n",
    "\"\"\".format(**query_vars))"
   ]
  },
  {
   "cell_type": "markdown",
   "metadata": {},
   "source": [
    "\n",
    "1st time (2016-06 to 2017-07):\n",
    "* 201**7**1 >= 201**6**06 ✅\n",
    "* 2017**1** < 2017**0**7 ❌\n",
    "\n",
    "2nd and 3rd times (2018-01 to 2019-01):\n",
    "* 2018**1** >= 2018**0**1 ✅\n",
    "* 201**8**1 < 201**9**01 ✅"
   ]
  },
  {
   "cell_type": "code",
   "execution_count": null,
   "metadata": {},
   "outputs": [],
   "source": [
    "start = dt.datetime.strptime(\"2020-01-01\", \"%Y-%m-%d\")\n",
    "end = start + dt.timedelta(days=365)\n",
    "\n",
    "query_vars_2 = dict(\n",
    "    pv_start = start.strftime(\"%Y%m\"),\n",
    "    pv_end = end.strftime(\"%Y%m\"),\n",
    ")"
   ]
  },
  {
   "cell_type": "markdown",
   "metadata": {},
   "source": [
    "Because it's a leap year `end` will be 2020-12-31, _not_ 2021-01-01.\n",
    "\n",
    "Thus, `pv_end` will be 202012 instead of 202101."
   ]
  },
  {
   "cell_type": "markdown",
   "metadata": {},
   "source": [
    "4th times (2020-01 to 2021-01):\n",
    "* 2020**9** >= 2020**0**1 ✅\n",
    "* 2020**9** < 2020**1**2 ❌"
   ]
  },
  {
   "cell_type": "code",
   "execution_count": null,
   "metadata": {},
   "outputs": [],
   "source": []
  }
 ],
 "metadata": {
  "kernelspec": {
   "display_name": "Python 3",
   "language": "python",
   "name": "python3"
  },
  "language_info": {
   "codemirror_mode": {
    "name": "ipython",
    "version": 3
   },
   "file_extension": ".py",
   "mimetype": "text/x-python",
   "name": "python",
   "nbconvert_exporter": "python",
   "pygments_lexer": "ipython3",
   "version": "3.7.10"
  }
 },
 "nbformat": 4,
 "nbformat_minor": 4
}
