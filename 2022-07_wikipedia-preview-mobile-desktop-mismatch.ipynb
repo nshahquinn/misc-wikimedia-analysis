{
 "cells": [
  {
   "cell_type": "code",
   "execution_count": 1,
   "id": "14a40f16",
   "metadata": {},
   "outputs": [],
   "source": [
    "import wmfdata as wmf\n",
    "from wmfdata.utils import pd_display_all"
   ]
  },
  {
   "cell_type": "code",
   "execution_count": null,
   "id": "3f657a58",
   "metadata": {},
   "outputs": [],
   "source": [
    "wp_preview_hits = wmf.spark.run(\"\"\"\n",
    "    SELECT\n",
    "        PARSE_URL(referer, 'HOST') as referring_website,\n",
    "        CASE x_analytics_map['wprov']\n",
    "            WHEN 'wppw1' THEN 'non-touch'\n",
    "            WHEN 'wppw1t' THEN 'touch'\n",
    "        END AS device_type,\n",
    "        IF(is_pageview, 'pageview', 'preview') AS view_type,\n",
    "        access_method\n",
    "    FROM wmf.webrequest\n",
    "    WHERE\n",
    "        year = 2022\n",
    "        AND month = 7\n",
    "        AND day >= 11\n",
    "        AND day < 18\n",
    "        AND webrequest_source = 'text'\n",
    "        AND x_analytics_map['wprov'] IN ('wppw1', 'wppw1t')\n",
    "\"\"\", session_type=\"yarn-large\")"
   ]
  },
  {
   "cell_type": "code",
   "execution_count": 50,
   "id": "2d49dc8b-c7f1-43e5-af6d-33372bd620e4",
   "metadata": {},
   "outputs": [
    {
     "data": {
      "text/html": [
       "<div>\n",
       "<style scoped>\n",
       "    .dataframe tbody tr th:only-of-type {\n",
       "        vertical-align: middle;\n",
       "    }\n",
       "\n",
       "    .dataframe tbody tr th {\n",
       "        vertical-align: top;\n",
       "    }\n",
       "\n",
       "    .dataframe thead th {\n",
       "        text-align: right;\n",
       "    }\n",
       "</style>\n",
       "<table border=\"1\" class=\"dataframe\">\n",
       "  <thead>\n",
       "    <tr style=\"text-align: right;\">\n",
       "      <th></th>\n",
       "      <th>referring_website</th>\n",
       "      <th>device_type</th>\n",
       "      <th>view_type</th>\n",
       "      <th>access_method</th>\n",
       "    </tr>\n",
       "  </thead>\n",
       "  <tbody>\n",
       "    <tr>\n",
       "      <th>0</th>\n",
       "      <td>paynegap.info</td>\n",
       "      <td>non-touch</td>\n",
       "      <td>preview</td>\n",
       "      <td>desktop</td>\n",
       "    </tr>\n",
       "    <tr>\n",
       "      <th>1</th>\n",
       "      <td>sprokkels-en-brokkels.be</td>\n",
       "      <td>non-touch</td>\n",
       "      <td>preview</td>\n",
       "      <td>desktop</td>\n",
       "    </tr>\n",
       "    <tr>\n",
       "      <th>2</th>\n",
       "      <td>sprokkels-en-brokkels.be</td>\n",
       "      <td>non-touch</td>\n",
       "      <td>preview</td>\n",
       "      <td>desktop</td>\n",
       "    </tr>\n",
       "    <tr>\n",
       "      <th>3</th>\n",
       "      <td>www.goodnewsfromindonesia.id</td>\n",
       "      <td>non-touch</td>\n",
       "      <td>preview</td>\n",
       "      <td>desktop</td>\n",
       "    </tr>\n",
       "    <tr>\n",
       "      <th>4</th>\n",
       "      <td>www.lasnuevemusas.com</td>\n",
       "      <td>non-touch</td>\n",
       "      <td>preview</td>\n",
       "      <td>desktop</td>\n",
       "    </tr>\n",
       "    <tr>\n",
       "      <th>...</th>\n",
       "      <td>...</td>\n",
       "      <td>...</td>\n",
       "      <td>...</td>\n",
       "      <td>...</td>\n",
       "    </tr>\n",
       "    <tr>\n",
       "      <th>4199</th>\n",
       "      <td>afanporsaber.com</td>\n",
       "      <td>non-touch</td>\n",
       "      <td>preview</td>\n",
       "      <td>desktop</td>\n",
       "    </tr>\n",
       "    <tr>\n",
       "      <th>4200</th>\n",
       "      <td>gcpawards.com</td>\n",
       "      <td>non-touch</td>\n",
       "      <td>preview</td>\n",
       "      <td>desktop</td>\n",
       "    </tr>\n",
       "    <tr>\n",
       "      <th>4201</th>\n",
       "      <td>gcpawards.com</td>\n",
       "      <td>non-touch</td>\n",
       "      <td>preview</td>\n",
       "      <td>desktop</td>\n",
       "    </tr>\n",
       "    <tr>\n",
       "      <th>4202</th>\n",
       "      <td>gcpawards.com</td>\n",
       "      <td>non-touch</td>\n",
       "      <td>preview</td>\n",
       "      <td>desktop</td>\n",
       "    </tr>\n",
       "    <tr>\n",
       "      <th>4203</th>\n",
       "      <td>wikimediafoundation.org</td>\n",
       "      <td>non-touch</td>\n",
       "      <td>preview</td>\n",
       "      <td>desktop</td>\n",
       "    </tr>\n",
       "  </tbody>\n",
       "</table>\n",
       "<p>4204 rows × 4 columns</p>\n",
       "</div>"
      ],
      "text/plain": [
       "                 referring_website device_type view_type access_method\n",
       "0                    paynegap.info   non-touch   preview       desktop\n",
       "1         sprokkels-en-brokkels.be   non-touch   preview       desktop\n",
       "2         sprokkels-en-brokkels.be   non-touch   preview       desktop\n",
       "3     www.goodnewsfromindonesia.id   non-touch   preview       desktop\n",
       "4            www.lasnuevemusas.com   non-touch   preview       desktop\n",
       "...                            ...         ...       ...           ...\n",
       "4199              afanporsaber.com   non-touch   preview       desktop\n",
       "4200                 gcpawards.com   non-touch   preview       desktop\n",
       "4201                 gcpawards.com   non-touch   preview       desktop\n",
       "4202                 gcpawards.com   non-touch   preview       desktop\n",
       "4203       wikimediafoundation.org   non-touch   preview       desktop\n",
       "\n",
       "[4204 rows x 4 columns]"
      ]
     },
     "execution_count": 50,
     "metadata": {},
     "output_type": "execute_result"
    }
   ],
   "source": [
    "wp_preview_hits"
   ]
  },
  {
   "cell_type": "markdown",
   "id": "5dabfd55-11f6-4acd-846b-e9250cb70964",
   "metadata": {},
   "source": [
    "It's expected that all previews are counted as desktop. For pageviews, non-touch mostly corresponds to desktop and touch mostly corresponds to mobile web. This suggests our device classification is working as expected."
   ]
  },
  {
   "cell_type": "code",
   "execution_count": 51,
   "id": "0f057678-a8b6-4428-bb6a-5ffb50997f4f",
   "metadata": {},
   "outputs": [
    {
     "data": {
      "text/plain": [
       "view_type  device_type  access_method\n",
       "pageview   non-touch    desktop            34\n",
       "                        mobile web         15\n",
       "           touch        mobile web        327\n",
       "preview    non-touch    desktop          3559\n",
       "           touch        desktop           256\n",
       "                        mobile app          7\n",
       "                        mobile web          6\n",
       "dtype: int64"
      ]
     },
     "execution_count": 51,
     "metadata": {},
     "output_type": "execute_result"
    }
   ],
   "source": [
    "wp_preview_hits.groupby([\"view_type\", \"device_type\", \"access_method\"]).size()"
   ]
  },
  {
   "cell_type": "markdown",
   "id": "408dc7e7-6474-4008-b553-d7c9fab75f84",
   "metadata": {},
   "source": [
    "But here's the weird thing: touch devices are supposedly responsible for only a small fraction of previews (7%) but a large marjority of pageviews (87%). That doesn't make much sense.\n",
    "\n",
    "This could theoretically be accurate, but pratically I think it's not possible. For one thing, we actually recorded _more_ pageviews than previews from touch devices; it's possible for a user to click the same link twice, but that can't be happening on such a large scale."
   ]
  },
  {
   "cell_type": "code",
   "execution_count": 52,
   "id": "7deeeb39-4987-475e-95d4-363ba043dd78",
   "metadata": {},
   "outputs": [
    {
     "data": {
      "text/plain": [
       "view_type  device_type\n",
       "pageview   non-touch        49\n",
       "           touch           327\n",
       "preview    non-touch      3559\n",
       "           touch           269\n",
       "dtype: int64"
      ]
     },
     "execution_count": 52,
     "metadata": {},
     "output_type": "execute_result"
    }
   ],
   "source": [
    "wp_preview_hits.groupby([\"view_type\", \"device_type\"]).size()"
   ]
  },
  {
   "cell_type": "markdown",
   "id": "6c8b7eb1-dda5-447a-abde-e123362c3112",
   "metadata": {},
   "source": [
    "This also isn't related to different behaviors between different partner sites. wikimediafoundation.org and diff.wikimedia.org are two of the biggest, and individually each shows a similar pattern."
   ]
  },
  {
   "cell_type": "code",
   "execution_count": 53,
   "id": "bb1edc52-14f7-44f7-a19a-d6219e7bbd14",
   "metadata": {},
   "outputs": [
    {
     "data": {
      "text/plain": [
       "view_type  device_type\n",
       "pageview   non-touch        6\n",
       "           touch          262\n",
       "preview    non-touch      442\n",
       "           touch          104\n",
       "dtype: int64"
      ]
     },
     "execution_count": 53,
     "metadata": {},
     "output_type": "execute_result"
    }
   ],
   "source": [
    "(\n",
    "    wp_preview_hits\n",
    "    .query(\"referring_website == 'wikimediafoundation.org'\")\n",
    "    .groupby([\"view_type\", \"device_type\"])\n",
    "    .size()\n",
    ")"
   ]
  },
  {
   "cell_type": "code",
   "execution_count": 54,
   "id": "466429de-10ff-428d-ada8-63244cc670e0",
   "metadata": {},
   "outputs": [
    {
     "data": {
      "text/plain": [
       "view_type  device_type\n",
       "pageview   non-touch        8\n",
       "           touch           30\n",
       "preview    non-touch      451\n",
       "           touch           57\n",
       "dtype: int64"
      ]
     },
     "execution_count": 54,
     "metadata": {},
     "output_type": "execute_result"
    }
   ],
   "source": [
    "(\n",
    "    wp_preview_hits\n",
    "    .query(\"referring_website == 'diff.wikimedia.org'\")\n",
    "    .groupby([\"view_type\", \"device_type\"])\n",
    "    .size()\n",
    ")"
   ]
  },
  {
   "cell_type": "markdown",
   "id": "7f9d9770-91dd-47d9-a982-ceaa9ff9e39a",
   "metadata": {},
   "source": [
    "Keynerd.it is still using v1.4.0, so it's expected that they wouldn't record any touch devices."
   ]
  },
  {
   "cell_type": "code",
   "execution_count": 55,
   "id": "ba902c38-f9b8-4d32-ae9c-b5c8e10f20bb",
   "metadata": {},
   "outputs": [
    {
     "data": {
      "text/plain": [
       "view_type  device_type\n",
       "pageview   non-touch        2\n",
       "preview    non-touch      508\n",
       "dtype: int64"
      ]
     },
     "execution_count": 55,
     "metadata": {},
     "output_type": "execute_result"
    }
   ],
   "source": [
    "(\n",
    "    wp_preview_hits\n",
    "    .query(\"referring_website == 'keynerd.it'\")\n",
    "    .groupby([\"view_type\", \"device_type\"])\n",
    "    .size()\n",
    ")"
   ]
  },
  {
   "cell_type": "code",
   "execution_count": 56,
   "id": "7b58da79-6d9a-4343-b4ab-663cb655f79d",
   "metadata": {},
   "outputs": [
    {
     "data": {
      "text/plain": [
       "view_type  device_type\n",
       "preview    non-touch      139\n",
       "           touch            3\n",
       "dtype: int64"
      ]
     },
     "execution_count": 56,
     "metadata": {},
     "output_type": "execute_result"
    }
   ],
   "source": [
    "(\n",
    "    wp_preview_hits\n",
    "    .query(\"referring_website == 'stehn-online.de'\")\n",
    "    .groupby([\"view_type\", \"device_type\"])\n",
    "    .size()\n",
    ")"
   ]
  },
  {
   "cell_type": "markdown",
   "id": "53afcf1e-a648-4995-abee-e20ad6caaaf1",
   "metadata": {},
   "source": [
    "Hmm, lumion.pl is running v1.4.4, so they should be recording touch where appropriate. Maybe they _just_ updated? Or maybe they literally have no touch traffic. That seems hard to believe, though."
   ]
  },
  {
   "cell_type": "code",
   "execution_count": 57,
   "id": "576ba383-003c-483c-9905-c8ac24797dac",
   "metadata": {},
   "outputs": [
    {
     "data": {
      "text/plain": [
       "view_type  device_type\n",
       "preview    non-touch      129\n",
       "dtype: int64"
      ]
     },
     "execution_count": 57,
     "metadata": {},
     "output_type": "execute_result"
    }
   ],
   "source": [
    "(\n",
    "    wp_preview_hits\n",
    "    .query(\"referring_website == 'lumion.pl'\")\n",
    "    .groupby([\"view_type\", \"device_type\"])\n",
    "    .size()\n",
    ")"
   ]
  },
  {
   "cell_type": "markdown",
   "id": "1f34b4d3-674d-4fe6-a03b-a7c4af461d19",
   "metadata": {},
   "source": [
    "No pageviews from lasnuevemusas.com either. This strategy doesn't seem to be helping; I can't find a non-Wikimedia website that shows _either_ the messed-up traffic pattern or a normal one."
   ]
  },
  {
   "cell_type": "code",
   "execution_count": 58,
   "id": "738a1534-d05c-4f47-b710-6dbd191bc1ff",
   "metadata": {},
   "outputs": [
    {
     "data": {
      "text/plain": [
       "view_type  device_type\n",
       "preview    non-touch      158\n",
       "           touch            6\n",
       "dtype: int64"
      ]
     },
     "execution_count": 58,
     "metadata": {},
     "output_type": "execute_result"
    }
   ],
   "source": [
    "(\n",
    "    wp_preview_hits\n",
    "    .query(\"referring_website == 'www.lasnuevemusas.com'\")\n",
    "    .groupby([\"view_type\", \"device_type\"])\n",
    "    .size()\n",
    ")"
   ]
  },
  {
   "cell_type": "code",
   "execution_count": null,
   "id": "da403687-0052-4913-89bf-a076da2af812",
   "metadata": {
    "scrolled": true,
    "tags": []
   },
   "outputs": [],
   "source": [
    "wp_preview_hits_private = wmf.spark.run(\"\"\"\n",
    "    SELECT\n",
    "        PARSE_URL(referer, 'HOST') as referring_website,\n",
    "        CASE x_analytics_map['wprov']\n",
    "            WHEN 'wppw1' THEN 'non-touch'\n",
    "            WHEN 'wppw1t' THEN 'touch'\n",
    "        END AS device_type,\n",
    "        IF(is_pageview, 'pageview', 'preview') AS view_type,\n",
    "        access_method,\n",
    "        uri_host,\n",
    "        uri_path,\n",
    "        uri_query,\n",
    "        client_ip,\n",
    "        user_agent,\n",
    "        user_agent_map\n",
    "    FROM wmf.webrequest\n",
    "    WHERE\n",
    "        year = 2022\n",
    "        AND month = 7\n",
    "        AND day >= 11\n",
    "        AND day < 18\n",
    "        AND webrequest_source = 'text'\n",
    "        AND x_analytics_map['wprov'] IN ('wppw1', 'wppw1t')\n",
    "\"\"\", session_type=\"yarn-large\")"
   ]
  },
  {
   "cell_type": "markdown",
   "id": "f60982bf-e6f4-4f57-91c3-5cfda6f24f38",
   "metadata": {},
   "source": [
    "Random sample of 100 touch page views: \n",
    "* Definite computers: #76, #1681, #290, #651, #3740, #792, #3375, #557\n",
    "* Possible computer: #3008, #3407, #4036, #4160\n",
    "* Neither: #2035 (Google Read Aloud), #3638 (GRA)\n",
    "\n",
    "However, this misclassification still wouldn't explain the issue. The corresponding pageviews would also be classified as touch."
   ]
  },
  {
   "cell_type": "code",
   "execution_count": null,
   "id": "0d56757d-d018-46a6-8dbc-31ee7676931e",
   "metadata": {
    "scrolled": true,
    "tags": []
   },
   "outputs": [],
   "source": [
    "(\n",
    "    wp_preview_hits_private\n",
    "    [[\"client_ip\", \"referring_website\", \"device_type\", \"view_type\", \"uri_path\", \"user_agent_map\", \"user_agent\"]]\n",
    "    .query(\"device_type == 'touch' and view_type == 'pageview'\")\n",
    "    .sample(100)\n",
    "    .pipe(pd_display_all)\n",
    "    \n",
    ")"
   ]
  },
  {
   "cell_type": "markdown",
   "id": "0932f8b2-90ef-4ae2-90de-eb1b222d3041",
   "metadata": {},
   "source": [
    "Random sample of 100 non-touch previews:\n",
    "* Definite phone: #1484, #276, #71, #1282, #2012, #848, #1892, #1664, #3626, #404, \t#3295, #1042, #39, #2812, #215\n",
    "* Old version: #2859\n",
    "* Bot: #852, #858\n",
    "\n",
    "As before, this shows problems with our classification scheme but doesn't explain the main issue."
   ]
  },
  {
   "cell_type": "code",
   "execution_count": null,
   "id": "72c4f814-2d18-4e2a-96a6-8bbb0e36104d",
   "metadata": {},
   "outputs": [],
   "source": [
    "(\n",
    "    wp_preview_hits_private\n",
    "    [[\"client_ip\", \"referring_website\", \"device_type\", \"view_type\", \"uri_path\", \"user_agent_map\", \"user_agent\"]]\n",
    "    .query(\"device_type == 'non-touch' and view_type == 'preview'\")\n",
    "    .query(\"referring_website not in ('keynerd.it')\")\n",
    "    .sample(100, random_state=4138)\n",
    "    .pipe(pd_display_all)\n",
    ")"
   ]
  },
  {
   "cell_type": "markdown",
   "id": "9de0b218-a6c8-4995-8044-012f17ce7a24",
   "metadata": {},
   "source": [
    "Ah ha! It looks like a lot of pageviews (both touch and non-touch) don't have corresponding previews from the same IP address. Moreover, in all these cases, the page at issue is outside the main namespace. This clearly seems like a bug in the library. It also makes sense that we might overlook this; normally, non-mainspace pages would be a tiny edge case, but since our traffic is currently dominated by two Wikimedia sites, it has a major effect."
   ]
  },
  {
   "cell_type": "code",
   "execution_count": null,
   "id": "615f32d6-054c-49ec-9541-56ab71212cc0",
   "metadata": {},
   "outputs": [],
   "source": [
    "pageview_ips = (\n",
    "    wp_preview_hits_private\n",
    "    .query(\"view_type == 'pageview'\")\n",
    "    [\"client_ip\"]\n",
    "    .unique()\n",
    ")\n",
    "\n",
    "(\n",
    "    wp_preview_hits_private\n",
    "    .query(\"client_ip in @pageview_ips and device_type == 'non-touch'\")\n",
    "    .sort_values(\"client_ip\")\n",
    "    [[\"client_ip\", \"referring_website\", \"view_type\", \"uri_path\"]]\n",
    "    .pipe(pd_display_all)\n",
    ")"
   ]
  },
  {
   "cell_type": "code",
   "execution_count": null,
   "id": "3296789f-645c-4a7c-b71c-3a2f5ded26e6",
   "metadata": {},
   "outputs": [],
   "source": [
    "(\n",
    "    wp_preview_hits_private\n",
    "    .query(\"client_ip in @pageview_ips and device_type == 'touch'\")\n",
    "    .sort_values(\"client_ip\")\n",
    "    [[\"client_ip\", \"referring_website\", \"view_type\", \"uri_path\"]]\n",
    "    .pipe(pd_display_all)\n",
    ")"
   ]
  },
  {
   "cell_type": "code",
   "execution_count": 3,
   "id": "38b83ef7-0697-4a59-92cc-56b1f4b638a3",
   "metadata": {},
   "outputs": [
    {
     "name": "stderr",
     "output_type": "stream",
     "text": [
      "PySpark executors will use /usr/lib/anaconda-wmf/bin/python3.\n",
      "22/07/21 23:23:36 WARN Utils: Truncated the string representation of a plan since it was too large. This behavior can be adjusted by setting 'spark.debug.maxToStringFields' in SparkEnv.conf.\n",
      "                                                                                \r"
     ]
    }
   ],
   "source": [
    "test_hit_range = wmf.spark.run(\"\"\"\n",
    "    SELECT\n",
    "        client_ip,\n",
    "        uri_path,\n",
    "        uri_query\n",
    "    FROM wmf.webrequest\n",
    "    WHERE\n",
    "        year = 2022\n",
    "        AND month = 7\n",
    "        AND day = 21\n",
    "        AND hour = 0\n",
    "        AND webrequest_source = 'text'\n",
    "        AND uri_host = 'en.wikipedia.org'\n",
    "        AND x_analytics_map['wprov'] IN ('wppw1', 'wppw1t')\n",
    "\"\"\", session_type=\"yarn-large\")"
   ]
  },
  {
   "cell_type": "markdown",
   "id": "6fd5790e-d55f-4ce8-84e5-2d98d7c3051a",
   "metadata": {},
   "source": [
    "Row 4 is a test call I made which added our `wprov` parameter to the type of API call we use for non-mainspace pages. It looks like it got passed through with no problem, so we could just fix the data by doing that."
   ]
  },
  {
   "cell_type": "code",
   "execution_count": 7,
   "id": "2d94959d-c06c-42de-b7e6-d3b287ea2669",
   "metadata": {},
   "outputs": [
    {
     "data": {
      "text/html": [
       "<div>\n",
       "<style scoped>\n",
       "    .dataframe tbody tr th:only-of-type {\n",
       "        vertical-align: middle;\n",
       "    }\n",
       "\n",
       "    .dataframe tbody tr th {\n",
       "        vertical-align: top;\n",
       "    }\n",
       "\n",
       "    .dataframe thead th {\n",
       "        text-align: right;\n",
       "    }\n",
       "</style>\n",
       "<table border=\"1\" class=\"dataframe\">\n",
       "  <thead>\n",
       "    <tr style=\"text-align: right;\">\n",
       "      <th></th>\n",
       "      <th>uri_path</th>\n",
       "      <th>uri_query</th>\n",
       "    </tr>\n",
       "  </thead>\n",
       "  <tbody>\n",
       "    <tr>\n",
       "      <th>0</th>\n",
       "      <td>/api/rest_v1/page/summary/Accessibility_for_Ontarians_with_Disabilities_Act%2C_2005</td>\n",
       "      <td>?wprov=wppw1</td>\n",
       "    </tr>\n",
       "    <tr>\n",
       "      <th>1</th>\n",
       "      <td>/api/rest_v1/page/summary/Francis%20Bacon</td>\n",
       "      <td>?wprov=wppw1</td>\n",
       "    </tr>\n",
       "    <tr>\n",
       "      <th>2</th>\n",
       "      <td>/api/rest_v1/page/summary/Web_Content_Accessibility_Guidelines</td>\n",
       "      <td>?wprov=wppw1</td>\n",
       "    </tr>\n",
       "    <tr>\n",
       "      <th>3</th>\n",
       "      <td>/api/rest_v1/page/summary/Linked_data</td>\n",
       "      <td>?wprov=wppw1</td>\n",
       "    </tr>\n",
       "    <tr>\n",
       "      <th>4</th>\n",
       "      <td>/w/api.php</td>\n",
       "      <td>?format=json&amp;formatversion=2&amp;origin=*&amp;action=query&amp;prop=extracts|pageimages&amp;exsentences=4&amp;explaintext=1&amp;exsectionformat=plain&amp;piprop=thumbnail&amp;pilimit=1&amp;titles=Wikipedia%3AConflict_of_interest&amp;wprov=wppw1</td>\n",
       "    </tr>\n",
       "    <tr>\n",
       "      <th>5</th>\n",
       "      <td>/api/rest_v1/page/summary/Americans_with_Disabilities_Act_of_1990</td>\n",
       "      <td>?wprov=wppw1</td>\n",
       "    </tr>\n",
       "    <tr>\n",
       "      <th>6</th>\n",
       "      <td>/api/rest_v1/page/summary/Steganography</td>\n",
       "      <td>?wprov=wppw1</td>\n",
       "    </tr>\n",
       "    <tr>\n",
       "      <th>7</th>\n",
       "      <td>/api/rest_v1/page/summary/Open_knowledge</td>\n",
       "      <td>?wprov=wppw1</td>\n",
       "    </tr>\n",
       "    <tr>\n",
       "      <th>8</th>\n",
       "      <td>/api/rest_v1/page/summary/Wiki</td>\n",
       "      <td>?wprov=wppw1</td>\n",
       "    </tr>\n",
       "  </tbody>\n",
       "</table>\n",
       "</div>"
      ],
      "text/plain": [
       "                                                                              uri_path  \\\n",
       "0  /api/rest_v1/page/summary/Accessibility_for_Ontarians_with_Disabilities_Act%2C_2005   \n",
       "1  /api/rest_v1/page/summary/Francis%20Bacon                                             \n",
       "2  /api/rest_v1/page/summary/Web_Content_Accessibility_Guidelines                        \n",
       "3  /api/rest_v1/page/summary/Linked_data                                                 \n",
       "4  /w/api.php                                                                            \n",
       "5  /api/rest_v1/page/summary/Americans_with_Disabilities_Act_of_1990                     \n",
       "6  /api/rest_v1/page/summary/Steganography                                               \n",
       "7  /api/rest_v1/page/summary/Open_knowledge                                              \n",
       "8  /api/rest_v1/page/summary/Wiki                                                        \n",
       "\n",
       "                                                                                                                                                                                                      uri_query  \n",
       "0  ?wprov=wppw1                                                                                                                                                                                                  \n",
       "1  ?wprov=wppw1                                                                                                                                                                                                  \n",
       "2  ?wprov=wppw1                                                                                                                                                                                                  \n",
       "3  ?wprov=wppw1                                                                                                                                                                                                  \n",
       "4  ?format=json&formatversion=2&origin=*&action=query&prop=extracts|pageimages&exsentences=4&explaintext=1&exsectionformat=plain&piprop=thumbnail&pilimit=1&titles=Wikipedia%3AConflict_of_interest&wprov=wppw1  \n",
       "5  ?wprov=wppw1                                                                                                                                                                                                  \n",
       "6  ?wprov=wppw1                                                                                                                                                                                                  \n",
       "7  ?wprov=wppw1                                                                                                                                                                                                  \n",
       "8  ?wprov=wppw1                                                                                                                                                                                                  "
      ]
     },
     "metadata": {},
     "output_type": "display_data"
    }
   ],
   "source": [
    "test_hit_range[[\"uri_path\", \"uri_query\"]].pipe(pd_display_all)"
   ]
  }
 ],
 "metadata": {
  "kernelspec": {
   "display_name": "Python 3 (ipykernel)",
   "language": "python",
   "name": "python3"
  },
  "language_info": {
   "codemirror_mode": {
    "name": "ipython",
    "version": 3
   },
   "file_extension": ".py",
   "mimetype": "text/x-python",
   "name": "python",
   "nbconvert_exporter": "python",
   "pygments_lexer": "ipython3",
   "version": "3.7.6"
  }
 },
 "nbformat": 4,
 "nbformat_minor": 5
}
